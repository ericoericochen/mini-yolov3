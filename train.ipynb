{
 "cells": [
  {
   "cell_type": "code",
   "execution_count": 1,
   "metadata": {},
   "outputs": [],
   "source": [
    "%load_ext autoreload\n",
    "%autoreload 2"
   ]
  },
  {
   "cell_type": "code",
   "execution_count": 2,
   "metadata": {},
   "outputs": [
    {
     "name": "stderr",
     "output_type": "stream",
     "text": [
      "/Users/ericchen/Library/Caches/pypoetry/virtualenvs/mini-yolov3-a3VRlvzj-py3.10/lib/python3.10/site-packages/tqdm/auto.py:21: TqdmWarning: IProgress not found. Please update jupyter and ipywidgets. See https://ipywidgets.readthedocs.io/en/stable/user_install.html\n",
      "  from .autonotebook import tqdm as notebook_tqdm\n"
     ]
    }
   ],
   "source": [
    "from mini_yolov3.model import MiniYOLOV3\n",
    "from mini_yolov3.trainer import Trainer\n",
    "import torch\n",
    "from torchvision.transforms import v2\n",
    "from mini_yolov3.dataset import SVHNDataset\n",
    "from torch.utils.data import Subset"
   ]
  },
  {
   "cell_type": "code",
   "execution_count": 3,
   "metadata": {},
   "outputs": [],
   "source": [
    "anchors = torch.Tensor([[0.2, 0.8]])"
   ]
  },
  {
   "cell_type": "code",
   "execution_count": 4,
   "metadata": {},
   "outputs": [
    {
     "data": {
      "text/plain": [
       "MiniYOLOV3(\n",
       "  (conv): Sequential(\n",
       "    (0): Conv2d(3, 32, kernel_size=(3, 3), stride=(2, 2), padding=(1, 1))\n",
       "    (1): ReLU()\n",
       "    (2): LayerNorm((16,), eps=1e-05, elementwise_affine=True)\n",
       "    (3): Conv2d(32, 32, kernel_size=(3, 3), stride=(2, 2), padding=(1, 1))\n",
       "    (4): ReLU()\n",
       "    (5): Conv2d(32, 15, kernel_size=(3, 3), stride=(2, 2), padding=(1, 1))\n",
       "  )\n",
       ")"
      ]
     },
     "execution_count": 4,
     "metadata": {},
     "output_type": "execute_result"
    }
   ],
   "source": [
    "model = MiniYOLOV3(\n",
    "    image_size=32,\n",
    "    num_classes=10,\n",
    "    anchors=anchors\n",
    ")\n",
    "\n",
    "model.to(\"mps\")"
   ]
  },
  {
   "cell_type": "code",
   "execution_count": 5,
   "metadata": {},
   "outputs": [
    {
     "name": "stderr",
     "output_type": "stream",
     "text": [
      "/Users/ericchen/Library/Caches/pypoetry/virtualenvs/mini-yolov3-a3VRlvzj-py3.10/lib/python3.10/site-packages/torchvision/transforms/v2/_deprecated.py:41: UserWarning: The transform `ToTensor()` is deprecated and will be removed in a future release. Instead, please use `v2.Compose([v2.ToImage(), v2.ToDtype(torch.float32, scale=True)])`.\n",
      "  warnings.warn(\n"
     ]
    }
   ],
   "source": [
    "train_dataset = SVHNDataset(split=\"train\", image_transform=v2.Compose([\n",
    "                        v2.ToTensor(),\n",
    "                        v2.Resize((32, 32))  \n",
    "                      ]))\n",
    "train_dataset = Subset(train_dataset, range(1))"
   ]
  },
  {
   "cell_type": "code",
   "execution_count": 6,
   "metadata": {},
   "outputs": [
    {
     "data": {
      "text/plain": [
       "tensor([[0.3551, 0.0217, 0.1963, 0.8696],\n",
       "        [0.5327, 0.0652, 0.1495, 0.8696]])"
      ]
     },
     "execution_count": 6,
     "metadata": {},
     "output_type": "execute_result"
    }
   ],
   "source": [
    "train_dataset[0][\"bbox\"]"
   ]
  },
  {
   "cell_type": "code",
   "execution_count": 7,
   "metadata": {},
   "outputs": [],
   "source": [
    "trainer = Trainer(\n",
    "    model=model,\n",
    "    train_dataset=train_dataset,\n",
    "    num_epochs=5,\n",
    "    lr=3e-4,\n",
    "    lambda_coord=5.0,\n",
    "    lambda_noobj=0.5\n",
    ")"
   ]
  },
  {
   "cell_type": "code",
   "execution_count": 8,
   "metadata": {},
   "outputs": [
    {
     "name": "stderr",
     "output_type": "stream",
     "text": [
      "  0%|          | 0/5 [00:00<?, ?it/s]"
     ]
    },
    {
     "name": "stdout",
     "output_type": "stream",
     "text": [
      "pred:  tensor([[ 0.4471,  0.4353,  0.0988,  0.0919],\n",
      "        [ 0.5109,  0.4891, -0.0147,  0.0146]], device='mps:0',\n",
      "       grad_fn=<AsStridedBackward0>)\n",
      "target:  tensor([[ 2.0327e-01,  2.0652e-01, -1.8869e-02,  8.3382e-02],\n",
      "        [ 1.0748e-01,  1.0000e-08, -2.9080e-01,  8.3382e-02]], device='mps:0')\n"
     ]
    },
    {
     "name": "stderr",
     "output_type": "stream",
     "text": [
      "100%|██████████| 5/5 [00:00<00:00,  5.07it/s, loss=1.75]"
     ]
    },
    {
     "name": "stdout",
     "output_type": "stream",
     "text": [
      "pred:  tensor([[ 0.4413,  0.4354,  0.0940,  0.0715],\n",
      "        [ 0.5058,  0.4856, -0.0308,  0.0161]], device='mps:0',\n",
      "       grad_fn=<AsStridedBackward0>)\n",
      "target:  tensor([[ 2.0327e-01,  2.0652e-01, -1.8869e-02,  8.3382e-02],\n",
      "        [ 1.0748e-01,  1.0000e-08, -2.9080e-01,  8.3382e-02]], device='mps:0')\n",
      "pred:  tensor([[ 0.4319,  0.4310,  0.0814,  0.0549],\n",
      "        [ 0.5037,  0.4852, -0.0444,  0.0171]], device='mps:0',\n",
      "       grad_fn=<AsStridedBackward0>)\n",
      "target:  tensor([[ 2.0327e-01,  2.0652e-01, -1.8869e-02,  8.3382e-02],\n",
      "        [ 1.0748e-01,  1.0000e-08, -2.9080e-01,  8.3382e-02]], device='mps:0')\n",
      "pred:  tensor([[ 0.4229,  0.4264,  0.0721,  0.0406],\n",
      "        [ 0.5010,  0.4856, -0.0483,  0.0136]], device='mps:0',\n",
      "       grad_fn=<AsStridedBackward0>)\n",
      "target:  tensor([[ 2.0327e-01,  2.0652e-01, -1.8869e-02,  8.3382e-02],\n",
      "        [ 1.0748e-01,  1.0000e-08, -2.9080e-01,  8.3382e-02]], device='mps:0')\n",
      "pred:  tensor([[ 0.4142,  0.4234,  0.0682,  0.0250],\n",
      "        [ 0.4966,  0.4846, -0.0562,  0.0054]], device='mps:0',\n",
      "       grad_fn=<AsStridedBackward0>)\n",
      "target:  tensor([[ 2.0327e-01,  2.0652e-01, -1.8869e-02,  8.3382e-02],\n",
      "        [ 1.0748e-01,  1.0000e-08, -2.9080e-01,  8.3382e-02]], device='mps:0')\n"
     ]
    },
    {
     "name": "stderr",
     "output_type": "stream",
     "text": [
      "\n"
     ]
    },
    {
     "data": {
      "text/plain": [
       "[1.7461978197097778,\n",
       " 1.7397525310516357,\n",
       " 1.7399100065231323,\n",
       " 1.7446318864822388,\n",
       " 1.7473220825195312]"
      ]
     },
     "execution_count": 8,
     "metadata": {},
     "output_type": "execute_result"
    }
   ],
   "source": [
    "trainer.train()"
   ]
  },
  {
   "cell_type": "code",
   "execution_count": null,
   "metadata": {},
   "outputs": [],
   "source": []
  }
 ],
 "metadata": {
  "kernelspec": {
   "display_name": "mini-yolov3-a3VRlvzj-py3.10",
   "language": "python",
   "name": "python3"
  },
  "language_info": {
   "codemirror_mode": {
    "name": "ipython",
    "version": 3
   },
   "file_extension": ".py",
   "mimetype": "text/x-python",
   "name": "python",
   "nbconvert_exporter": "python",
   "pygments_lexer": "ipython3",
   "version": "3.10.13"
  }
 },
 "nbformat": 4,
 "nbformat_minor": 2
}
