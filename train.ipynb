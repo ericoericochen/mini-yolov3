{
 "cells": [
  {
   "cell_type": "code",
   "execution_count": 62,
   "metadata": {},
   "outputs": [
    {
     "name": "stdout",
     "output_type": "stream",
     "text": [
      "The autoreload extension is already loaded. To reload it, use:\n",
      "  %reload_ext autoreload\n"
     ]
    }
   ],
   "source": [
    "%load_ext autoreload\n",
    "%autoreload 2"
   ]
  },
  {
   "cell_type": "code",
   "execution_count": 63,
   "metadata": {},
   "outputs": [],
   "source": [
    "from mini_yolov3.model import MiniYoloV3\n",
    "from mini_yolov3.trainer import Trainer\n",
    "import torch\n",
    "from torchvision.transforms import v2\n",
    "from mini_yolov3.dataset import SVHNDataset, collate_fn\n",
    "from torch.utils.data import Subset, DataLoader\n",
    "from mini_yolov3.loss import YOLOLoss, build_targets\n",
    "import matplotlib.pyplot as plt\n",
    "from mini_yolov3.utils import draw_bounding_boxes\n",
    "from torchvision.ops import box_convert\n",
    "from mini_yolov3.evals import calculate_mAP\n",
    "from torchvision.ops import box_iou\n",
    "from tqdm import tqdm"
   ]
  },
  {
   "cell_type": "code",
   "execution_count": 64,
   "metadata": {},
   "outputs": [],
   "source": [
    "train_dataset = SVHNDataset(split=\"train\")\n",
    "# train_dataset = Subset(train_dataset, range(12, 13))\n",
    "train_dataset = Subset(train_dataset, range(0, 2))"
   ]
  },
  {
   "cell_type": "code",
   "execution_count": 65,
   "metadata": {},
   "outputs": [
    {
     "data": {
      "text/plain": [
       "tensor([[0.3551, 0.0217, 0.1963, 0.8696],\n",
       "        [0.5327, 0.0652, 0.1495, 0.8696]])"
      ]
     },
     "execution_count": 65,
     "metadata": {},
     "output_type": "execute_result"
    }
   ],
   "source": [
    "train_dataset[0][\"bbox\"]"
   ]
  },
  {
   "cell_type": "code",
   "execution_count": 66,
   "metadata": {},
   "outputs": [
    {
     "data": {
      "text/plain": [
       "<matplotlib.image.AxesImage at 0x2b2c8eb60>"
      ]
     },
     "execution_count": 66,
     "metadata": {},
     "output_type": "execute_result"
    },
    {
     "data": {
      "image/png": "[encoded data removed]",
      "text/plain": [
       "<Figure size 640x480 with 1 Axes>"
      ]
     },
     "metadata": {},
     "output_type": "display_data"
    }
   ],
   "source": [
    "plt.imshow(train_dataset[0][\"image\"].permute(1, 2, 0))"
   ]
  },
  {
   "cell_type": "code",
   "execution_count": 67,
   "metadata": {},
   "outputs": [
    {
     "data": {
      "text/plain": [
       "<matplotlib.image.AxesImage at 0x2b2ba9d20>"
      ]
     },
     "execution_count": 67,
     "metadata": {},
     "output_type": "execute_result"
    },
    {
     "data": {
      "image/png": "[encoded data removed]",
      "text/plain": [
       "<Figure size 640x480 with 1 Axes>"
      ]
     },
     "metadata": {},
     "output_type": "display_data"
    }
   ],
   "source": [
    "plt.imshow(\n",
    "    draw_bounding_boxes(train_dataset[0][\"image\"], box_convert(train_dataset[0][\"bbox\"], \"xywh\", \"xyxy\"), train_dataset[0][\"labels\"])\n",
    ")"
   ]
  },
  {
   "cell_type": "code",
   "execution_count": 70,
   "metadata": {},
   "outputs": [],
   "source": [
    "dataloader = DataLoader(train_dataset, batch_size=2, shuffle=True, collate_fn=collate_fn)"
   ]
  },
  {
   "cell_type": "code",
   "execution_count": 71,
   "metadata": {},
   "outputs": [
    {
     "data": {
      "text/plain": [
       "1"
      ]
     },
     "execution_count": 71,
     "metadata": {},
     "output_type": "execute_result"
    }
   ],
   "source": [
    "len(dataloader)"
   ]
  },
  {
   "cell_type": "code",
   "execution_count": 72,
   "metadata": {},
   "outputs": [
    {
     "name": "stdout",
     "output_type": "stream",
     "text": [
      "[tensor([[0.3443, 0.1290, 0.1967, 0.7419],\n",
      "        [0.5082, 0.1613, 0.1639, 0.7419]]), tensor([[0.3551, 0.0217, 0.1963, 0.8696],\n",
      "        [0.5327, 0.0652, 0.1495, 0.8696]])]\n",
      "tensor([[0.4426, 0.5000, 0.1967, 0.7419],\n",
      "        [0.5902, 0.5323, 0.1639, 0.7419]])\n"
     ]
    },
    {
     "ename": "NameError",
     "evalue": "name 'anchors' is not defined",
     "output_type": "error",
     "traceback": [
      "\u001b[0;31m---------------------------------------------------------------------------\u001b[0m",
      "\u001b[0;31mNameError\u001b[0m                                 Traceback (most recent call last)",
      "Cell \u001b[0;32mIn[72], line 4\u001b[0m\n\u001b[1;32m      2\u001b[0m \u001b[38;5;28mprint\u001b[39m(batch[\u001b[38;5;124m\"\u001b[39m\u001b[38;5;124mbboxes\u001b[39m\u001b[38;5;124m\"\u001b[39m])\n\u001b[1;32m      3\u001b[0m \u001b[38;5;28mprint\u001b[39m(box_convert(batch[\u001b[38;5;124m\"\u001b[39m\u001b[38;5;124mbboxes\u001b[39m\u001b[38;5;124m\"\u001b[39m][\u001b[38;5;241m0\u001b[39m], \u001b[38;5;124m\"\u001b[39m\u001b[38;5;124mxywh\u001b[39m\u001b[38;5;124m\"\u001b[39m, \u001b[38;5;124m\"\u001b[39m\u001b[38;5;124mcxcywh\u001b[39m\u001b[38;5;124m\"\u001b[39m))\n\u001b[0;32m----> 4\u001b[0m targets \u001b[38;5;241m=\u001b[39m build_targets(batch[\u001b[38;5;124m\"\u001b[39m\u001b[38;5;124mbboxes\u001b[39m\u001b[38;5;124m\"\u001b[39m], batch[\u001b[38;5;124m\"\u001b[39m\u001b[38;5;124mlabels\u001b[39m\u001b[38;5;124m\"\u001b[39m], (\u001b[38;5;241m2\u001b[39m, \u001b[38;5;241m2\u001b[39m), \u001b[43manchors\u001b[49m, \u001b[38;5;241m10\u001b[39m)\n",
      "\u001b[0;31mNameError\u001b[0m: name 'anchors' is not defined"
     ]
    }
   ],
   "source": [
    "for batch in dataloader:\n",
    "    print(batch[\"bboxes\"])\n",
    "    print(box_convert(batch[\"bboxes\"][0], \"xywh\", \"cxcywh\"))\n",
    "    targets = build_targets(batch[\"bboxes\"], batch[\"labels\"], (2, 2), anchors, 10)"
   ]
  },
  {
   "cell_type": "code",
   "execution_count": 73,
   "metadata": {},
   "outputs": [
    {
     "data": {
      "text/plain": [
       "torch.Size([2, 3, 32, 32])"
      ]
     },
     "execution_count": 73,
     "metadata": {},
     "output_type": "execute_result"
    }
   ],
   "source": [
    "batch[\"images\"].shape"
   ]
  },
  {
   "cell_type": "code",
   "execution_count": 74,
   "metadata": {},
   "outputs": [],
   "source": [
    "import json"
   ]
  },
  {
   "cell_type": "code",
   "execution_count": 96,
   "metadata": {},
   "outputs": [],
   "source": [
    "torch.manual_seed(0)\n",
    "\n",
    "config = json.load(open(\"./configs/experiment.json\", \"r\"))\n",
    "model = MiniYoloV3(**config)\n",
    "\n",
    "trainer = Trainer(\n",
    "    model=model,\n",
    "    train_dataset=train_dataset,\n",
    "    num_epochs=250,\n",
    "    lr=3e-3,\n",
    "    batch_size=64,\n",
    "    lambda_coord=1,\n",
    "    lambda_noobj=1,\n",
    "    device=\"cpu\",\n",
    "    eval_every=100000,\n",
    ")"
   ]
  },
  {
   "cell_type": "code",
   "execution_count": 97,
   "metadata": {},
   "outputs": [
    {
     "name": "stderr",
     "output_type": "stream",
     "text": [
      "100%|██████████| 250/250 [00:39<00:00,  6.30it/s, class_loss=0.00487, conf_loss=0.0142, coord_loss=1.87e-5, loss=0.0191] \n"
     ]
    },
    {
     "data": {
      "text/plain": [
       "[46.000831604003906,\n",
       " 37.088523864746094,\n",
       " 33.30764389038086,\n",
       " 29.196359634399414,\n",
       " 26.999588012695312,\n",
       " 25.37957191467285,\n",
       " 23.671573638916016,\n",
       " 22.2258243560791,\n",
       " 21.04848861694336,\n",
       " 19.99712371826172,\n",
       " 19.019432067871094,\n",
       " 18.094240188598633,\n",
       " 17.21121597290039,\n",
       " 16.370986938476562,\n",
       " 15.574708938598633,\n",
       " 14.822559356689453,\n",
       " 14.113785743713379,\n",
       " 13.441906929016113,\n",
       " 12.803974151611328,\n",
       " 12.183801651000977,\n",
       " 11.58375072479248,\n",
       " 11.002578735351562,\n",
       " 10.438810348510742,\n",
       " 9.89075756072998,\n",
       " 9.356911659240723,\n",
       " 8.836677551269531,\n",
       " 8.329904556274414,\n",
       " 7.836747646331787,\n",
       " 7.357583999633789,\n",
       " 6.893808841705322,\n",
       " 6.447819709777832,\n",
       " 6.022231101989746,\n",
       " 5.618785858154297,\n",
       " 5.237748622894287,\n",
       " 4.878350257873535,\n",
       " 4.539480686187744,\n",
       " 4.220035552978516,\n",
       " 3.9190421104431152,\n",
       " 3.635525941848755,\n",
       " 3.368540048599243,\n",
       " 3.117408275604248,\n",
       " 2.8816215991973877,\n",
       " 2.6607398986816406,\n",
       " 2.454294443130493,\n",
       " 2.2618584632873535,\n",
       " 2.083127021789551,\n",
       " 1.9179437160491943,\n",
       " 1.7660934925079346,\n",
       " 1.6272590160369873,\n",
       " 1.5009745359420776,\n",
       " 1.386643886566162,\n",
       " 1.2835794687271118,\n",
       " 1.191057801246643,\n",
       " 1.1083266735076904,\n",
       " 1.0346335172653198,\n",
       " 0.9692395925521851,\n",
       " 0.9114192724227905,\n",
       " 0.8604731559753418,\n",
       " 0.8157221674919128,\n",
       " 0.7765610218048096,\n",
       " 0.7424421906471252,\n",
       " 0.7129058837890625,\n",
       " 0.6875155568122864,\n",
       " 0.6658090353012085,\n",
       " 0.647284746170044,\n",
       " 0.6314215660095215,\n",
       " 0.6177328824996948,\n",
       " 0.6058015823364258,\n",
       " 0.5952636003494263,\n",
       " 0.58577960729599,\n",
       " 0.5770403146743774,\n",
       " 0.5687616467475891,\n",
       " 0.560669481754303,\n",
       " 0.5525164604187012,\n",
       " 0.5440795421600342,\n",
       " 0.5351836681365967,\n",
       " 0.525813102722168,\n",
       " 0.5159608721733093,\n",
       " 0.5057069063186646,\n",
       " 0.49484479427337646,\n",
       " 0.4833354949951172,\n",
       " 0.47125425934791565,\n",
       " 0.4587886929512024,\n",
       " 0.4463706910610199,\n",
       " 0.43447285890579224,\n",
       " 0.42381319403648376,\n",
       " 0.41431301832199097,\n",
       " 0.4055224061012268,\n",
       " 0.39715442061424255,\n",
       " 0.3882984519004822,\n",
       " 0.3789697289466858,\n",
       " 0.3691452145576477,\n",
       " 0.35901743173599243,\n",
       " 0.3487776815891266,\n",
       " 0.33859938383102417,\n",
       " 0.3286176323890686,\n",
       " 0.3187602758407593,\n",
       " 0.30905458331108093,\n",
       " 0.29952409863471985,\n",
       " 0.2901434004306793,\n",
       " 0.2809095084667206,\n",
       " 0.2717301845550537,\n",
       " 0.26263052225112915,\n",
       " 0.25366663932800293,\n",
       " 0.2448660135269165,\n",
       " 0.23618540167808533,\n",
       " 0.22765836119651794,\n",
       " 0.2193194031715393,\n",
       " 0.21122655272483826,\n",
       " 0.20336638391017914,\n",
       " 0.19574663043022156,\n",
       " 0.18839780986309052,\n",
       " 0.18132250010967255,\n",
       " 0.17451375722885132,\n",
       " 0.16794712841510773,\n",
       " 0.161587655544281,\n",
       " 0.15549132227897644,\n",
       " 0.14964774250984192,\n",
       " 0.14405210316181183,\n",
       " 0.1387050449848175,\n",
       " 0.13360483944416046,\n",
       " 0.12873661518096924,\n",
       " 0.12407580018043518,\n",
       " 0.1196315586566925,\n",
       " 0.11541315168142319,\n",
       " 0.11141925305128098,\n",
       " 0.1076444610953331,\n",
       " 0.10408039391040802,\n",
       " 0.10072887688875198,\n",
       " 0.09757933020591736,\n",
       " 0.0946219339966774,\n",
       " 0.09184619784355164,\n",
       " 0.08924204111099243,\n",
       " 0.08679734170436859,\n",
       " 0.08450229465961456,\n",
       " 0.08234374970197678,\n",
       " 0.08031288534402847,\n",
       " 0.07840413600206375,\n",
       " 0.076609306037426,\n",
       " 0.07491850852966309,\n",
       " 0.07331934571266174,\n",
       " 0.07180153578519821,\n",
       " 0.07035879045724869,\n",
       " 0.06898309290409088,\n",
       " 0.06766405701637268,\n",
       " 0.06639596819877625,\n",
       " 0.06517349183559418,\n",
       " 0.06399350613355637,\n",
       " 0.06285279244184494,\n",
       " 0.06174797937273979,\n",
       " 0.06067496910691261,\n",
       " 0.059631943702697754,\n",
       " 0.058617252856492996,\n",
       " 0.057629454880952835,\n",
       " 0.05667189136147499,\n",
       " 0.055739954113960266,\n",
       " 0.05483293533325195,\n",
       " 0.053948499262332916,\n",
       " 0.05308571085333824,\n",
       " 0.05224502831697464,\n",
       " 0.051425665616989136,\n",
       " 0.0506274588406086,\n",
       " 0.04984919726848602,\n",
       " 0.04909016191959381,\n",
       " 0.04835018888115883,\n",
       " 0.04762865602970123,\n",
       " 0.04692541062831879,\n",
       " 0.046239495277404785,\n",
       " 0.04557069391012192,\n",
       " 0.04491809010505676,\n",
       " 0.044281236827373505,\n",
       " 0.04365941509604454,\n",
       " 0.043052494525909424,\n",
       " 0.04246017336845398,\n",
       " 0.04188201576471329,\n",
       " 0.041317857801914215,\n",
       " 0.0407666340470314,\n",
       " 0.040227558463811874,\n",
       " 0.03970049321651459,\n",
       " 0.039185166358947754,\n",
       " 0.03868106007575989,\n",
       " 0.03818760812282562,\n",
       " 0.03770463913679123,\n",
       " 0.037231698632240295,\n",
       " 0.03676823899149895,\n",
       " 0.0363142155110836,\n",
       " 0.035869136452674866,\n",
       " 0.03543274849653244,\n",
       " 0.035004809498786926,\n",
       " 0.03458523005247116,\n",
       " 0.03417346999049187,\n",
       " 0.03376942127943039,\n",
       " 0.03337377682328224,\n",
       " 0.032986149191856384,\n",
       " 0.03260607272386551,\n",
       " 0.03223284333944321,\n",
       " 0.03186655789613724,\n",
       " 0.03150713071227074,\n",
       " 0.031153859570622444,\n",
       " 0.03080681711435318,\n",
       " 0.03046576678752899,\n",
       " 0.03013063222169876,\n",
       " 0.02980140969157219,\n",
       " 0.029477877542376518,\n",
       " 0.02915985882282257,\n",
       " 0.028847113251686096,\n",
       " 0.028539955615997314,\n",
       " 0.028237976133823395,\n",
       " 0.02794094756245613,\n",
       " 0.027648992836475372,\n",
       " 0.02736269310116768,\n",
       " 0.027081172913312912,\n",
       " 0.026804156601428986,\n",
       " 0.02653167024254799,\n",
       " 0.026263751089572906,\n",
       " 0.025999948382377625,\n",
       " 0.025740306824445724,\n",
       " 0.0254847202450037,\n",
       " 0.025233201682567596,\n",
       " 0.024985704571008682,\n",
       " 0.02474169060587883,\n",
       " 0.024501629173755646,\n",
       " 0.02426508069038391,\n",
       " 0.0240323543548584,\n",
       " 0.023803113028407097,\n",
       " 0.02357766404747963,\n",
       " 0.023355556651949883,\n",
       " 0.023136494681239128,\n",
       " 0.022920649498701096,\n",
       " 0.022708065807819366,\n",
       " 0.022498641163110733,\n",
       " 0.0222921185195446,\n",
       " 0.02208874002099037,\n",
       " 0.021888241171836853,\n",
       " 0.021690689027309418,\n",
       " 0.021496010944247246,\n",
       " 0.021304208785295486,\n",
       " 0.021115045994520187,\n",
       " 0.020928392186760902,\n",
       " 0.020745161920785904,\n",
       " 0.020564911887049675,\n",
       " 0.02038729563355446,\n",
       " 0.020212393254041672,\n",
       " 0.02004007250070572,\n",
       " 0.01987006887793541,\n",
       " 0.01970255747437477,\n",
       " 0.019537393003702164,\n",
       " 0.01937459036707878,\n",
       " 0.01921384409070015,\n",
       " 0.019055217504501343]"
      ]
     },
     "execution_count": 97,
     "metadata": {},
     "output_type": "execute_result"
    },
    {
     "data": {
      "image/png": "[encoded data removed]",
      "text/plain": [
       "<Figure size 640x480 with 1 Axes>"
      ]
     },
     "metadata": {},
     "output_type": "display_data"
    }
   ],
   "source": [
    "trainer.train()"
   ]
  },
  {
   "cell_type": "code",
   "execution_count": 98,
   "metadata": {},
   "outputs": [
    {
     "data": {
      "text/plain": [
       "torch.Size([2, 4, 4, 30])"
      ]
     },
     "execution_count": 98,
     "metadata": {},
     "output_type": "execute_result"
    }
   ],
   "source": [
    "pred = model(batch[\"images\"])\n",
    "pred.shape"
   ]
  },
  {
   "cell_type": "code",
   "execution_count": 99,
   "metadata": {},
   "outputs": [
    {
     "data": {
      "text/plain": [
       "(tensor([-0.3142, -0.5777,  0.3441, -0.3687, -4.3410,  0.0883,  0.0684, -0.1960,\n",
       "          0.3697, -0.1435,  0.1860,  0.0472,  0.1070, -0.1844, -0.1655, -0.0328,\n",
       "          1.1753,  0.5484, -0.1068, -4.5080, -0.4270, -1.0316, -1.0651, -0.9044,\n",
       "          0.5508, -1.0201, -1.3743, -0.0142, -0.6574, -0.7117],\n",
       "        grad_fn=<SliceBackward0>),\n",
       " tensor([ 6.0586e-02, -5.5696e-01,  1.5347e-01,  3.4252e-02, -4.6875e+00,\n",
       "         -1.4023e-02,  2.6941e-01, -1.9420e-01,  5.3746e-01, -4.5516e-01,\n",
       "         -2.0648e-01, -3.0404e-02, -5.2434e-02, -1.9806e-01, -2.7937e-05,\n",
       "         -1.1335e-01,  1.1814e+00,  2.7766e-01,  1.5485e-01, -4.0093e+00,\n",
       "         -8.7483e-01, -1.1758e+00, -1.4727e+00, -8.5215e-01,  1.1929e+00,\n",
       "         -9.0605e-01, -9.5823e-01, -5.1779e-01, -8.5308e-01, -9.6419e-01],\n",
       "        grad_fn=<SliceBackward0>))"
      ]
     },
     "execution_count": 99,
     "metadata": {},
     "output_type": "execute_result"
    }
   ],
   "source": [
    "pred[0, 0, 0, :], pred[0, 1, 1, :]"
   ]
  },
  {
   "cell_type": "code",
   "execution_count": 104,
   "metadata": {},
   "outputs": [],
   "source": [
    "i = 0"
   ]
  },
  {
   "cell_type": "code",
   "execution_count": 105,
   "metadata": {},
   "outputs": [
    {
     "data": {
      "text/plain": [
       "[{'bboxes': tensor([[0.4425, 0.5000, 0.1966, 0.7418],\n",
       "          [0.5902, 0.5321, 0.1639, 0.7424]]),\n",
       "  'confidence': tensor([0.9870, 0.9799]),\n",
       "  'labels': tensor([7, 1]),\n",
       "  'scores': tensor([0.9934, 0.9974])},\n",
       " {'bboxes': tensor([[0.6076, 0.5000, 0.1497, 0.8696],\n",
       "          [0.4532, 0.4567, 0.1963, 0.8692]]),\n",
       "  'confidence': tensor([0.9986, 0.9434]),\n",
       "  'labels': tensor([6, 4]),\n",
       "  'scores': tensor([0.9943, 0.9956])}]"
      ]
     },
     "execution_count": 105,
     "metadata": {},
     "output_type": "execute_result"
    }
   ],
   "source": [
    "output = model.inference(\n",
    "    batch[\"images\"],\n",
    ")\n",
    "\n",
    "bounding_boxes = output.bboxes\n",
    "bounding_boxes"
   ]
  },
  {
   "cell_type": "code",
   "execution_count": 106,
   "metadata": {},
   "outputs": [
    {
     "data": {
      "text/plain": [
       "<matplotlib.image.AxesImage at 0x2b2fcb070>"
      ]
     },
     "execution_count": 106,
     "metadata": {},
     "output_type": "execute_result"
    },
    {
     "data": {
      "image/png": "[encoded data removed]",
      "text/plain": [
       "<Figure size 640x480 with 1 Axes>"
      ]
     },
     "metadata": {},
     "output_type": "display_data"
    }
   ],
   "source": [
    "plt.imshow(\n",
    "    draw_bounding_boxes(batch[\"images\"][i],\n",
    "                        box_convert(\n",
    "                            bounding_boxes[i][\"bboxes\"], \n",
    "                            \"cxcywh\",\n",
    "                            \"xyxy\"\n",
    "                        ), \n",
    "                        bounding_boxes[i][\"labels\"]\n",
    ")\n",
    ")"
   ]
  },
  {
   "cell_type": "code",
   "execution_count": 107,
   "metadata": {},
   "outputs": [
    {
     "data": {
      "image/jpeg": "[encoded data removed]",
      "image/png": "[encoded data removed]",
      "text/plain": [
       "<PIL.Image.Image image mode=RGB size=256x256>"
      ]
     },
     "execution_count": 107,
     "metadata": {},
     "output_type": "execute_result"
    }
   ],
   "source": [
    "draw_bounding_boxes(batch[\"images\"][i],\n",
    "                        box_convert(\n",
    "                            bounding_boxes[i][\"bboxes\"], \n",
    "                            \"cxcywh\",\n",
    "                            \"xyxy\"\n",
    "                        ), \n",
    "                        bounding_boxes[i][\"labels\"]\n",
    ").resize((256, 256), 0)"
   ]
  },
  {
   "cell_type": "code",
   "execution_count": 83,
   "metadata": {},
   "outputs": [
    {
     "name": "stderr",
     "output_type": "stream",
     "text": [
      "100%|██████████| 1/1 [00:00<00:00, 52.11it/s]\n"
     ]
    },
    {
     "data": {
      "text/plain": [
       "{'map': 1.0,\n",
       " 'map_50': 1.0,\n",
       " 'map_75': 1.0,\n",
       " 'map_small': 1.0,\n",
       " 'map_medium': -1.0,\n",
       " 'map_large': -1.0,\n",
       " 'mar_1': 1.0,\n",
       " 'mar_10': 1.0,\n",
       " 'mar_100': 1.0,\n",
       " 'mar_small': 1.0,\n",
       " 'mar_medium': -1.0,\n",
       " 'mar_large': -1.0,\n",
       " 'map_per_class': -1.0,\n",
       " 'mar_100_per_class': -1.0,\n",
       " 'classes': [1, 4, 6, 7]}"
      ]
     },
     "execution_count": 83,
     "metadata": {},
     "output_type": "execute_result"
    }
   ],
   "source": [
    "calculate_mAP(\n",
    "    model,\n",
    "    trainer.train_loader,\n",
    ")"
   ]
  },
  {
   "cell_type": "code",
   "execution_count": null,
   "metadata": {},
   "outputs": [],
   "source": []
  }
 ],
 "metadata": {
  "kernelspec": {
   "display_name": "mini-yolov3-a3VRlvzj-py3.10",
   "language": "python",
   "name": "python3"
  },
  "language_info": {
   "codemirror_mode": {
    "name": "ipython",
    "version": 3
   },
   "file_extension": ".py",
   "mimetype": "text/x-python",
   "name": "python",
   "nbconvert_exporter": "python",
   "pygments_lexer": "ipython3",
   "version": "3.10.13"
  }
 },
 "nbformat": 4,
 "nbformat_minor": 2
}
