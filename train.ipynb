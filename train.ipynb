{
 "cells": [
  {
   "cell_type": "code",
   "execution_count": 1,
   "metadata": {},
   "outputs": [],
   "source": [
    "%load_ext autoreload\n",
    "%autoreload 2"
   ]
  },
  {
   "cell_type": "code",
   "execution_count": 15,
   "metadata": {},
   "outputs": [],
   "source": [
    "from mini_yolov3.model import MiniYOLOV3\n",
    "from mini_yolov3.trainer import Trainer\n",
    "import torch\n",
    "from torchvision.transforms import v2\n",
    "from mini_yolov3.dataset import SVHNDataset\n",
    "from torch.utils.data import Subset"
   ]
  },
  {
   "cell_type": "code",
   "execution_count": 36,
   "metadata": {},
   "outputs": [],
   "source": [
    "anchors = torch.Tensor([[0.2, 0.8]])"
   ]
  },
  {
   "cell_type": "code",
   "execution_count": 38,
   "metadata": {},
   "outputs": [
    {
     "data": {
      "text/plain": [
       "MiniYOLOV3(\n",
       "  (conv): Sequential(\n",
       "    (0): Conv2d(3, 32, kernel_size=(3, 3), stride=(2, 2), padding=(1, 1))\n",
       "    (1): ReLU()\n",
       "    (2): LayerNorm((32,), eps=1e-05, elementwise_affine=True)\n",
       "    (3): Conv2d(32, 15, kernel_size=(3, 3), stride=(2, 2), padding=(1, 1))\n",
       "  )\n",
       ")"
      ]
     },
     "execution_count": 38,
     "metadata": {},
     "output_type": "execute_result"
    }
   ],
   "source": [
    "model = MiniYOLOV3(\n",
    "    image_size=64,\n",
    "    num_classes=10,\n",
    "    anchors=anchors\n",
    ")\n",
    "\n",
    "model.to(\"mps\")"
   ]
  },
  {
   "cell_type": "code",
   "execution_count": 69,
   "metadata": {},
   "outputs": [
    {
     "name": "stderr",
     "output_type": "stream",
     "text": [
      "/Users/ericchen/Library/Caches/pypoetry/virtualenvs/mini-yolov3-a3VRlvzj-py3.10/lib/python3.10/site-packages/torchvision/transforms/v2/_deprecated.py:41: UserWarning: The transform `ToTensor()` is deprecated and will be removed in a future release. Instead, please use `v2.Compose([v2.ToImage(), v2.ToDtype(torch.float32, scale=True)])`.\n",
      "  warnings.warn(\n"
     ]
    }
   ],
   "source": [
    "train_dataset = SVHNDataset(split=\"train\", image_transform=v2.Compose([\n",
    "                        v2.ToTensor(),\n",
    "                        v2.Resize((64, 64))  \n",
    "                      ]))\n",
    "train_dataset = Subset(train_dataset, range(1))"
   ]
  },
  {
   "cell_type": "code",
   "execution_count": 70,
   "metadata": {},
   "outputs": [
    {
     "data": {
      "text/plain": [
       "tensor([[0.3551, 0.0217, 0.1963, 0.8696],\n",
       "        [0.5327, 0.0652, 0.1495, 0.8696]])"
      ]
     },
     "execution_count": 70,
     "metadata": {},
     "output_type": "execute_result"
    }
   ],
   "source": [
    "train_dataset[0][\"bbox\"]"
   ]
  },
  {
   "cell_type": "code",
   "execution_count": 73,
   "metadata": {},
   "outputs": [],
   "source": [
    "trainer = Trainer(\n",
    "    model=model,\n",
    "    train_dataset=train_dataset,\n",
    "    num_epochs=100,\n",
    "    lr=1e-5\n",
    ")"
   ]
  },
  {
   "cell_type": "code",
   "execution_count": 74,
   "metadata": {},
   "outputs": [
    {
     "name": "stderr",
     "output_type": "stream",
     "text": [
      "100%|██████████| 100/100 [00:04<00:00, 20.14it/s, loss=tensor(53.5012, device='mps:0', grad_fn=<AddBackward0>), coord_loss=tensor(48.0317, device='mps:0', grad_fn=<MulBackward0>), obj_conf_loss=tensor(2.1238, device='mps:0', grad_fn=<BinaryCrossEntropyWithLogitsBackward0>), class_loss=tensor(1.4496, device='mps:0', grad_fn=<BinaryCrossEntropyWithLogitsBackward0>), noobj_loss=tensor(1.8960, device='mps:0', grad_fn=<MulBackward0>)]\n"
     ]
    },
    {
     "data": {
      "text/plain": [
       "[53.21305847167969,\n",
       " 53.22623825073242,\n",
       " 53.2403678894043,\n",
       " 53.255645751953125,\n",
       " 53.270652770996094,\n",
       " 53.276390075683594,\n",
       " 53.27241134643555,\n",
       " 53.26689529418945,\n",
       " 53.26404571533203,\n",
       " 53.26060485839844,\n",
       " 53.25682067871094,\n",
       " 53.25327682495117,\n",
       " 53.25035858154297,\n",
       " 53.2481575012207,\n",
       " 53.24673080444336,\n",
       " 53.245906829833984,\n",
       " 53.24628829956055,\n",
       " 53.24726104736328,\n",
       " 53.24906539916992,\n",
       " 53.25175857543945,\n",
       " 53.25541687011719,\n",
       " 53.25857925415039,\n",
       " 53.26134490966797,\n",
       " 53.265167236328125,\n",
       " 53.27032470703125,\n",
       " 53.27712631225586,\n",
       " 53.28420639038086,\n",
       " 53.291343688964844,\n",
       " 53.297386169433594,\n",
       " 53.303192138671875,\n",
       " 53.3082160949707,\n",
       " 53.31195831298828,\n",
       " 53.31493377685547,\n",
       " 53.31724548339844,\n",
       " 53.31938552856445,\n",
       " 53.32235336303711,\n",
       " 53.32625961303711,\n",
       " 53.33103561401367,\n",
       " 53.3365478515625,\n",
       " 53.3423957824707,\n",
       " 53.348304748535156,\n",
       " 53.35380172729492,\n",
       " 53.35853958129883,\n",
       " 53.362518310546875,\n",
       " 53.36616134643555,\n",
       " 53.37029266357422,\n",
       " 53.375267028808594,\n",
       " 53.380271911621094,\n",
       " 53.38439178466797,\n",
       " 53.38773727416992,\n",
       " 53.38987350463867,\n",
       " 53.3913688659668,\n",
       " 53.39254379272461,\n",
       " 53.39406967163086,\n",
       " 53.395263671875,\n",
       " 53.39583969116211,\n",
       " 53.39662170410156,\n",
       " 53.39838790893555,\n",
       " 53.40033721923828,\n",
       " 53.40320587158203,\n",
       " 53.406375885009766,\n",
       " 53.40947341918945,\n",
       " 53.41301727294922,\n",
       " 53.41574478149414,\n",
       " 53.41807556152344,\n",
       " 53.42023849487305,\n",
       " 53.422298431396484,\n",
       " 53.424774169921875,\n",
       " 53.428043365478516,\n",
       " 53.4309196472168,\n",
       " 53.4338264465332,\n",
       " 53.43739318847656,\n",
       " 53.44023132324219,\n",
       " 53.44301986694336,\n",
       " 53.44563293457031,\n",
       " 53.44724655151367,\n",
       " 53.448917388916016,\n",
       " 53.45114517211914,\n",
       " 53.453857421875,\n",
       " 53.45579147338867,\n",
       " 53.457672119140625,\n",
       " 53.460086822509766,\n",
       " 53.462806701660156,\n",
       " 53.466346740722656,\n",
       " 53.46997833251953,\n",
       " 53.472957611083984,\n",
       " 53.475494384765625,\n",
       " 53.47806930541992,\n",
       " 53.479557037353516,\n",
       " 53.4809684753418,\n",
       " 53.482749938964844,\n",
       " 53.484989166259766,\n",
       " 53.48801803588867,\n",
       " 53.490901947021484,\n",
       " 53.49289321899414,\n",
       " 53.494266510009766,\n",
       " 53.495704650878906,\n",
       " 53.49681091308594,\n",
       " 53.4985237121582,\n",
       " 53.50118637084961]"
      ]
     },
     "execution_count": 74,
     "metadata": {},
     "output_type": "execute_result"
    }
   ],
   "source": [
    "trainer.train()"
   ]
  },
  {
   "cell_type": "code",
   "execution_count": null,
   "metadata": {},
   "outputs": [],
   "source": []
  }
 ],
 "metadata": {
  "kernelspec": {
   "display_name": "mini-yolov3-a3VRlvzj-py3.10",
   "language": "python",
   "name": "python3"
  },
  "language_info": {
   "codemirror_mode": {
    "name": "ipython",
    "version": 3
   },
   "file_extension": ".py",
   "mimetype": "text/x-python",
   "name": "python",
   "nbconvert_exporter": "python",
   "pygments_lexer": "ipython3",
   "version": "3.10.13"
  }
 },
 "nbformat": 4,
 "nbformat_minor": 2
}
