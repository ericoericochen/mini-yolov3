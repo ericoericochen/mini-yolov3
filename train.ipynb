{
 "cells": [
  {
   "cell_type": "code",
   "execution_count": 135,
   "metadata": {},
   "outputs": [
    {
     "name": "stdout",
     "output_type": "stream",
     "text": [
      "The autoreload extension is already loaded. To reload it, use:\n",
      "  %reload_ext autoreload\n"
     ]
    }
   ],
   "source": [
    "%load_ext autoreload\n",
    "%autoreload 2"
   ]
  },
  {
   "cell_type": "code",
   "execution_count": 136,
   "metadata": {},
   "outputs": [],
   "source": [
    "from mini_yolov3.model import MiniYOLOV3\n",
    "from mini_yolov3.trainer import Trainer\n",
    "import torch\n",
    "from torchvision.transforms import v2\n",
    "from mini_yolov3.dataset import SVHNDataset, collate_fn\n",
    "from torch.utils.data import Subset, DataLoader\n",
    "from mini_yolov3.loss import YOLOLoss, build_targets\n",
    "import matplotlib.pyplot as plt\n",
    "from mini_yolov3.utils import draw_bounding_boxes\n",
    "from torchvision.ops import box_convert\n",
    "from mini_yolov3.model_output import YoloV3Output"
   ]
  },
  {
   "cell_type": "code",
   "execution_count": 137,
   "metadata": {},
   "outputs": [],
   "source": [
    "anchors = torch.Tensor([[0.2, 0.8]])"
   ]
  },
  {
   "cell_type": "code",
   "execution_count": 138,
   "metadata": {},
   "outputs": [
    {
     "name": "stderr",
     "output_type": "stream",
     "text": [
      "/Users/ericchen/Library/Caches/pypoetry/virtualenvs/mini-yolov3-a3VRlvzj-py3.10/lib/python3.10/site-packages/torchvision/transforms/v2/_deprecated.py:41: UserWarning: The transform `ToTensor()` is deprecated and will be removed in a future release. Instead, please use `v2.Compose([v2.ToImage(), v2.ToDtype(torch.float32, scale=True)])`.\n",
      "  warnings.warn(\n"
     ]
    }
   ],
   "source": [
    "train_dataset = SVHNDataset(split=\"train\", image_transform=v2.Compose([\n",
    "                        v2.ToTensor(),\n",
    "                        v2.Resize((32, 32))  \n",
    "                      ]))\n",
    "train_dataset = Subset(train_dataset, range(12, 13))"
   ]
  },
  {
   "cell_type": "code",
   "execution_count": 139,
   "metadata": {},
   "outputs": [
    {
     "data": {
      "text/plain": [
       "tensor([[0.3793, 0.0208, 0.2184, 0.8958]])"
      ]
     },
     "execution_count": 139,
     "metadata": {},
     "output_type": "execute_result"
    }
   ],
   "source": [
    "train_dataset[0][\"bbox\"]"
   ]
  },
  {
   "cell_type": "code",
   "execution_count": 140,
   "metadata": {},
   "outputs": [
    {
     "data": {
      "text/plain": [
       "<matplotlib.image.AxesImage at 0x2b2c282e0>"
      ]
     },
     "execution_count": 140,
     "metadata": {},
     "output_type": "execute_result"
    },
    {
     "data": {
      "image/png": "[encoded data removed]",
      "text/plain": [
       "<Figure size 640x480 with 1 Axes>"
      ]
     },
     "metadata": {},
     "output_type": "display_data"
    }
   ],
   "source": [
    "plt.imshow(train_dataset[0][\"image\"].permute(1, 2, 0))"
   ]
  },
  {
   "cell_type": "code",
   "execution_count": 141,
   "metadata": {},
   "outputs": [
    {
     "data": {
      "text/plain": [
       "<matplotlib.image.AxesImage at 0x2b505c280>"
      ]
     },
     "execution_count": 141,
     "metadata": {},
     "output_type": "execute_result"
    },
    {
     "data": {
      "image/png": "[encoded data removed]",
      "text/plain": [
       "<Figure size 640x480 with 1 Axes>"
      ]
     },
     "metadata": {},
     "output_type": "display_data"
    }
   ],
   "source": [
    "plt.imshow(\n",
    "    draw_bounding_boxes(train_dataset[0][\"image\"], box_convert(train_dataset[0][\"bbox\"], \"xywh\", \"xyxy\"), train_dataset[0][\"labels\"])\n",
    ")"
   ]
  },
  {
   "cell_type": "code",
   "execution_count": 142,
   "metadata": {},
   "outputs": [],
   "source": [
    "dataloader = DataLoader(train_dataset, batch_size=1, shuffle=True, collate_fn=collate_fn)"
   ]
  },
  {
   "cell_type": "code",
   "execution_count": 143,
   "metadata": {},
   "outputs": [
    {
     "name": "stdout",
     "output_type": "stream",
     "text": [
      "[tensor([[0.3793, 0.0208, 0.2184, 0.8958]])]\n"
     ]
    }
   ],
   "source": [
    "for batch in dataloader:\n",
    "    print(batch[\"bboxes\"])\n",
    "    targets = build_targets(batch[\"bboxes\"], batch[\"labels\"], (2, 2), anchors, 10)"
   ]
  },
  {
   "cell_type": "code",
   "execution_count": null,
   "metadata": {},
   "outputs": [],
   "source": []
  },
  {
   "cell_type": "code",
   "execution_count": 183,
   "metadata": {},
   "outputs": [],
   "source": [
    "torch.manual_seed(0)\n",
    "\n",
    "model = MiniYOLOV3(\n",
    "    image_size=32,\n",
    "    num_classes=10,\n",
    "    anchors=anchors\n",
    ")\n",
    "# model = MiniYOLOV3(\n",
    "#     image_size=32,\n",
    "#     num_classes=10,\n",
    "#     anchors=anchors\n",
    "# )\n",
    "\n",
    "# model = torch.nn.Conv2d(3, 15, 2|, 2)\n",
    "\n",
    "trainer = Trainer(\n",
    "    model=model,\n",
    "    train_dataset=train_dataset,\n",
    "    num_epochs=250,\n",
    "    # lr=3e-4,\n",
    "    lr=3e-3,\n",
    "    lambda_coord=5.0,\n",
    "    lambda_noobj=0.5\n",
    ")"
   ]
  },
  {
   "cell_type": "code",
   "execution_count": 184,
   "metadata": {},
   "outputs": [
    {
     "name": "stderr",
     "output_type": "stream",
     "text": [
      "100%|██████████| 250/250 [00:01<00:00, 183.24it/s, loss=5.05e-11]\n"
     ]
    },
    {
     "data": {
      "text/plain": [
       "[0.24267199635505676,\n",
       " 0.2449420541524887,\n",
       " 0.2360110729932785,\n",
       " 0.23184888064861298,\n",
       " 0.22716569900512695,\n",
       " 0.22024068236351013,\n",
       " 0.21328088641166687,\n",
       " 0.2076101452112198,\n",
       " 0.20256748795509338,\n",
       " 0.19683730602264404,\n",
       " 0.19032762944698334,\n",
       " 0.18383578956127167,\n",
       " 0.17794759571552277,\n",
       " 0.17250417172908783,\n",
       " 0.16694621741771698,\n",
       " 0.16105997562408447,\n",
       " 0.15513980388641357,\n",
       " 0.14955849945545197,\n",
       " 0.14435148239135742,\n",
       " 0.13922040164470673,\n",
       " 0.133919820189476,\n",
       " 0.12852589786052704,\n",
       " 0.12329724431037903,\n",
       " 0.11837060004472733,\n",
       " 0.11364080011844635,\n",
       " 0.10893076658248901,\n",
       " 0.10421764850616455,\n",
       " 0.09963575750589371,\n",
       " 0.09529192000627518,\n",
       " 0.09113720059394836,\n",
       " 0.08704154193401337,\n",
       " 0.082960344851017,\n",
       " 0.07897605746984482,\n",
       " 0.07518170028924942,\n",
       " 0.07157107442617416,\n",
       " 0.06806739419698715,\n",
       " 0.06463497132062912,\n",
       " 0.0613180547952652,\n",
       " 0.05816734582185745,\n",
       " 0.055166348814964294,\n",
       " 0.052256226539611816,\n",
       " 0.049415428191423416,\n",
       " 0.04668040573596954,\n",
       " 0.044087644666433334,\n",
       " 0.04162523150444031,\n",
       " 0.03925742208957672,\n",
       " 0.03697668015956879,\n",
       " 0.03480595722794533,\n",
       " 0.03275550156831741,\n",
       " 0.030803261324763298,\n",
       " 0.02892524003982544,\n",
       " 0.027125686407089233,\n",
       " 0.02542339265346527,\n",
       " 0.023819779977202415,\n",
       " 0.02229771949350834,\n",
       " 0.020847270265221596,\n",
       " 0.019475216045975685,\n",
       " 0.018186479806900024,\n",
       " 0.01697065867483616,\n",
       " 0.015814606100320816,\n",
       " 0.014718353748321533,\n",
       " 0.013689103536307812,\n",
       " 0.01272569503635168,\n",
       " 0.011818806640803814,\n",
       " 0.01096369232982397,\n",
       " 0.010162743739783764,\n",
       " 0.00941553059965372,\n",
       " 0.00871487706899643,\n",
       " 0.00805504247546196,\n",
       " 0.007436920888721943,\n",
       " 0.006862141657620668,\n",
       " 0.006327261682599783,\n",
       " 0.005827407818287611,\n",
       " 0.005361439660191536,\n",
       " 0.004929587244987488,\n",
       " 0.004529002588242292,\n",
       " 0.004155483562499285,\n",
       " 0.003807672532275319,\n",
       " 0.0034861236345022917,\n",
       " 0.003189511364325881,\n",
       " 0.002914923708885908,\n",
       " 0.002660812344402075,\n",
       " 0.002426916267722845,\n",
       " 0.0022118319757282734,\n",
       " 0.0020131494384258986,\n",
       " 0.0018296324415132403,\n",
       " 0.0016612161416560411,\n",
       " 0.0015071188099682331,\n",
       " 0.0013657101662829518,\n",
       " 0.0012359595857560635,\n",
       " 0.0011175108375027776,\n",
       " 0.001009486266411841,\n",
       " 0.0009105580393224955,\n",
       " 0.0008200223091989756,\n",
       " 0.0007376971771009266,\n",
       " 0.0006630083080381155,\n",
       " 0.0005950551712885499,\n",
       " 0.0005333080189302564,\n",
       " 0.0004774869012180716,\n",
       " 0.00042700377525761724,\n",
       " 0.0003811754286289215,\n",
       " 0.0003396891406737268,\n",
       " 0.000302378146443516,\n",
       " 0.0002688299282453954,\n",
       " 0.00023859090288169682,\n",
       " 0.00021143583580851555,\n",
       " 0.00018715720216277987,\n",
       " 0.00016538733325432986,\n",
       " 0.00014582918083760887,\n",
       " 0.00012836730456911027,\n",
       " 0.00011285417713224888,\n",
       " 9.903594036586583e-05,\n",
       " 8.673140109749511e-05,\n",
       " 7.584384002257138e-05,\n",
       " 6.621892680414021e-05,\n",
       " 5.7672190450830385e-05,\n",
       " 5.010826498619281e-05,\n",
       " 4.346989226178266e-05,\n",
       " 3.764327266253531e-05,\n",
       " 3.2515112252440304e-05,\n",
       " 2.8029646273353137e-05,\n",
       " 2.4127130018314347e-05,\n",
       " 2.0714427591883577e-05,\n",
       " 1.772980613168329e-05,\n",
       " 1.5147873455134686e-05,\n",
       " 1.2921792404085863e-05,\n",
       " 1.0992487659677863e-05,\n",
       " 9.329627573606558e-06,\n",
       " 7.910422027634922e-06,\n",
       " 6.693234354315791e-06,\n",
       " 5.645627879857784e-06,\n",
       " 4.756337148137391e-06,\n",
       " 4.007261850347277e-06,\n",
       " 3.37075812240073e-06,\n",
       " 2.8326496703812154e-06,\n",
       " 2.3851941932662157e-06,\n",
       " 2.0110012428631308e-06,\n",
       " 1.6953569001998403e-06,\n",
       " 1.434432761016069e-06,\n",
       " 1.2216373761475552e-06,\n",
       " 1.0449040246385266e-06,\n",
       " 8.989844673124026e-07,\n",
       " 7.820185032869631e-07,\n",
       " 6.869952926535916e-07,\n",
       " 6.082352683733916e-07,\n",
       " 5.452171762954094e-07,\n",
       " 4.955415420226927e-07,\n",
       " 4.5441495899467554e-07,\n",
       " 4.206711992083001e-07,\n",
       " 3.9421345832124643e-07,\n",
       " 3.7233883176668314e-07,\n",
       " 3.5329844649822917e-07,\n",
       " 3.3766258411560557e-07,\n",
       " 3.244673507651896e-07,\n",
       " 3.119549205621297e-07,\n",
       " 3.004074358159414e-07,\n",
       " 2.9010209345869953e-07,\n",
       " 2.7992709306090546e-07,\n",
       " 2.6969240707330755e-07,\n",
       " 2.5997476882366755e-07,\n",
       " 2.502099789580825e-07,\n",
       " 2.400057041995751e-07,\n",
       " 2.2984781367085816e-07,\n",
       " 2.198278110654428e-07,\n",
       " 2.095665934120916e-07,\n",
       " 1.9927361449845193e-07,\n",
       " 1.8918359501185478e-07,\n",
       " 1.7900434556850087e-07,\n",
       " 1.6879370434708107e-07,\n",
       " 1.5885338200405386e-07,\n",
       " 1.4914856194536696e-07,\n",
       " 1.3955448707747564e-07,\n",
       " 1.3030386014634132e-07,\n",
       " 1.2137654437083256e-07,\n",
       " 1.1265724708664493e-07,\n",
       " 1.0428428254272148e-07,\n",
       " 9.633780706508333e-08,\n",
       " 8.871885626149378e-08,\n",
       " 8.148960262133187e-08,\n",
       " 7.469598273246447e-08,\n",
       " 6.825787579600728e-08,\n",
       " 6.216669135028496e-08,\n",
       " 5.649921419603743e-08,\n",
       " 5.120378432366124e-08,\n",
       " 4.6273683551589784e-08,\n",
       " 4.17253289697328e-08,\n",
       " 3.75215982728605e-08,\n",
       " 3.3625294548755846e-08,\n",
       " 3.005314397341863e-08,\n",
       " 2.6791255436364736e-08,\n",
       " 2.3808009785852846e-08,\n",
       " 2.109297980723568e-08,\n",
       " 1.8632988485478563e-08,\n",
       " 1.6412046832670057e-08,\n",
       " 1.4394152536567617e-08,\n",
       " 1.2598926346640837e-08,\n",
       " 1.0987707632637012e-08,\n",
       " 9.542854506605636e-09,\n",
       " 8.269771534230586e-09,\n",
       " 7.1370847010143734e-09,\n",
       " 6.133588748014063e-09,\n",
       " 5.25295451581087e-09,\n",
       " 4.484044247021757e-09,\n",
       " 3.810908033585747e-09,\n",
       " 3.2286699980232925e-09,\n",
       " 2.724351633176525e-09,\n",
       " 2.2902930663093457e-09,\n",
       " 1.9150392382982773e-09,\n",
       " 1.5986808543644315e-09,\n",
       " 1.3282202004916144e-09,\n",
       " 1.1013525647030065e-09,\n",
       " 9.141852275185158e-10,\n",
       " 7.545971070221924e-10,\n",
       " 6.238026761806736e-10,\n",
       " 5.191380658686739e-10,\n",
       " 4.316725310538061e-10,\n",
       " 3.6179542695080613e-10,\n",
       " 3.071356780015577e-10,\n",
       " 2.643524843470857e-10,\n",
       " 2.3018516259742938e-10,\n",
       " 2.053371778165669e-10,\n",
       " 1.8630333387115172e-10,\n",
       " 1.7208988400962966e-10,\n",
       " 1.6220676191114336e-10,\n",
       " 1.5435325240176212e-10,\n",
       " 1.4856460506251778e-10,\n",
       " 1.450380371359472e-10,\n",
       " 1.4213845378474588e-10,\n",
       " 1.3964944478583874e-10,\n",
       " 1.381822850587966e-10,\n",
       " 1.3642031948535305e-10,\n",
       " 1.3401890708308883e-10,\n",
       " 1.317792541755125e-10,\n",
       " 1.29133648218982e-10,\n",
       " 1.254182868670739e-10,\n",
       " 1.2185263909003652e-10,\n",
       " 1.179937120232566e-10,\n",
       " 1.1378971376263536e-10,\n",
       " 1.0942843853278816e-10,\n",
       " 1.0426499941207368e-10,\n",
       " 9.884165708129444e-11,\n",
       " 9.331133088430477e-11,\n",
       " 8.813937080187628e-11,\n",
       " 8.229272818738309e-11,\n",
       " 7.687456921035007e-11,\n",
       " 7.097848697679154e-11,\n",
       " 6.574912836398994e-11,\n",
       " 6.002112695746575e-11,\n",
       " 5.538621991596493e-11,\n",
       " 5.045820358762221e-11]"
      ]
     },
     "execution_count": 184,
     "metadata": {},
     "output_type": "execute_result"
    }
   ],
   "source": [
    "trainer.train()"
   ]
  },
  {
   "cell_type": "code",
   "execution_count": 280,
   "metadata": {},
   "outputs": [
    {
     "data": {
      "text/plain": [
       "torch.Size([1, 15, 2, 2])"
      ]
     },
     "execution_count": 280,
     "metadata": {},
     "output_type": "execute_result"
    }
   ],
   "source": [
    "pred = model(batch[\"images\"].to(\"mps\"))\n",
    "pred.shape"
   ]
  },
  {
   "cell_type": "code",
   "execution_count": 281,
   "metadata": {},
   "outputs": [
    {
     "data": {
      "text/plain": [
       "tensor([ 3.3309e+00,  2.5957e+00,  9.1555e-02,  1.4053e-01,  1.0250e+00,\n",
       "         2.8872e-03, -5.9916e-02,  3.5278e-03,  1.0026e+00, -5.5062e-03,\n",
       "         4.8427e-03, -7.9594e-03,  7.0756e-03, -2.6215e-02,  5.1524e-03],\n",
       "       device='mps:0', grad_fn=<SelectBackward0>)"
      ]
     },
     "execution_count": 281,
     "metadata": {},
     "output_type": "execute_result"
    }
   ],
   "source": [
    "pred[0, :, 0, 0]"
   ]
  },
  {
   "cell_type": "code",
   "execution_count": 282,
   "metadata": {},
   "outputs": [
    {
     "data": {
      "text/plain": [
       "tensor([3.7495, 2.7081, 0.0880, 0.1131, 1.0000, 0.0000, 0.0000, 0.0000, 1.0000,\n",
       "        0.0000, 0.0000, 0.0000, 0.0000, 0.0000, 0.0000])"
      ]
     },
     "execution_count": 282,
     "metadata": {},
     "output_type": "execute_result"
    }
   ],
   "source": [
    "targets[0, :, 0, 0]"
   ]
  },
  {
   "cell_type": "code",
   "execution_count": 283,
   "metadata": {},
   "outputs": [],
   "source": [
    "output = YoloV3Output(pred, model.anchors, 10)"
   ]
  },
  {
   "cell_type": "code",
   "execution_count": 284,
   "metadata": {},
   "outputs": [],
   "source": [
    "bounding_boxes = output.bounding_boxes()"
   ]
  },
  {
   "cell_type": "code",
   "execution_count": 285,
   "metadata": {},
   "outputs": [
    {
     "data": {
      "text/plain": [
       "[{'bboxes': tensor([[0.3731, 0.0049, 0.2192, 0.9207]], device='mps:0',\n",
       "         grad_fn=<StackBackward0>),\n",
       "  'confidence': tensor([1.0250], device='mps:0', grad_fn=<SelectBackward0>),\n",
       "  'labels': tensor([3], device='mps:0')}]"
      ]
     },
     "execution_count": 285,
     "metadata": {},
     "output_type": "execute_result"
    }
   ],
   "source": [
    "bounding_boxes"
   ]
  },
  {
   "cell_type": "code",
   "execution_count": 286,
   "metadata": {},
   "outputs": [
    {
     "data": {
      "text/plain": [
       "<matplotlib.image.AxesImage at 0x2e6d01600>"
      ]
     },
     "execution_count": 286,
     "metadata": {},
     "output_type": "execute_result"
    },
    {
     "data": {
      "image/png": "[encoded data removed]",
      "text/plain": [
       "<Figure size 640x480 with 1 Axes>"
      ]
     },
     "metadata": {},
     "output_type": "display_data"
    }
   ],
   "source": [
    "plt.imshow(\n",
    "    draw_bounding_boxes(batch[\"images\"][0],\n",
    "                        box_convert(\n",
    "                            bounding_boxes[0][\"bboxes\"], \n",
    "                            \"xywh\",\n",
    "                            \"xyxy\"\n",
    "                        ), \n",
    "                        bounding_boxes[0][\"labels\"])\n",
    ")"
   ]
  },
  {
   "cell_type": "code",
   "execution_count": null,
   "metadata": {},
   "outputs": [],
   "source": []
  }
 ],
 "metadata": {
  "kernelspec": {
   "display_name": "mini-yolov3-a3VRlvzj-py3.10",
   "language": "python",
   "name": "python3"
  },
  "language_info": {
   "codemirror_mode": {
    "name": "ipython",
    "version": 3
   },
   "file_extension": ".py",
   "mimetype": "text/x-python",
   "name": "python",
   "nbconvert_exporter": "python",
   "pygments_lexer": "ipython3",
   "version": "3.10.13"
  }
 },
 "nbformat": 4,
 "nbformat_minor": 2
}
