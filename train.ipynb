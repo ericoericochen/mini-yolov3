{
 "cells": [
  {
   "cell_type": "code",
   "execution_count": 1,
   "metadata": {},
   "outputs": [],
   "source": [
    "%load_ext autoreload\n",
    "%autoreload 2"
   ]
  },
  {
   "cell_type": "code",
   "execution_count": 2,
   "metadata": {},
   "outputs": [
    {
     "name": "stderr",
     "output_type": "stream",
     "text": [
      "/Users/ericchen/Library/Caches/pypoetry/virtualenvs/mini-yolov3-a3VRlvzj-py3.10/lib/python3.10/site-packages/tqdm/auto.py:21: TqdmWarning: IProgress not found. Please update jupyter and ipywidgets. See https://ipywidgets.readthedocs.io/en/stable/user_install.html\n",
      "  from .autonotebook import tqdm as notebook_tqdm\n"
     ]
    }
   ],
   "source": [
    "from mini_yolov3.model import MiniYoloV3\n",
    "from mini_yolov3.trainer import Trainer\n",
    "import torch\n",
    "from torchvision.transforms import v2\n",
    "from mini_yolov3.dataset import SVHNDataset, collate_fn\n",
    "from torch.utils.data import Subset, DataLoader\n",
    "from mini_yolov3.loss import YOLOLoss, build_targets\n",
    "import matplotlib.pyplot as plt\n",
    "from mini_yolov3.utils import draw_bounding_boxes\n",
    "from torchvision.ops import box_convert\n",
    "from mini_yolov3.evals import calculate_mAP\n",
    "from torchvision.ops import box_iou\n",
    "from tqdm import tqdm"
   ]
  },
  {
   "cell_type": "code",
   "execution_count": 3,
   "metadata": {},
   "outputs": [],
   "source": [
    "train_dataset = SVHNDataset(split=\"train\")\n",
    "# train_dataset = Subset(train_dataset, range(12, 13))\n",
    "train_dataset = Subset(train_dataset, range(0, 2))"
   ]
  },
  {
   "cell_type": "code",
   "execution_count": 4,
   "metadata": {},
   "outputs": [
    {
     "data": {
      "text/plain": [
       "tensor([[0.3551, 0.0217, 0.1963, 0.8696],\n",
       "        [0.5327, 0.0652, 0.1495, 0.8696]])"
      ]
     },
     "execution_count": 4,
     "metadata": {},
     "output_type": "execute_result"
    }
   ],
   "source": [
    "train_dataset[0][\"bbox\"]"
   ]
  },
  {
   "cell_type": "code",
   "execution_count": 5,
   "metadata": {},
   "outputs": [
    {
     "data": {
      "text/plain": [
       "<matplotlib.image.AxesImage at 0x296eba830>"
      ]
     },
     "execution_count": 5,
     "metadata": {},
     "output_type": "execute_result"
    },
    {
     "data": {
      "image/png": "[encoded data removed]",
      "text/plain": [
       "<Figure size 640x480 with 1 Axes>"
      ]
     },
     "metadata": {},
     "output_type": "display_data"
    }
   ],
   "source": [
    "plt.imshow(train_dataset[0][\"image\"].permute(1, 2, 0))"
   ]
  },
  {
   "cell_type": "code",
   "execution_count": 10,
   "metadata": {},
   "outputs": [
    {
     "data": {
      "text/plain": [
       "<matplotlib.image.AxesImage at 0x297894ca0>"
      ]
     },
     "execution_count": 10,
     "metadata": {},
     "output_type": "execute_result"
    },
    {
     "data": {
      "image/png": "[encoded data removed]",
      "text/plain": [
       "<Figure size 640x480 with 1 Axes>"
      ]
     },
     "metadata": {},
     "output_type": "display_data"
    }
   ],
   "source": [
    "plt.imshow(\n",
    "    draw_bounding_boxes(train_dataset[0][\"image\"], box_convert(train_dataset[0][\"bbox\"], \"xywh\", \"xyxy\"), train_dataset[0][\"labels\"])\n",
    ")"
   ]
  },
  {
   "cell_type": "code",
   "execution_count": 11,
   "metadata": {},
   "outputs": [],
   "source": [
    "dataloader = DataLoader(train_dataset, batch_size=2, shuffle=True, collate_fn=collate_fn)"
   ]
  },
  {
   "cell_type": "code",
   "execution_count": 12,
   "metadata": {},
   "outputs": [
    {
     "data": {
      "text/plain": [
       "1"
      ]
     },
     "execution_count": 12,
     "metadata": {},
     "output_type": "execute_result"
    }
   ],
   "source": [
    "len(dataloader)"
   ]
  },
  {
   "cell_type": "code",
   "execution_count": 13,
   "metadata": {},
   "outputs": [
    {
     "name": "stdout",
     "output_type": "stream",
     "text": [
      "[tensor([[0.3551, 0.0217, 0.1963, 0.8696],\n",
      "        [0.5327, 0.0652, 0.1495, 0.8696]]), tensor([[0.3443, 0.1290, 0.1967, 0.7419],\n",
      "        [0.5082, 0.1613, 0.1639, 0.7419]])]\n",
      "tensor([[0.4533, 0.4565, 0.1963, 0.8696],\n",
      "        [0.6075, 0.5000, 0.1495, 0.8696]])\n"
     ]
    },
    {
     "ename": "NameError",
     "evalue": "name 'anchors' is not defined",
     "output_type": "error",
     "traceback": [
      "\u001b[0;31m---------------------------------------------------------------------------\u001b[0m",
      "\u001b[0;31mNameError\u001b[0m                                 Traceback (most recent call last)",
      "Cell \u001b[0;32mIn[13], line 4\u001b[0m\n\u001b[1;32m      2\u001b[0m \u001b[38;5;28mprint\u001b[39m(batch[\u001b[38;5;124m\"\u001b[39m\u001b[38;5;124mbboxes\u001b[39m\u001b[38;5;124m\"\u001b[39m])\n\u001b[1;32m      3\u001b[0m \u001b[38;5;28mprint\u001b[39m(box_convert(batch[\u001b[38;5;124m\"\u001b[39m\u001b[38;5;124mbboxes\u001b[39m\u001b[38;5;124m\"\u001b[39m][\u001b[38;5;241m0\u001b[39m], \u001b[38;5;124m\"\u001b[39m\u001b[38;5;124mxywh\u001b[39m\u001b[38;5;124m\"\u001b[39m, \u001b[38;5;124m\"\u001b[39m\u001b[38;5;124mcxcywh\u001b[39m\u001b[38;5;124m\"\u001b[39m))\n\u001b[0;32m----> 4\u001b[0m targets \u001b[38;5;241m=\u001b[39m build_targets(batch[\u001b[38;5;124m\"\u001b[39m\u001b[38;5;124mbboxes\u001b[39m\u001b[38;5;124m\"\u001b[39m], batch[\u001b[38;5;124m\"\u001b[39m\u001b[38;5;124mlabels\u001b[39m\u001b[38;5;124m\"\u001b[39m], (\u001b[38;5;241m2\u001b[39m, \u001b[38;5;241m2\u001b[39m), \u001b[43manchors\u001b[49m, \u001b[38;5;241m10\u001b[39m)\n",
      "\u001b[0;31mNameError\u001b[0m: name 'anchors' is not defined"
     ]
    }
   ],
   "source": [
    "for batch in dataloader:\n",
    "    print(batch[\"bboxes\"])\n",
    "    print(box_convert(batch[\"bboxes\"][0], \"xywh\", \"cxcywh\"))\n",
    "    targets = build_targets(batch[\"bboxes\"], batch[\"labels\"], (2, 2), anchors, 10)"
   ]
  },
  {
   "cell_type": "code",
   "execution_count": 14,
   "metadata": {},
   "outputs": [
    {
     "data": {
      "text/plain": [
       "torch.Size([2, 3, 32, 32])"
      ]
     },
     "execution_count": 14,
     "metadata": {},
     "output_type": "execute_result"
    }
   ],
   "source": [
    "batch[\"images\"].shape"
   ]
  },
  {
   "cell_type": "code",
   "execution_count": 15,
   "metadata": {},
   "outputs": [],
   "source": [
    "import json"
   ]
  },
  {
   "cell_type": "code",
   "execution_count": 18,
   "metadata": {},
   "outputs": [],
   "source": [
    "torch.manual_seed(0)\n",
    "\n",
    "config = json.load(open(\"./configs/experiment2.json\", \"r\"))\n",
    "model = MiniYoloV3(**config)\n",
    "\n",
    "trainer = Trainer(\n",
    "    model=model,\n",
    "    train_dataset=train_dataset,\n",
    "    num_epochs=250,\n",
    "    lr=3e-3,\n",
    "    batch_size=64,\n",
    "    lambda_coord=0.05,\n",
    "    lambda_conf=1.0,\n",
    "    lambda_cls=0.5,\n",
    "    device=\"cpu\",\n",
    "    eval_every=100000,\n",
    ")"
   ]
  },
  {
   "cell_type": "code",
   "execution_count": 19,
   "metadata": {},
   "outputs": [
    {
     "name": "stderr",
     "output_type": "stream",
     "text": [
      "100%|██████████| 250/250 [00:31<00:00,  7.81it/s, class_loss=0.000115, conf_loss=0.00861, coord_loss=0.000235, loss=0.00896]\n"
     ]
    },
    {
     "data": {
      "text/plain": [
       "[4.237380027770996,\n",
       " 3.8620736598968506,\n",
       " 3.577378273010254,\n",
       " 3.361248731613159,\n",
       " 3.171163558959961,\n",
       " 2.9990651607513428,\n",
       " 2.8369345664978027,\n",
       " 2.6770408153533936,\n",
       " 2.5234155654907227,\n",
       " 2.3755412101745605,\n",
       " 2.2305381298065186,\n",
       " 2.0886406898498535,\n",
       " 1.9467837810516357,\n",
       " 1.8106889724731445,\n",
       " 1.6739248037338257,\n",
       " 1.551800012588501,\n",
       " 1.4411200284957886,\n",
       " 1.3373368978500366,\n",
       " 1.241340160369873,\n",
       " 1.1499813795089722,\n",
       " 1.0654582977294922,\n",
       " 0.9885796904563904,\n",
       " 0.9162728786468506,\n",
       " 0.8516891002655029,\n",
       " 0.7883914113044739,\n",
       " 0.7029836773872375,\n",
       " 0.5748793482780457,\n",
       " 0.43877971172332764,\n",
       " 0.5310057401657104,\n",
       " 0.33730143308639526,\n",
       " 0.32307159900665283,\n",
       " 0.3047856390476227,\n",
       " 0.2673504948616028,\n",
       " 0.22866085171699524,\n",
       " 0.20248526334762573,\n",
       " 0.18167546391487122,\n",
       " 0.16394536197185516,\n",
       " 0.15221592783927917,\n",
       " 0.14193397760391235,\n",
       " 0.13449931144714355,\n",
       " 0.1251368373632431,\n",
       " 0.11213429272174835,\n",
       " 0.1055484414100647,\n",
       " 0.098044253885746,\n",
       " 0.08839250355958939,\n",
       " 0.08499671518802643,\n",
       " 0.08071466535329819,\n",
       " 0.07506387680768967,\n",
       " 0.07043834030628204,\n",
       " 0.06818313896656036,\n",
       " 0.06219881772994995,\n",
       " 0.06000368297100067,\n",
       " 0.057476721704006195,\n",
       " 0.05417532101273537,\n",
       " 0.05297354608774185,\n",
       " 0.052493199706077576,\n",
       " 0.049842897802591324,\n",
       " 0.04899336025118828,\n",
       " 0.04650573804974556,\n",
       " 0.0443098284304142,\n",
       " 0.04266468062996864,\n",
       " 0.04112084209918976,\n",
       " 0.039684951305389404,\n",
       " 0.03960172459483147,\n",
       " 0.039021339267492294,\n",
       " 0.038261283189058304,\n",
       " 0.037661854177713394,\n",
       " 0.03672811761498451,\n",
       " 0.0358782634139061,\n",
       " 0.03529612347483635,\n",
       " 0.03449967876076698,\n",
       " 0.03363623842597008,\n",
       " 0.033174820244312286,\n",
       " 0.03261375054717064,\n",
       " 0.03212634101510048,\n",
       " 0.031586654484272,\n",
       " 0.031072115525603294,\n",
       " 0.030690275132656097,\n",
       " 0.03024205006659031,\n",
       " 0.029709570109844208,\n",
       " 0.029274530708789825,\n",
       " 0.028842413797974586,\n",
       " 0.028485679998993874,\n",
       " 0.02812376618385315,\n",
       " 0.02776634693145752,\n",
       " 0.027452025562524796,\n",
       " 0.027141643688082695,\n",
       " 0.02685653604567051,\n",
       " 0.02656744420528412,\n",
       " 0.026246529072523117,\n",
       " 0.025962404906749725,\n",
       " 0.025683801621198654,\n",
       " 0.02542376145720482,\n",
       " 0.025174302980303764,\n",
       " 0.024930287152528763,\n",
       " 0.02471853792667389,\n",
       " 0.024480773136019707,\n",
       " 0.024258358404040337,\n",
       " 0.024033693596720695,\n",
       " 0.02382146194577217,\n",
       " 0.023608921095728874,\n",
       " 0.023394567891955376,\n",
       " 0.023198219016194344,\n",
       " 0.02300163544714451,\n",
       " 0.02281380444765091,\n",
       " 0.022619299590587616,\n",
       " 0.022433020174503326,\n",
       " 0.022248579189181328,\n",
       " 0.022068297490477562,\n",
       " 0.021888181567192078,\n",
       " 0.021709464490413666,\n",
       " 0.021538984030485153,\n",
       " 0.02136780507862568,\n",
       " 0.02120126038789749,\n",
       " 0.021034538745880127,\n",
       " 0.02087486907839775,\n",
       " 0.020714350044727325,\n",
       " 0.020555749535560608,\n",
       " 0.020396003499627113,\n",
       " 0.02024134248495102,\n",
       " 0.02009030431509018,\n",
       " 0.01993873529136181,\n",
       " 0.019791454076766968,\n",
       " 0.019645830616354942,\n",
       " 0.019501540809869766,\n",
       " 0.01935933157801628,\n",
       " 0.019218415021896362,\n",
       " 0.019078703597187996,\n",
       " 0.01894097402691841,\n",
       " 0.018804434686899185,\n",
       " 0.01867016963660717,\n",
       " 0.01853625290095806,\n",
       " 0.01840587519109249,\n",
       " 0.01827544905245304,\n",
       " 0.018145931884646416,\n",
       " 0.018023524433374405,\n",
       " 0.017899157479405403,\n",
       " 0.017769932746887207,\n",
       " 0.017642928287386894,\n",
       " 0.017539987340569496,\n",
       " 0.017415238544344902,\n",
       " 0.017289146780967712,\n",
       " 0.017172975465655327,\n",
       " 0.017051590606570244,\n",
       " 0.016940150409936905,\n",
       " 0.01682332716882229,\n",
       " 0.016711382195353508,\n",
       " 0.016599318012595177,\n",
       " 0.016490168869495392,\n",
       " 0.016378022730350494,\n",
       " 0.01627138815820217,\n",
       " 0.01616303250193596,\n",
       " 0.016056682914495468,\n",
       " 0.015950966626405716,\n",
       " 0.01584484800696373,\n",
       " 0.015740681439638138,\n",
       " 0.015636956319212914,\n",
       " 0.015534784644842148,\n",
       " 0.015433494001626968,\n",
       " 0.015332327224314213,\n",
       " 0.015232540667057037,\n",
       " 0.0151369022205472,\n",
       " 0.015037628822028637,\n",
       " 0.01493987999856472,\n",
       " 0.014843377284705639,\n",
       " 0.01474838238209486,\n",
       " 0.014653335325419903,\n",
       " 0.014558189548552036,\n",
       " 0.014466283842921257,\n",
       " 0.014372426085174084,\n",
       " 0.014281685464084148,\n",
       " 0.014193102717399597,\n",
       " 0.014103432185947895,\n",
       " 0.014012749306857586,\n",
       " 0.01392359845340252,\n",
       " 0.013836091384291649,\n",
       " 0.013748165220022202,\n",
       " 0.013662074692547321,\n",
       " 0.013577085919678211,\n",
       " 0.013490925543010235,\n",
       " 0.013404767028987408,\n",
       " 0.013320491649210453,\n",
       " 0.013236723840236664,\n",
       " 0.01315484568476677,\n",
       " 0.013071413151919842,\n",
       " 0.012988905422389507,\n",
       " 0.012909064069390297,\n",
       " 0.012830610387027264,\n",
       " 0.012749076820909977,\n",
       " 0.012666990980505943,\n",
       " 0.012588254176080227,\n",
       " 0.012510876171290874,\n",
       " 0.01243105810135603,\n",
       " 0.01235483679920435,\n",
       " 0.012277950532734394,\n",
       " 0.012200788594782352,\n",
       " 0.012124454602599144,\n",
       " 0.012049255892634392,\n",
       " 0.011975279077887535,\n",
       " 0.011901557445526123,\n",
       " 0.01182586420327425,\n",
       " 0.0117542939260602,\n",
       " 0.011680581606924534,\n",
       " 0.011607907712459564,\n",
       " 0.011535489931702614,\n",
       " 0.011463634669780731,\n",
       " 0.011394042521715164,\n",
       " 0.011323141865432262,\n",
       " 0.011251476593315601,\n",
       " 0.011183038353919983,\n",
       " 0.011113675311207771,\n",
       " 0.011044241487979889,\n",
       " 0.010977248661220074,\n",
       " 0.010907279327511787,\n",
       " 0.010839760303497314,\n",
       " 0.010773668065667152,\n",
       " 0.010708487592637539,\n",
       " 0.010643619112670422,\n",
       " 0.01057735737413168,\n",
       " 0.01051558181643486,\n",
       " 0.010451494716107845,\n",
       " 0.010383151471614838,\n",
       " 0.01031738705933094,\n",
       " 0.01025400310754776,\n",
       " 0.010190427303314209,\n",
       " 0.010127776302397251,\n",
       " 0.010064473375678062,\n",
       " 0.010007599368691444,\n",
       " 0.009953982196748257,\n",
       " 0.009905689395964146,\n",
       " 0.009859112091362476,\n",
       " 0.009809711016714573,\n",
       " 0.00976070761680603,\n",
       " 0.009718623012304306,\n",
       " 0.009685137309134007,\n",
       " 0.009749803692102432,\n",
       " 0.009946710430085659,\n",
       " 0.010181477293372154,\n",
       " 0.010385837405920029,\n",
       " 0.010629176162183285,\n",
       " 0.010854080319404602,\n",
       " 0.01048846635967493,\n",
       " 0.009652811102569103,\n",
       " 0.009112823754549026,\n",
       " 0.00933451484888792,\n",
       " 0.009672061540186405,\n",
       " 0.009573978371918201,\n",
       " 0.009171122685074806,\n",
       " 0.008850649930536747,\n",
       " 0.008956526406109333]"
      ]
     },
     "execution_count": 19,
     "metadata": {},
     "output_type": "execute_result"
    },
    {
     "data": {
      "image/png": "[encoded data removed]",
      "text/plain": [
       "<Figure size 640x480 with 1 Axes>"
      ]
     },
     "metadata": {},
     "output_type": "display_data"
    }
   ],
   "source": [
    "trainer.train()"
   ]
  },
  {
   "cell_type": "code",
   "execution_count": 20,
   "metadata": {},
   "outputs": [
    {
     "data": {
      "text/plain": [
       "torch.Size([2, 8, 8, 30])"
      ]
     },
     "execution_count": 20,
     "metadata": {},
     "output_type": "execute_result"
    }
   ],
   "source": [
    "pred = model(batch[\"images\"])\n",
    "pred.shape"
   ]
  },
  {
   "cell_type": "code",
   "execution_count": 21,
   "metadata": {},
   "outputs": [
    {
     "data": {
      "text/plain": [
       "(tensor([-2.6441, -5.8607, -0.9783, -0.9358, -6.9977, -3.7873, -3.3248, -5.9987,\n",
       "         -2.9393,  1.9041, -2.2704, -1.5385,  2.6197, -4.5072,  2.4081,  0.7280,\n",
       "         -2.1601,  3.8518,  2.2556, -8.4334, -1.6914, -2.0294, -1.9620, -1.7908,\n",
       "         -0.9955, -1.2437, -4.5200, -0.8998, -1.8342, -4.5104],\n",
       "        grad_fn=<SliceBackward0>),\n",
       " tensor([ -1.4434,  -6.8793,   0.0505,  -0.0793,  -9.7199,  -5.1618,  -0.7376,\n",
       "          -5.0574,  -4.9618,  -0.1618,  -3.9022,   0.0689,   2.0250,  -6.5066,\n",
       "          -0.3451,   6.0562,  -1.3407,   2.9400,   8.1228, -11.2949,  -4.4852,\n",
       "          -3.9432,   1.8130,  -5.4489,  -2.5306,   2.4927,   1.5243,  -3.3283,\n",
       "           1.2768,  -4.3796], grad_fn=<SliceBackward0>))"
      ]
     },
     "execution_count": 21,
     "metadata": {},
     "output_type": "execute_result"
    }
   ],
   "source": [
    "pred[0, 0, 0, :], pred[0, 1, 1, :]"
   ]
  },
  {
   "cell_type": "code",
   "execution_count": 26,
   "metadata": {},
   "outputs": [],
   "source": [
    "i = 1"
   ]
  },
  {
   "cell_type": "code",
   "execution_count": 27,
   "metadata": {},
   "outputs": [
    {
     "data": {
      "text/plain": [
       "[{'bboxes': tensor([[0.6074, 0.5000, 0.1496, 0.8866],\n",
       "          [0.4535, 0.4572, 0.1985, 0.8621]]),\n",
       "  'confidence': tensor([0.7081, 0.7058]),\n",
       "  'labels': tensor([6, 4]),\n",
       "  'scores': tensor([0.9995, 0.9998])},\n",
       " {'bboxes': tensor([[0.5890, 0.5319, 0.1650, 0.7256],\n",
       "          [0.4397, 0.5000, 0.1962, 0.7050]]),\n",
       "  'confidence': tensor([0.8386, 0.8134]),\n",
       "  'labels': tensor([1, 7]),\n",
       "  'scores': tensor([0.9998, 0.9999])}]"
      ]
     },
     "execution_count": 27,
     "metadata": {},
     "output_type": "execute_result"
    }
   ],
   "source": [
    "output = model.inference(\n",
    "    batch[\"images\"],\n",
    ")\n",
    "\n",
    "bounding_boxes = output.bboxes\n",
    "bounding_boxes"
   ]
  },
  {
   "cell_type": "code",
   "execution_count": 28,
   "metadata": {},
   "outputs": [
    {
     "data": {
      "text/plain": [
       "<matplotlib.image.AxesImage at 0x2d5490cd0>"
      ]
     },
     "execution_count": 28,
     "metadata": {},
     "output_type": "execute_result"
    },
    {
     "data": {
      "image/png": "[encoded data removed]",
      "text/plain": [
       "<Figure size 640x480 with 1 Axes>"
      ]
     },
     "metadata": {},
     "output_type": "display_data"
    }
   ],
   "source": [
    "plt.imshow(\n",
    "    draw_bounding_boxes(batch[\"images\"][i],\n",
    "                        box_convert(\n",
    "                            bounding_boxes[i][\"bboxes\"], \n",
    "                            \"cxcywh\",\n",
    "                            \"xyxy\"\n",
    "                        ), \n",
    "                        bounding_boxes[i][\"labels\"]\n",
    ")\n",
    ")"
   ]
  },
  {
   "cell_type": "code",
   "execution_count": 29,
   "metadata": {},
   "outputs": [
    {
     "data": {
      "image/jpeg": "[encoded data removed]",
      "image/png": "[encoded data removed]",
      "text/plain": [
       "<PIL.Image.Image image mode=RGB size=256x256>"
      ]
     },
     "execution_count": 29,
     "metadata": {},
     "output_type": "execute_result"
    }
   ],
   "source": [
    "draw_bounding_boxes(batch[\"images\"][i],\n",
    "                        box_convert(\n",
    "                            bounding_boxes[i][\"bboxes\"], \n",
    "                            \"cxcywh\",\n",
    "                            \"xyxy\"\n",
    "                        ), \n",
    "                        bounding_boxes[i][\"labels\"]\n",
    ").resize((256, 256), 0)"
   ]
  },
  {
   "cell_type": "code",
   "execution_count": 83,
   "metadata": {},
   "outputs": [
    {
     "name": "stderr",
     "output_type": "stream",
     "text": [
      "100%|██████████| 1/1 [00:00<00:00, 52.11it/s]\n"
     ]
    },
    {
     "data": {
      "text/plain": [
       "{'map': 1.0,\n",
       " 'map_50': 1.0,\n",
       " 'map_75': 1.0,\n",
       " 'map_small': 1.0,\n",
       " 'map_medium': -1.0,\n",
       " 'map_large': -1.0,\n",
       " 'mar_1': 1.0,\n",
       " 'mar_10': 1.0,\n",
       " 'mar_100': 1.0,\n",
       " 'mar_small': 1.0,\n",
       " 'mar_medium': -1.0,\n",
       " 'mar_large': -1.0,\n",
       " 'map_per_class': -1.0,\n",
       " 'mar_100_per_class': -1.0,\n",
       " 'classes': [1, 4, 6, 7]}"
      ]
     },
     "execution_count": 83,
     "metadata": {},
     "output_type": "execute_result"
    }
   ],
   "source": [
    "calculate_mAP(\n",
    "    model,\n",
    "    trainer.train_loader,\n",
    ")"
   ]
  },
  {
   "cell_type": "code",
   "execution_count": null,
   "metadata": {},
   "outputs": [],
   "source": []
  }
 ],
 "metadata": {
  "kernelspec": {
   "display_name": "mini-yolov3-a3VRlvzj-py3.10",
   "language": "python",
   "name": "python3"
  },
  "language_info": {
   "codemirror_mode": {
    "name": "ipython",
    "version": 3
   },
   "file_extension": ".py",
   "mimetype": "text/x-python",
   "name": "python",
   "nbconvert_exporter": "python",
   "pygments_lexer": "ipython3",
   "version": "3.10.13"
  }
 },
 "nbformat": 4,
 "nbformat_minor": 2
}
