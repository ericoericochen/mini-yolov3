{
 "cells": [
  {
   "cell_type": "code",
   "execution_count": 72,
   "metadata": {},
   "outputs": [
    {
     "name": "stdout",
     "output_type": "stream",
     "text": [
      "The autoreload extension is already loaded. To reload it, use:\n",
      "  %reload_ext autoreload\n"
     ]
    }
   ],
   "source": [
    "%load_ext autoreload\n",
    "%autoreload 2"
   ]
  },
  {
   "cell_type": "code",
   "execution_count": 73,
   "metadata": {},
   "outputs": [],
   "source": [
    "from mini_yolov3.model import MiniYoloV3\n",
    "from mini_yolov3.trainer import Trainer\n",
    "import torch\n",
    "from torchvision.transforms import v2\n",
    "from mini_yolov3.dataset import SVHNDataset, collate_fn\n",
    "from torch.utils.data import Subset, DataLoader\n",
    "from mini_yolov3.loss import YOLOLoss, build_targets\n",
    "import matplotlib.pyplot as plt\n",
    "from mini_yolov3.utils import draw_bounding_boxes\n",
    "from torchvision.ops import box_convert\n",
    "from mini_yolov3.evals import calculate_mAP\n",
    "from torchvision.ops import box_iou\n",
    "from tqdm import tqdm"
   ]
  },
  {
   "cell_type": "code",
   "execution_count": 74,
   "metadata": {},
   "outputs": [],
   "source": [
    "train_dataset = SVHNDataset(split=\"train\")\n",
    "# train_dataset = Subset(train_dataset, range(12, 13))\n",
    "train_dataset = Subset(train_dataset, range(0, 2))"
   ]
  },
  {
   "cell_type": "code",
   "execution_count": 75,
   "metadata": {},
   "outputs": [
    {
     "data": {
      "text/plain": [
       "tensor([[0.3551, 0.0217, 0.1963, 0.8696],\n",
       "        [0.5327, 0.0652, 0.1495, 0.8696]])"
      ]
     },
     "execution_count": 75,
     "metadata": {},
     "output_type": "execute_result"
    }
   ],
   "source": [
    "train_dataset[0][\"bbox\"]"
   ]
  },
  {
   "cell_type": "code",
   "execution_count": 76,
   "metadata": {},
   "outputs": [
    {
     "data": {
      "text/plain": [
       "<matplotlib.image.AxesImage at 0x2d10ec970>"
      ]
     },
     "execution_count": 76,
     "metadata": {},
     "output_type": "execute_result"
    },
    {
     "data": {
      "image/png": "[encoded data removed]",
      "text/plain": [
       "<Figure size 640x480 with 1 Axes>"
      ]
     },
     "metadata": {},
     "output_type": "display_data"
    }
   ],
   "source": [
    "plt.imshow(train_dataset[0][\"image\"].permute(1, 2, 0))"
   ]
  },
  {
   "cell_type": "code",
   "execution_count": 77,
   "metadata": {},
   "outputs": [
    {
     "data": {
      "text/plain": [
       "<matplotlib.image.AxesImage at 0x2d0dfed10>"
      ]
     },
     "execution_count": 77,
     "metadata": {},
     "output_type": "execute_result"
    },
    {
     "data": {
      "image/png": "[encoded data removed]",
      "text/plain": [
       "<Figure size 640x480 with 1 Axes>"
      ]
     },
     "metadata": {},
     "output_type": "display_data"
    }
   ],
   "source": [
    "plt.imshow(\n",
    "    draw_bounding_boxes(train_dataset[0][\"image\"], box_convert(train_dataset[0][\"bbox\"], \"xywh\", \"xyxy\"), train_dataset[0][\"labels\"])\n",
    ")"
   ]
  },
  {
   "cell_type": "code",
   "execution_count": 78,
   "metadata": {},
   "outputs": [],
   "source": [
    "dataloader = DataLoader(train_dataset, batch_size=2, shuffle=True, collate_fn=collate_fn)"
   ]
  },
  {
   "cell_type": "code",
   "execution_count": 79,
   "metadata": {},
   "outputs": [
    {
     "data": {
      "text/plain": [
       "1"
      ]
     },
     "execution_count": 79,
     "metadata": {},
     "output_type": "execute_result"
    }
   ],
   "source": [
    "len(dataloader)"
   ]
  },
  {
   "cell_type": "code",
   "execution_count": 80,
   "metadata": {},
   "outputs": [
    {
     "name": "stdout",
     "output_type": "stream",
     "text": [
      "[tensor([[0.3443, 0.1290, 0.1967, 0.7419],\n",
      "        [0.5082, 0.1613, 0.1639, 0.7419]]), tensor([[0.3551, 0.0217, 0.1963, 0.8696],\n",
      "        [0.5327, 0.0652, 0.1495, 0.8696]])]\n",
      "tensor([[0.4426, 0.5000, 0.1967, 0.7419],\n",
      "        [0.5902, 0.5323, 0.1639, 0.7419]])\n"
     ]
    },
    {
     "ename": "NameError",
     "evalue": "name 'anchors' is not defined",
     "output_type": "error",
     "traceback": [
      "\u001b[0;31m---------------------------------------------------------------------------\u001b[0m",
      "\u001b[0;31mNameError\u001b[0m                                 Traceback (most recent call last)",
      "Cell \u001b[0;32mIn[80], line 4\u001b[0m\n\u001b[1;32m      2\u001b[0m \u001b[38;5;28mprint\u001b[39m(batch[\u001b[38;5;124m\"\u001b[39m\u001b[38;5;124mbboxes\u001b[39m\u001b[38;5;124m\"\u001b[39m])\n\u001b[1;32m      3\u001b[0m \u001b[38;5;28mprint\u001b[39m(box_convert(batch[\u001b[38;5;124m\"\u001b[39m\u001b[38;5;124mbboxes\u001b[39m\u001b[38;5;124m\"\u001b[39m][\u001b[38;5;241m0\u001b[39m], \u001b[38;5;124m\"\u001b[39m\u001b[38;5;124mxywh\u001b[39m\u001b[38;5;124m\"\u001b[39m, \u001b[38;5;124m\"\u001b[39m\u001b[38;5;124mcxcywh\u001b[39m\u001b[38;5;124m\"\u001b[39m))\n\u001b[0;32m----> 4\u001b[0m targets \u001b[38;5;241m=\u001b[39m build_targets(batch[\u001b[38;5;124m\"\u001b[39m\u001b[38;5;124mbboxes\u001b[39m\u001b[38;5;124m\"\u001b[39m], batch[\u001b[38;5;124m\"\u001b[39m\u001b[38;5;124mlabels\u001b[39m\u001b[38;5;124m\"\u001b[39m], (\u001b[38;5;241m2\u001b[39m, \u001b[38;5;241m2\u001b[39m), \u001b[43manchors\u001b[49m, \u001b[38;5;241m10\u001b[39m)\n",
      "\u001b[0;31mNameError\u001b[0m: name 'anchors' is not defined"
     ]
    }
   ],
   "source": [
    "for batch in dataloader:\n",
    "    print(batch[\"bboxes\"])\n",
    "    print(box_convert(batch[\"bboxes\"][0], \"xywh\", \"cxcywh\"))\n",
    "    targets = build_targets(batch[\"bboxes\"], batch[\"labels\"], (2, 2), anchors, 10)"
   ]
  },
  {
   "cell_type": "code",
   "execution_count": null,
   "metadata": {},
   "outputs": [
    {
     "data": {
      "text/plain": [
       "torch.Size([2, 3, 32, 32])"
      ]
     },
     "execution_count": 10,
     "metadata": {},
     "output_type": "execute_result"
    }
   ],
   "source": [
    "batch[\"images\"].shape"
   ]
  },
  {
   "cell_type": "code",
   "execution_count": null,
   "metadata": {},
   "outputs": [],
   "source": [
    "import json"
   ]
  },
  {
   "cell_type": "code",
   "execution_count": 97,
   "metadata": {},
   "outputs": [],
   "source": [
    "torch.manual_seed(0)\n",
    "\n",
    "config = json.load(open(\"./configs/experiment2.json\", \"r\"))\n",
    "model = MiniYoloV3(**config)\n",
    "\n",
    "trainer = Trainer(\n",
    "    model=model,\n",
    "    train_dataset=train_dataset,\n",
    "    num_epochs=100,\n",
    "    lr=3e-3,\n",
    "    batch_size=64,\n",
    "    lambda_coord=0.05,\n",
    "    lambda_conf=1.0,\n",
    "    lambda_cls=0.5,\n",
    "    device=\"cpu\",\n",
    "    eval_every=100000,\n",
    ")"
   ]
  },
  {
   "cell_type": "code",
   "execution_count": 98,
   "metadata": {},
   "outputs": [
    {
     "name": "stderr",
     "output_type": "stream",
     "text": [
      "  0%|          | 0/100 [00:00<?, ?it/s]"
     ]
    },
    {
     "name": "stdout",
     "output_type": "stream",
     "text": [
      "torch.Size([8, 15]) torch.Size([8, 15])\n"
     ]
    },
    {
     "name": "stderr",
     "output_type": "stream",
     "text": [
      "\n"
     ]
    },
    {
     "ename": "RuntimeError",
     "evalue": "",
     "output_type": "error",
     "traceback": [
      "\u001b[0;31m---------------------------------------------------------------------------\u001b[0m",
      "\u001b[0;31mRuntimeError\u001b[0m                              Traceback (most recent call last)",
      "Cell \u001b[0;32mIn[98], line 1\u001b[0m\n\u001b[0;32m----> 1\u001b[0m \u001b[43mtrainer\u001b[49m\u001b[38;5;241;43m.\u001b[39;49m\u001b[43mtrain\u001b[49m\u001b[43m(\u001b[49m\u001b[43m)\u001b[49m\n",
      "File \u001b[0;32m~/Eric/mini-yolov3/mini_yolov3/trainer.py:163\u001b[0m, in \u001b[0;36mTrainer.train\u001b[0;34m(self)\u001b[0m\n\u001b[1;32m    161\u001b[0m \u001b[38;5;66;03m# make pred and compute loss\u001b[39;00m\n\u001b[1;32m    162\u001b[0m pred \u001b[38;5;241m=\u001b[39m model(images)\n\u001b[0;32m--> 163\u001b[0m loss, loss_breakdown \u001b[38;5;241m=\u001b[39m \u001b[43mcriterion\u001b[49m\u001b[43m(\u001b[49m\u001b[43mpred\u001b[49m\u001b[43m,\u001b[49m\u001b[43m \u001b[49m\u001b[43mbboxes\u001b[49m\u001b[43m,\u001b[49m\u001b[43m \u001b[49m\u001b[43mlabels\u001b[49m\u001b[43m)\u001b[49m\n\u001b[1;32m    165\u001b[0m epoch_loss \u001b[38;5;241m+\u001b[39m\u001b[38;5;241m=\u001b[39m loss\u001b[38;5;241m.\u001b[39mitem()\n\u001b[1;32m    167\u001b[0m \u001b[38;5;66;03m# back prop\u001b[39;00m\n",
      "File \u001b[0;32m~/Library/Caches/pypoetry/virtualenvs/mini-yolov3-a3VRlvzj-py3.10/lib/python3.10/site-packages/torch/nn/modules/module.py:1511\u001b[0m, in \u001b[0;36mModule._wrapped_call_impl\u001b[0;34m(self, *args, **kwargs)\u001b[0m\n\u001b[1;32m   1509\u001b[0m     \u001b[38;5;28;01mreturn\u001b[39;00m \u001b[38;5;28mself\u001b[39m\u001b[38;5;241m.\u001b[39m_compiled_call_impl(\u001b[38;5;241m*\u001b[39margs, \u001b[38;5;241m*\u001b[39m\u001b[38;5;241m*\u001b[39mkwargs)  \u001b[38;5;66;03m# type: ignore[misc]\u001b[39;00m\n\u001b[1;32m   1510\u001b[0m \u001b[38;5;28;01melse\u001b[39;00m:\n\u001b[0;32m-> 1511\u001b[0m     \u001b[38;5;28;01mreturn\u001b[39;00m \u001b[38;5;28;43mself\u001b[39;49m\u001b[38;5;241;43m.\u001b[39;49m\u001b[43m_call_impl\u001b[49m\u001b[43m(\u001b[49m\u001b[38;5;241;43m*\u001b[39;49m\u001b[43margs\u001b[49m\u001b[43m,\u001b[49m\u001b[43m \u001b[49m\u001b[38;5;241;43m*\u001b[39;49m\u001b[38;5;241;43m*\u001b[39;49m\u001b[43mkwargs\u001b[49m\u001b[43m)\u001b[49m\n",
      "File \u001b[0;32m~/Library/Caches/pypoetry/virtualenvs/mini-yolov3-a3VRlvzj-py3.10/lib/python3.10/site-packages/torch/nn/modules/module.py:1520\u001b[0m, in \u001b[0;36mModule._call_impl\u001b[0;34m(self, *args, **kwargs)\u001b[0m\n\u001b[1;32m   1515\u001b[0m \u001b[38;5;66;03m# If we don't have any hooks, we want to skip the rest of the logic in\u001b[39;00m\n\u001b[1;32m   1516\u001b[0m \u001b[38;5;66;03m# this function, and just call forward.\u001b[39;00m\n\u001b[1;32m   1517\u001b[0m \u001b[38;5;28;01mif\u001b[39;00m \u001b[38;5;129;01mnot\u001b[39;00m (\u001b[38;5;28mself\u001b[39m\u001b[38;5;241m.\u001b[39m_backward_hooks \u001b[38;5;129;01mor\u001b[39;00m \u001b[38;5;28mself\u001b[39m\u001b[38;5;241m.\u001b[39m_backward_pre_hooks \u001b[38;5;129;01mor\u001b[39;00m \u001b[38;5;28mself\u001b[39m\u001b[38;5;241m.\u001b[39m_forward_hooks \u001b[38;5;129;01mor\u001b[39;00m \u001b[38;5;28mself\u001b[39m\u001b[38;5;241m.\u001b[39m_forward_pre_hooks\n\u001b[1;32m   1518\u001b[0m         \u001b[38;5;129;01mor\u001b[39;00m _global_backward_pre_hooks \u001b[38;5;129;01mor\u001b[39;00m _global_backward_hooks\n\u001b[1;32m   1519\u001b[0m         \u001b[38;5;129;01mor\u001b[39;00m _global_forward_hooks \u001b[38;5;129;01mor\u001b[39;00m _global_forward_pre_hooks):\n\u001b[0;32m-> 1520\u001b[0m     \u001b[38;5;28;01mreturn\u001b[39;00m \u001b[43mforward_call\u001b[49m\u001b[43m(\u001b[49m\u001b[38;5;241;43m*\u001b[39;49m\u001b[43margs\u001b[49m\u001b[43m,\u001b[49m\u001b[43m \u001b[49m\u001b[38;5;241;43m*\u001b[39;49m\u001b[38;5;241;43m*\u001b[39;49m\u001b[43mkwargs\u001b[49m\u001b[43m)\u001b[49m\n\u001b[1;32m   1522\u001b[0m \u001b[38;5;28;01mtry\u001b[39;00m:\n\u001b[1;32m   1523\u001b[0m     result \u001b[38;5;241m=\u001b[39m \u001b[38;5;28;01mNone\u001b[39;00m\n",
      "File \u001b[0;32m~/Eric/mini-yolov3/mini_yolov3/loss.py:77\u001b[0m, in \u001b[0;36mYOLOLoss.forward\u001b[0;34m(self, pred, bboxes, labels)\u001b[0m\n\u001b[1;32m     73\u001b[0m obj_target \u001b[38;5;241m=\u001b[39m target[obj_mask]\n\u001b[1;32m     75\u001b[0m \u001b[38;5;28mprint\u001b[39m(obj_pred\u001b[38;5;241m.\u001b[39mshape, obj_target\u001b[38;5;241m.\u001b[39mshape)\n\u001b[0;32m---> 77\u001b[0m \u001b[38;5;28;01mraise\u001b[39;00m \u001b[38;5;167;01mRuntimeError\u001b[39;00m\n\u001b[1;32m     79\u001b[0m \u001b[38;5;66;03m# coord loss\u001b[39;00m\n\u001b[1;32m     80\u001b[0m obj_pred_txywh \u001b[38;5;241m=\u001b[39m obj_pred[\u001b[38;5;241m.\u001b[39m\u001b[38;5;241m.\u001b[39m\u001b[38;5;241m.\u001b[39m, :\u001b[38;5;241m4\u001b[39m]  \u001b[38;5;66;03m# (O, 4)\u001b[39;00m\n",
      "\u001b[0;31mRuntimeError\u001b[0m: "
     ]
    }
   ],
   "source": [
    "trainer.train()"
   ]
  },
  {
   "cell_type": "code",
   "execution_count": 83,
   "metadata": {},
   "outputs": [
    {
     "data": {
      "text/plain": [
       "[tensor([[[[ 5.5823e+00, -2.6199e+00,  1.8949e+00,  3.0887e+00, -5.2589e+00,\n",
       "            -3.4561e+00,  8.7781e-01,  2.2489e+00,  3.7033e-01, -3.1632e+00,\n",
       "            -3.4433e+00,  2.3431e-01, -2.7330e+00, -1.8185e-01, -1.4237e+00],\n",
       "           [-2.7997e+00, -6.9775e+00,  1.0724e+00,  2.2807e-01, -6.4843e+00,\n",
       "            -3.8240e+00, -1.6324e+00, -3.7564e+00, -4.7875e+00, -2.4117e+00,\n",
       "            -3.4526e+00,  8.7442e-02,  2.8034e+00, -7.9440e+00, -1.1564e-01],\n",
       "           [ 5.5694e+00, -2.5830e+00,  1.8965e+00,  3.1062e+00, -5.2213e+00,\n",
       "            -3.4632e+00,  9.1738e-01,  2.2247e+00,  3.4560e-01, -3.1445e+00,\n",
       "            -3.4346e+00,  1.9383e-01, -2.7772e+00, -1.6003e-01, -1.4663e+00],\n",
       "           [-1.2174e+00, -5.0398e+00,  1.0036e+00,  9.9833e-01, -6.0829e+00,\n",
       "            -2.8355e+00, -1.2589e+00, -2.1158e+00, -2.8860e+00, -2.0658e+00,\n",
       "            -2.0020e+00,  2.3954e-01,  1.5950e+00, -5.5108e+00,  2.5755e-01]],\n",
       " \n",
       "          [[ 6.8279e+00, -3.0934e+00,  2.2626e+00,  3.8127e+00, -6.3456e+00,\n",
       "            -4.2138e+00,  1.0477e+00,  2.7048e+00,  4.4694e-01, -3.7854e+00,\n",
       "            -4.2102e+00,  3.4999e-01, -3.3059e+00, -2.2495e-01, -1.6730e+00],\n",
       "           [-2.5504e+00, -5.4935e+00,  3.2685e-02,  7.9270e-01, -6.4057e+00,\n",
       "            -3.6748e+00, -3.1712e+00, -4.7694e+00, -4.7919e+00,  9.4547e-03,\n",
       "            -1.9830e+00, -1.5240e+00,  3.0419e+00, -7.5988e+00,  1.0338e+00],\n",
       "           [ 6.1442e+00, -2.7626e+00,  2.0547e+00,  3.3898e+00, -5.6664e+00,\n",
       "            -3.7471e+00,  9.7916e-01,  2.4823e+00,  4.1654e-01, -3.4207e+00,\n",
       "            -3.7482e+00,  2.7124e-01, -3.0086e+00, -1.3826e-01, -1.5540e+00],\n",
       "           [-1.7494e+00, -5.0973e+00,  1.4730e+00,  1.1156e+00, -6.7617e+00,\n",
       "            -2.5165e+00, -1.6795e+00, -2.3499e+00, -4.1917e+00, -1.5251e+00,\n",
       "            -1.3737e+00,  2.5718e-01,  2.6425e+00, -6.9121e+00,  9.8892e-01]],\n",
       " \n",
       "          [[ 4.9427e+00, -3.5263e+00,  1.4741e+00,  2.7406e+00, -5.2116e+00,\n",
       "            -3.9714e+00,  9.4220e-01,  1.7390e+00,  9.0351e-01, -4.1024e+00,\n",
       "            -4.1134e+00,  4.6435e-01, -2.9912e+00, -1.6844e-01, -2.0692e+00],\n",
       "           [ 1.2028e+00, -1.8408e+01,  2.7986e-01,  2.6449e-02,  5.6675e+00,\n",
       "            -1.9076e+01, -8.1107e+00, -1.1694e+01, -1.8625e+01, -1.0094e+01,\n",
       "            -1.6288e+01, -6.3973e+00,  4.6826e+00, -1.7082e+01, -1.2657e+01],\n",
       "           [-5.8826e-01, -1.9079e+00,  8.7214e-02,  2.4281e-02,  1.2529e+01,\n",
       "            -9.1959e+00,  6.3948e+00, -1.1224e+01, -9.8369e+00, -7.3830e+00,\n",
       "            -9.3875e+00, -7.0263e+00, -8.6346e+00, -8.4130e+00, -1.3084e+01],\n",
       "           [-3.1855e+00, -7.4472e+00,  7.4543e-01,  6.8852e-02, -6.3560e+00,\n",
       "            -4.1615e+00, -1.5220e+00, -4.1371e+00, -4.3253e+00, -2.9106e+00,\n",
       "            -3.8201e+00,  1.3672e-01,  2.6072e+00, -7.7487e+00, -4.5735e-01]],\n",
       " \n",
       "          [[ 6.2067e+00, -2.8722e+00,  2.0772e+00,  3.4507e+00, -5.8030e+00,\n",
       "            -3.8483e+00,  9.6059e-01,  2.4724e+00,  4.0421e-01, -3.4855e+00,\n",
       "            -3.8436e+00,  2.9094e-01, -3.0221e+00, -2.0663e-01, -1.5610e+00],\n",
       "           [-1.8599e+00, -4.4839e+00,  3.1043e-01,  7.3123e-01, -6.0714e+00,\n",
       "            -2.5960e+00, -1.8706e+00, -3.1723e+00, -3.0984e+00, -2.4925e-01,\n",
       "            -1.5240e+00, -7.2141e-01,  2.2357e+00, -5.6041e+00,  1.2931e+00],\n",
       "           [ 5.9442e+00, -3.6058e+00,  1.8404e+00,  3.3192e+00, -5.9443e+00,\n",
       "            -4.3453e+00,  1.0314e+00,  2.1753e+00,  7.8580e-01, -4.2574e+00,\n",
       "            -4.4552e+00,  4.7848e-01, -3.3006e+00, -2.2068e-01, -2.0677e+00],\n",
       "           [-1.9072e-01, -5.2084e+00,  7.0044e-01,  1.3407e+00, -6.4081e+00,\n",
       "            -3.5578e+00, -1.0769e+00, -2.0075e+00, -2.0175e+00, -2.3013e+00,\n",
       "            -2.8637e+00, -1.8661e-02,  6.9793e-01, -4.6332e+00, -9.7963e-02]]],\n",
       " \n",
       " \n",
       "         [[[ 2.0699e+00, -3.4951e+00,  1.9529e+00,  2.0549e+00, -5.4368e+00,\n",
       "            -2.6242e+00, -1.2536e-01,  4.9548e-01, -1.8448e+00, -2.6208e+00,\n",
       "            -2.1404e+00,  5.2499e-01, -2.0399e-01, -3.2448e+00, -4.7480e-01],\n",
       "           [ 6.9193e-01, -4.0285e+00,  1.4709e+00,  1.6222e+00, -5.7637e+00,\n",
       "            -2.7038e+00, -7.0216e-01, -7.4134e-01, -2.3379e+00, -2.0516e+00,\n",
       "            -2.0296e+00,  2.2240e-01,  6.2948e-01, -4.2086e+00,  2.0883e-02],\n",
       "           [ 5.4237e+00, -3.8382e+00,  3.0578e+00,  3.6240e+00, -6.7969e+00,\n",
       "            -3.8042e+00,  7.7257e-01,  2.5261e+00, -1.1894e+00, -4.4227e+00,\n",
       "            -3.5585e+00,  1.1140e+00, -1.9915e+00, -2.3366e+00, -1.5249e+00],\n",
       "           [-7.3853e-01, -4.1623e+00,  1.1706e+00,  1.1272e+00, -5.7162e+00,\n",
       "            -2.3565e+00, -1.2170e+00, -1.6956e+00, -2.9989e+00, -1.3278e+00,\n",
       "            -1.4796e+00,  1.0774e-02,  1.6185e+00, -5.1241e+00,  6.1993e-01]],\n",
       " \n",
       "          [[-1.5690e+00, -3.9053e+00,  9.9609e-01,  6.7998e-01, -5.0972e+00,\n",
       "            -1.8695e+00, -1.3312e+00, -1.9896e+00, -3.1457e+00, -9.7358e-01,\n",
       "            -9.7254e-01, -1.5417e-02,  2.0262e+00, -5.2323e+00,  7.9032e-01],\n",
       "           [ 1.4628e+00,  1.5476e+00,  2.7804e-01,  1.8202e-01,  1.2244e+01,\n",
       "            -8.4897e+00, -5.9060e+00, -9.0734e+00, -1.0086e+01,  6.8189e+00,\n",
       "            -7.3610e+00, -6.4749e+00, -6.4209e+00, -8.5284e+00, -8.8298e+00],\n",
       "           [ 3.8003e+00, -3.8974e+00,  3.0821e+00,  2.9946e+00, -6.3435e+00,\n",
       "            -3.1134e+00,  4.5543e-01,  1.9669e+00, -2.0114e+00, -4.1623e+00,\n",
       "            -2.7259e+00,  1.3233e+00, -9.2384e-01, -3.3551e+00, -1.1774e+00],\n",
       "           [-1.3769e+00, -4.3653e+00,  1.7518e+00,  1.0029e+00, -5.6753e+00,\n",
       "            -1.9377e+00, -1.2033e+00, -1.4667e+00, -3.8251e+00, -1.8370e+00,\n",
       "            -9.8848e-01,  5.8562e-01,  2.2269e+00, -6.0747e+00,  5.6453e-01]],\n",
       " \n",
       "          [[-1.4767e+00, -7.3379e+00,  2.6794e-01,  9.9079e-01, -7.2218e+00,\n",
       "            -4.7419e+00, -1.1847e+00, -3.1538e+00, -1.7929e+00, -4.0765e+00,\n",
       "            -4.1384e+00,  4.8793e-01,  6.5810e-01, -5.6522e+00, -1.0157e+00],\n",
       "           [-4.1303e+00, -8.6931e+00, -5.2227e-01, -6.2805e-01, -6.2555e+00,\n",
       "            -5.3254e+00, -1.4667e+00, -5.4407e+00, -2.5804e+00, -4.0596e+00,\n",
       "            -5.3015e+00,  1.5292e-01,  1.5676e+00, -7.2076e+00, -1.5061e+00],\n",
       "           [-2.5847e-01, -1.8453e+01, -1.7972e-03,  1.5292e-01,  5.3427e+00,\n",
       "            -1.3386e+01, -6.0352e+00, -4.5302e+00, -6.8571e+00, -6.7974e+00,\n",
       "            -1.3210e+01,  5.2310e+00, -4.5780e+00, -5.2199e+00, -6.3366e+00],\n",
       "           [-3.3763e+00, -7.1172e+00, -3.2819e-01,  2.2224e-01, -6.4262e+00,\n",
       "            -4.0727e+00, -2.0426e+00, -4.4542e+00, -2.6088e+00, -2.4015e+00,\n",
       "            -3.1588e+00,  6.9495e-02,  1.8539e+00, -6.3915e+00,  3.3762e-02]],\n",
       " \n",
       "          [[ 2.1093e+00, -4.0569e+00,  8.0049e-01,  1.7255e+00, -5.1127e+00,\n",
       "            -3.5140e+00,  8.1446e-03, -1.9164e-01, -1.5345e-01, -3.0417e+00,\n",
       "            -3.3354e+00,  1.4693e-01, -1.2726e+00, -1.8653e+00, -1.1853e+00],\n",
       "           [ 1.3938e+00, -3.8663e+00,  1.9764e-01,  1.6363e+00, -5.7763e+00,\n",
       "            -3.5219e+00, -8.2140e-01, -1.5268e+00, -7.9684e-01, -1.1385e+00,\n",
       "            -2.9803e+00, -8.6113e-01, -3.6556e-01, -2.6096e+00,  9.4533e-02],\n",
       "           [ 6.0079e+00, -3.5682e+00,  1.8841e+00,  3.3740e+00, -6.0203e+00,\n",
       "            -4.3366e+00,  1.0196e+00,  2.2062e+00,  7.4410e-01, -4.1940e+00,\n",
       "            -4.4253e+00,  4.6844e-01, -3.2870e+00, -2.5054e-01, -2.0067e+00],\n",
       "           [ 1.1924e+00, -3.6909e+00,  1.1242e+00,  1.6834e+00, -5.5977e+00,\n",
       "            -2.8228e+00, -6.5369e-01, -7.2605e-01, -1.7317e+00, -1.6527e+00,\n",
       "            -2.2173e+00, -1.3492e-01,  1.9600e-01, -3.3988e+00,  7.0251e-02]]]],\n",
       "        grad_fn=<PermuteBackward0>),\n",
       " tensor([[[[  2.1907,  -6.2566,   0.7809,  ...,   1.0006,  -3.9862,  -8.6990],\n",
       "           [  1.5787,   3.6269,   2.9961,  ...,  -3.1329,  -8.6882,  -6.2446],\n",
       "           [  3.8248,   7.0812,   3.6804,  ...,  -6.2959,  -6.6829,  -2.6140],\n",
       "           ...,\n",
       "           [  5.1067,   3.5413,   3.9771,  ...,  -8.8935,  -5.6562,  -3.7027],\n",
       "           [  2.8958,  -7.5656,   0.8257,  ...,   0.8459,  -2.0232,  -7.7608],\n",
       "           [  2.1576,  -5.9619,   1.5387,  ...,   0.2991,  -6.1118, -10.2279]],\n",
       " \n",
       "          [[  3.5800,  -9.1108,   0.9914,  ...,   1.5059,  -5.7573, -13.0828],\n",
       "           [  2.5934,   5.9714,   4.6815,  ...,  -4.0700, -12.3591,  -8.5190],\n",
       "           [  4.0208,   9.7847,   4.4226,  ...,  -5.7971,  -8.0754,  -2.4461],\n",
       "           ...,\n",
       "           [  4.9645,   5.0891,   4.1473,  ...,  -7.8260,  -6.1981,  -3.2131],\n",
       "           [  2.5419, -11.0527,   0.1312,  ...,   3.3598,  -1.8944, -10.2630],\n",
       "           [  3.2927,  -7.9833,   2.2601,  ...,   0.1721,  -9.1490, -14.9296]],\n",
       " \n",
       "          [[  4.0655, -10.3683,   1.4334,  ...,   1.5966,  -7.4230, -15.5079],\n",
       "           [  3.0661,   7.9823,   5.5589,  ...,  -5.1772, -14.8181,  -9.8952],\n",
       "           [  3.4212,  11.1002,   4.3724,  ...,  -2.8308,  -7.6982,  -1.0807],\n",
       "           ...,\n",
       "           [  3.4389,   7.9923,   3.9348,  ...,  -6.2938,  -7.2779,  -2.8671],\n",
       "           [  3.1029, -13.0223,   0.0678,  ...,   4.0527,  -2.0837, -12.1264],\n",
       "           [  3.8664,  -9.3192,   2.9758,  ...,   0.1708, -11.5267, -18.0004]],\n",
       " \n",
       "          ...,\n",
       " \n",
       "          [[  4.0357, -10.7860,   1.2815,  ...,   1.8482,  -7.0120, -15.5487],\n",
       "           [  2.9389,   7.1187,   5.3047,  ...,  -4.6457, -13.9531,  -9.2893],\n",
       "           [  2.7797,   8.6900,   3.4042,  ...,  -1.4108,  -5.7955,  -0.3098],\n",
       "           ...,\n",
       "           [  1.8764,   8.2753,   2.5835,  ...,  -3.0477,  -6.1582,  -1.2227],\n",
       "           [  2.6258, -11.9136,   0.1689,  ...,   3.6999,  -2.0905, -11.0608],\n",
       "           [  3.6797,  -8.6526,   2.6721,  ...,   0.0278, -10.5755, -16.8305]],\n",
       " \n",
       "          [[  3.7370,  -9.7886,   1.3430,  ...,   1.4680,  -6.8597, -14.4956],\n",
       "           [  2.8205,   7.1314,   5.0119,  ...,  -4.8364, -13.6505,  -9.1582],\n",
       "           [  3.3713,   9.5978,   3.8793,  ...,  -2.9539,  -6.8507,  -1.0294],\n",
       "           ...,\n",
       "           [  3.5561,   7.3167,   3.5191,  ...,  -6.1847,  -6.7645,  -2.6082],\n",
       "           [  2.9248, -11.6880,  -0.0556,  ...,   3.6529,  -1.6866, -10.8141],\n",
       "           [  3.6876,  -8.7007,   2.6783,  ...,   0.1101, -10.5218, -16.6144]],\n",
       " \n",
       "          [[  2.3865,  -6.3747,   0.9142,  ...,   0.8683,  -4.5896,  -9.4306],\n",
       "           [  1.3348,   4.4945,   2.8843,  ...,  -3.8590,  -9.2730,  -6.3088],\n",
       "           [  3.3332,   6.1216,   3.2823,  ...,  -4.4556,  -5.4405,  -1.7174],\n",
       "           ...,\n",
       "           [  4.0965,   4.2511,   3.4843,  ...,  -6.3531,  -5.1200,  -2.5690],\n",
       "           [  2.0392,  -8.5182,   0.0182,  ...,   2.5902,  -1.3304,  -7.8016],\n",
       "           [  2.1776,  -5.0271,   1.6512,  ...,  -0.1833,  -6.6129, -10.0781]]],\n",
       " \n",
       " \n",
       "         [[[  2.7714,   2.6548,   2.6838,  ...,  -5.3536,  -5.3583,  -3.6946],\n",
       "           [  4.2456,   3.6386,   3.4313,  ...,  -7.7375,  -5.3195,  -3.2117],\n",
       "           [  5.1030,  -1.0257,   3.5854,  ...,  -7.0458,  -4.4638,  -4.7992],\n",
       "           ...,\n",
       "           [  4.9741,   3.3376,   3.8736,  ...,  -8.6033,  -5.4474,  -3.5819],\n",
       "           [  5.2919,   3.0460,   4.0406,  ...,  -9.0706,  -5.4646,  -3.7669],\n",
       "           [  3.7807,  -1.0082,   2.6274,  ...,  -5.1344,  -3.2796,  -3.8167]],\n",
       " \n",
       "          [[  3.6287,   3.9825,   3.4967,  ...,  -6.7131,  -6.8753,  -4.4805],\n",
       "           [  5.6172,   4.7665,   4.5809,  ...,  -8.8531,  -6.6896,  -3.6037],\n",
       "           [  6.2200,  -1.8761,   4.3053,  ...,  -7.4713,  -5.4755,  -5.8553],\n",
       "           ...,\n",
       "           [  6.2002,   4.5751,   4.8257,  ..., -10.2460,  -7.3873,  -4.2557],\n",
       "           [  6.7959,   3.9296,   5.1850,  ..., -10.9782,  -6.9301,  -4.5161],\n",
       "           [  5.1279,  -1.6190,   3.6109,  ...,  -6.1251,  -4.1864,  -5.0493]],\n",
       " \n",
       "          [[  3.9817,   5.0038,   3.8689,  ...,  -7.1820,  -7.6750,  -4.7599],\n",
       "           [  4.9703,   4.3998,   4.1639,  ...,  -9.6257,  -8.5398,  -4.1998],\n",
       "           [  6.8044,  -1.2126,   4.8075,  ...,  -9.6026,  -7.2419,  -6.8861],\n",
       "           ...,\n",
       "           [  6.4074,   5.5416,   5.1539,  ..., -10.2702,  -7.3639,  -4.2800],\n",
       "           [  6.8753,   3.5922,   5.9075,  ..., -12.3982,  -9.0515,  -5.6770],\n",
       "           [  6.0587,  -2.2810,   4.2785,  ...,  -7.0053,  -5.0592,  -6.5751]],\n",
       " \n",
       "          ...,\n",
       " \n",
       "          [[  3.8321,   4.1021,   3.6953,  ...,  -7.6495,  -7.8180,  -5.2456],\n",
       "           [  6.2522,   5.5337,   5.1147,  ..., -10.1380,  -7.8021,  -4.2029],\n",
       "           [  6.5769,  -1.8389,   4.7141,  ...,  -8.6704,  -6.4124,  -6.7428],\n",
       "           ...,\n",
       "           [  6.6615,   4.3826,   5.3453,  ..., -11.4136,  -7.8180,  -5.4054],\n",
       "           [  4.6616,   2.2181,   4.1266,  ...,  -9.2990,  -5.9994,  -4.4468],\n",
       "           [  4.0036,  -0.3288,   2.8405,  ...,  -6.3865,  -3.7092,  -4.0072]],\n",
       " \n",
       "          [[  3.3706,   3.5560,   3.3180,  ...,  -6.9008,  -7.3436,  -4.7085],\n",
       "           [  6.1169,   5.0503,   4.8940,  ..., -10.4711,  -7.3890,  -4.3628],\n",
       "           [  6.7655,  -0.8217,   4.8539,  ...,  -8.7246,  -5.2571,  -5.8264],\n",
       "           ...,\n",
       "           [  7.6213,   5.3604,   6.0357,  ..., -12.7167,  -8.2497,  -5.4744],\n",
       "           [  6.0033,   0.4796,   4.6906,  ...,  -9.5096,  -6.1155,  -5.4190],\n",
       "           [  4.0683,  -0.4076,   3.1171,  ...,  -6.7614,  -4.1342,  -4.3533]],\n",
       " \n",
       "          [[  3.0874,   2.8539,   2.8590,  ...,  -6.1178,  -5.6864,  -3.8820],\n",
       "           [  5.0163,   3.7850,   3.9969,  ...,  -8.0641,  -5.4897,  -3.2848],\n",
       "           [  4.9253,  -0.9211,   3.5216,  ...,  -6.2121,  -3.8627,  -4.4003],\n",
       "           ...,\n",
       "           [  4.5723,   2.8849,   3.5576,  ...,  -7.8307,  -4.9389,  -3.2232],\n",
       "           [  4.4644,   1.0094,   3.2203,  ...,  -7.3616,  -3.8748,  -3.2841],\n",
       "           [  3.2859,  -0.4851,   2.3858,  ...,  -5.1779,  -3.3524,  -3.6739]]]],\n",
       "        grad_fn=<PermuteBackward0>)]"
      ]
     },
     "execution_count": 83,
     "metadata": {},
     "output_type": "execute_result"
    }
   ],
   "source": [
    "pred = model(batch[\"images\"])\n",
    "pred"
   ]
  },
  {
   "cell_type": "code",
   "execution_count": 93,
   "metadata": {},
   "outputs": [],
   "source": [
    "i = 1"
   ]
  },
  {
   "cell_type": "code",
   "execution_count": 94,
   "metadata": {},
   "outputs": [
    {
     "data": {
      "text/plain": [
       "[{'bboxes': tensor([[0.5912, 0.5360, 0.1666, 0.7649],\n",
       "          [0.4401, 0.5000, 0.2024, 0.7529]]),\n",
       "  'confidence': tensor([1.0000, 0.9955]),\n",
       "  'labels': tensor([1, 7]),\n",
       "  'scores': tensor([1.0000, 1.0000])},\n",
       " {'bboxes': tensor([[0.4515, 0.4564, 0.1942, 0.8494],\n",
       "          [0.6071, 0.5000, 0.1501, 0.8899]]),\n",
       "  'confidence': tensor([1.0000, 0.9955]),\n",
       "  'labels': tensor([4, 6]),\n",
       "  'scores': tensor([1.0000, 1.0000])}]"
      ]
     },
     "execution_count": 94,
     "metadata": {},
     "output_type": "execute_result"
    }
   ],
   "source": [
    "output = model.inference(\n",
    "    batch[\"images\"],\n",
    ")\n",
    "\n",
    "bounding_boxes = output.bboxes\n",
    "bounding_boxes"
   ]
  },
  {
   "cell_type": "code",
   "execution_count": 95,
   "metadata": {},
   "outputs": [
    {
     "data": {
      "text/plain": [
       "<matplotlib.image.AxesImage at 0x2d312b460>"
      ]
     },
     "execution_count": 95,
     "metadata": {},
     "output_type": "execute_result"
    },
    {
     "data": {
      "image/png": "[encoded data removed]",
      "text/plain": [
       "<Figure size 640x480 with 1 Axes>"
      ]
     },
     "metadata": {},
     "output_type": "display_data"
    }
   ],
   "source": [
    "plt.imshow(\n",
    "    draw_bounding_boxes(batch[\"images\"][i],\n",
    "                        box_convert(\n",
    "                            bounding_boxes[i][\"bboxes\"], \n",
    "                            \"cxcywh\",\n",
    "                            \"xyxy\"\n",
    "                        ), \n",
    "                        bounding_boxes[i][\"labels\"]\n",
    ")\n",
    ")"
   ]
  },
  {
   "cell_type": "code",
   "execution_count": 96,
   "metadata": {},
   "outputs": [
    {
     "data": {
      "image/jpeg": "[encoded data removed]",
      "image/png": "[encoded data removed]",
      "text/plain": [
       "<PIL.Image.Image image mode=RGB size=256x256>"
      ]
     },
     "execution_count": 96,
     "metadata": {},
     "output_type": "execute_result"
    }
   ],
   "source": [
    "draw_bounding_boxes(batch[\"images\"][i],\n",
    "                        box_convert(\n",
    "                            bounding_boxes[i][\"bboxes\"], \n",
    "                            \"cxcywh\",\n",
    "                            \"xyxy\"\n",
    "                        ), \n",
    "                        bounding_boxes[i][\"labels\"]\n",
    ").resize((256, 256), 0)"
   ]
  },
  {
   "cell_type": "code",
   "execution_count": 88,
   "metadata": {},
   "outputs": [
    {
     "name": "stderr",
     "output_type": "stream",
     "text": [
      "                                     \r"
     ]
    },
    {
     "data": {
      "text/plain": [
       "{'map': 1.0,\n",
       " 'map_50': 1.0,\n",
       " 'map_75': 1.0,\n",
       " 'map_small': 1.0,\n",
       " 'map_medium': -1.0,\n",
       " 'map_large': -1.0,\n",
       " 'mar_1': 1.0,\n",
       " 'mar_10': 1.0,\n",
       " 'mar_100': 1.0,\n",
       " 'mar_small': 1.0,\n",
       " 'mar_medium': -1.0,\n",
       " 'mar_large': -1.0,\n",
       " 'map_per_class': -1.0,\n",
       " 'mar_100_per_class': -1.0,\n",
       " 'classes': [1, 4, 6, 7]}"
      ]
     },
     "execution_count": 88,
     "metadata": {},
     "output_type": "execute_result"
    }
   ],
   "source": [
    "calculate_mAP(\n",
    "    model,\n",
    "    trainer.train_loader,\n",
    ")"
   ]
  },
  {
   "cell_type": "code",
   "execution_count": null,
   "metadata": {},
   "outputs": [],
   "source": []
  },
  {
   "cell_type": "code",
   "execution_count": null,
   "metadata": {},
   "outputs": [],
   "source": []
  }
 ],
 "metadata": {
  "kernelspec": {
   "display_name": "mini-yolov3-a3VRlvzj-py3.10",
   "language": "python",
   "name": "python3"
  },
  "language_info": {
   "codemirror_mode": {
    "name": "ipython",
    "version": 3
   },
   "file_extension": ".py",
   "mimetype": "text/x-python",
   "name": "python",
   "nbconvert_exporter": "python",
   "pygments_lexer": "ipython3",
   "version": "3.10.13"
  }
 },
 "nbformat": 4,
 "nbformat_minor": 2
}
