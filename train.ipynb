{
 "cells": [
  {
   "cell_type": "code",
   "execution_count": 1,
   "metadata": {},
   "outputs": [],
   "source": [
    "%load_ext autoreload\n",
    "%autoreload 2"
   ]
  },
  {
   "cell_type": "code",
   "execution_count": 2,
   "metadata": {},
   "outputs": [
    {
     "name": "stderr",
     "output_type": "stream",
     "text": [
      "/Users/ericchen/Library/Caches/pypoetry/virtualenvs/mini-yolov3-a3VRlvzj-py3.10/lib/python3.10/site-packages/tqdm/auto.py:21: TqdmWarning: IProgress not found. Please update jupyter and ipywidgets. See https://ipywidgets.readthedocs.io/en/stable/user_install.html\n",
      "  from .autonotebook import tqdm as notebook_tqdm\n"
     ]
    }
   ],
   "source": [
    "from mini_yolov3.model import MiniYoloV3\n",
    "from mini_yolov3.trainer import Trainer\n",
    "import torch\n",
    "from torchvision.transforms import v2\n",
    "from mini_yolov3.dataset import SVHNDataset, collate_fn\n",
    "from torch.utils.data import Subset, DataLoader\n",
    "from mini_yolov3.loss import YOLOLoss, build_targets\n",
    "import matplotlib.pyplot as plt\n",
    "from mini_yolov3.utils import draw_bounding_boxes\n",
    "from torchvision.ops import box_convert\n",
    "from mini_yolov3.evals import calculate_mAP\n",
    "from torchvision.ops import box_iou\n",
    "from tqdm import tqdm"
   ]
  },
  {
   "cell_type": "code",
   "execution_count": 3,
   "metadata": {},
   "outputs": [],
   "source": [
    "train_dataset = SVHNDataset(split=\"train\")\n",
    "# train_dataset = Subset(train_dataset, range(12, 13))\n",
    "train_dataset = Subset(train_dataset, range(0, 2))"
   ]
  },
  {
   "cell_type": "code",
   "execution_count": 4,
   "metadata": {},
   "outputs": [
    {
     "data": {
      "text/plain": [
       "tensor([[0.3551, 0.0217, 0.1963, 0.8696],\n",
       "        [0.5327, 0.0652, 0.1495, 0.8696]])"
      ]
     },
     "execution_count": 4,
     "metadata": {},
     "output_type": "execute_result"
    }
   ],
   "source": [
    "train_dataset[0][\"bbox\"]"
   ]
  },
  {
   "cell_type": "code",
   "execution_count": 5,
   "metadata": {},
   "outputs": [
    {
     "data": {
      "text/plain": [
       "<matplotlib.image.AxesImage at 0x29ed821d0>"
      ]
     },
     "execution_count": 5,
     "metadata": {},
     "output_type": "execute_result"
    },
    {
     "data": {
      "image/png": "[encoded data removed]",
      "text/plain": [
       "<Figure size 640x480 with 1 Axes>"
      ]
     },
     "metadata": {},
     "output_type": "display_data"
    }
   ],
   "source": [
    "plt.imshow(train_dataset[0][\"image\"].permute(1, 2, 0))"
   ]
  },
  {
   "cell_type": "code",
   "execution_count": 6,
   "metadata": {},
   "outputs": [
    {
     "data": {
      "text/plain": [
       "<matplotlib.image.AxesImage at 0x29ef088b0>"
      ]
     },
     "execution_count": 6,
     "metadata": {},
     "output_type": "execute_result"
    },
    {
     "data": {
      "image/png": "[encoded data removed]",
      "text/plain": [
       "<Figure size 640x480 with 1 Axes>"
      ]
     },
     "metadata": {},
     "output_type": "display_data"
    }
   ],
   "source": [
    "plt.imshow(\n",
    "    draw_bounding_boxes(train_dataset[0][\"image\"], box_convert(train_dataset[0][\"bbox\"], \"xywh\", \"xyxy\"), train_dataset[0][\"labels\"])\n",
    ")"
   ]
  },
  {
   "cell_type": "code",
   "execution_count": 7,
   "metadata": {},
   "outputs": [],
   "source": [
    "dataloader = DataLoader(train_dataset, batch_size=2, shuffle=True, collate_fn=collate_fn)"
   ]
  },
  {
   "cell_type": "code",
   "execution_count": 8,
   "metadata": {},
   "outputs": [
    {
     "data": {
      "text/plain": [
       "1"
      ]
     },
     "execution_count": 8,
     "metadata": {},
     "output_type": "execute_result"
    }
   ],
   "source": [
    "len(dataloader)"
   ]
  },
  {
   "cell_type": "code",
   "execution_count": 9,
   "metadata": {},
   "outputs": [
    {
     "name": "stdout",
     "output_type": "stream",
     "text": [
      "[tensor([[0.3443, 0.1290, 0.1967, 0.7419],\n",
      "        [0.5082, 0.1613, 0.1639, 0.7419]]), tensor([[0.3551, 0.0217, 0.1963, 0.8696],\n",
      "        [0.5327, 0.0652, 0.1495, 0.8696]])]\n",
      "tensor([[0.4426, 0.5000, 0.1967, 0.7419],\n",
      "        [0.5902, 0.5323, 0.1639, 0.7419]])\n"
     ]
    },
    {
     "ename": "NameError",
     "evalue": "name 'anchors' is not defined",
     "output_type": "error",
     "traceback": [
      "\u001b[0;31m---------------------------------------------------------------------------\u001b[0m",
      "\u001b[0;31mNameError\u001b[0m                                 Traceback (most recent call last)",
      "Cell \u001b[0;32mIn[9], line 4\u001b[0m\n\u001b[1;32m      2\u001b[0m \u001b[38;5;28mprint\u001b[39m(batch[\u001b[38;5;124m\"\u001b[39m\u001b[38;5;124mbboxes\u001b[39m\u001b[38;5;124m\"\u001b[39m])\n\u001b[1;32m      3\u001b[0m \u001b[38;5;28mprint\u001b[39m(box_convert(batch[\u001b[38;5;124m\"\u001b[39m\u001b[38;5;124mbboxes\u001b[39m\u001b[38;5;124m\"\u001b[39m][\u001b[38;5;241m0\u001b[39m], \u001b[38;5;124m\"\u001b[39m\u001b[38;5;124mxywh\u001b[39m\u001b[38;5;124m\"\u001b[39m, \u001b[38;5;124m\"\u001b[39m\u001b[38;5;124mcxcywh\u001b[39m\u001b[38;5;124m\"\u001b[39m))\n\u001b[0;32m----> 4\u001b[0m targets \u001b[38;5;241m=\u001b[39m build_targets(batch[\u001b[38;5;124m\"\u001b[39m\u001b[38;5;124mbboxes\u001b[39m\u001b[38;5;124m\"\u001b[39m], batch[\u001b[38;5;124m\"\u001b[39m\u001b[38;5;124mlabels\u001b[39m\u001b[38;5;124m\"\u001b[39m], (\u001b[38;5;241m2\u001b[39m, \u001b[38;5;241m2\u001b[39m), \u001b[43manchors\u001b[49m, \u001b[38;5;241m10\u001b[39m)\n",
      "\u001b[0;31mNameError\u001b[0m: name 'anchors' is not defined"
     ]
    }
   ],
   "source": [
    "for batch in dataloader:\n",
    "    print(batch[\"bboxes\"])\n",
    "    print(box_convert(batch[\"bboxes\"][0], \"xywh\", \"cxcywh\"))\n",
    "    targets = build_targets(batch[\"bboxes\"], batch[\"labels\"], (2, 2), anchors, 10)"
   ]
  },
  {
   "cell_type": "code",
   "execution_count": null,
   "metadata": {},
   "outputs": [
    {
     "data": {
      "text/plain": [
       "torch.Size([2, 3, 32, 32])"
      ]
     },
     "execution_count": 73,
     "metadata": {},
     "output_type": "execute_result"
    }
   ],
   "source": [
    "batch[\"images\"].shape"
   ]
  },
  {
   "cell_type": "code",
   "execution_count": 10,
   "metadata": {},
   "outputs": [],
   "source": [
    "import json"
   ]
  },
  {
   "cell_type": "code",
   "execution_count": 13,
   "metadata": {},
   "outputs": [],
   "source": [
    "torch.manual_seed(0)\n",
    "\n",
    "config = json.load(open(\"./configs/experiment.json\", \"r\"))\n",
    "model = MiniYoloV3(**config)\n",
    "\n",
    "trainer = Trainer(\n",
    "    model=model,\n",
    "    train_dataset=train_dataset,\n",
    "    num_epochs=250,\n",
    "    lr=3e-3,\n",
    "    batch_size=64,\n",
    "    lambda_coord=0.05,\n",
    "    lambda_conf=1.0,\n",
    "    lambda_cls=0.5,\n",
    "    device=\"cpu\",\n",
    "    eval_every=100000,\n",
    ")"
   ]
  },
  {
   "cell_type": "code",
   "execution_count": 14,
   "metadata": {},
   "outputs": [
    {
     "name": "stderr",
     "output_type": "stream",
     "text": [
      "100%|██████████| 250/250 [00:38<00:00,  6.43it/s, class_loss=0.0028, conf_loss=0.00403, coord_loss=0.000313, loss=0.00545] \n"
     ]
    },
    {
     "data": {
      "text/plain": [
       "[0.993661642074585,\n",
       " 0.8788566589355469,\n",
       " 0.8026113510131836,\n",
       " 0.7528820037841797,\n",
       " 0.7145462036132812,\n",
       " 0.6848787069320679,\n",
       " 0.6556229591369629,\n",
       " 0.6252787113189697,\n",
       " 0.5981928110122681,\n",
       " 0.5726339817047119,\n",
       " 0.5483272075653076,\n",
       " 0.5253174304962158,\n",
       " 0.5037145614624023,\n",
       " 0.48346564173698425,\n",
       " 0.4648815095424652,\n",
       " 0.4474050998687744,\n",
       " 0.43038874864578247,\n",
       " 0.41394752264022827,\n",
       " 0.3984043002128601,\n",
       " 0.38378778100013733,\n",
       " 0.36976364254951477,\n",
       " 0.35622352361679077,\n",
       " 0.3433501124382019,\n",
       " 0.33118149638175964,\n",
       " 0.3195803165435791,\n",
       " 0.308409184217453,\n",
       " 0.29771316051483154,\n",
       " 0.2875540852546692,\n",
       " 0.27791619300842285,\n",
       " 0.26867467164993286,\n",
       " 0.25973623991012573,\n",
       " 0.25082722306251526,\n",
       " 0.2421724945306778,\n",
       " 0.23381221294403076,\n",
       " 0.22576232254505157,\n",
       " 0.21803951263427734,\n",
       " 0.21066728234291077,\n",
       " 0.20364098250865936,\n",
       " 0.19693787395954132,\n",
       " 0.1905622035264969,\n",
       " 0.1844962239265442,\n",
       " 0.17870739102363586,\n",
       " 0.173153817653656,\n",
       " 0.16782888770103455,\n",
       " 0.16272833943367004,\n",
       " 0.15783916413784027,\n",
       " 0.1531376987695694,\n",
       " 0.1486019492149353,\n",
       " 0.1442207545042038,\n",
       " 0.13999271392822266,\n",
       " 0.13591140508651733,\n",
       " 0.13197298347949982,\n",
       " 0.1281694769859314,\n",
       " 0.12449422478675842,\n",
       " 0.12094396352767944,\n",
       " 0.1175151988863945,\n",
       " 0.11420199275016785,\n",
       " 0.11099864542484283,\n",
       " 0.10790109634399414,\n",
       " 0.1049046739935875,\n",
       " 0.10200293362140656,\n",
       " 0.0991905927658081,\n",
       " 0.09646571427583694,\n",
       " 0.09382763504981995,\n",
       " 0.09127359837293625,\n",
       " 0.08879894018173218,\n",
       " 0.08639951050281525,\n",
       " 0.08407289534807205,\n",
       " 0.081817127764225,\n",
       " 0.07962962985038757,\n",
       " 0.07750771194696426,\n",
       " 0.07544928789138794,\n",
       " 0.07345252484083176,\n",
       " 0.07151523977518082,\n",
       " 0.06963513791561127,\n",
       " 0.06781038641929626,\n",
       " 0.0660395547747612,\n",
       " 0.06432095915079117,\n",
       " 0.06265273690223694,\n",
       " 0.061033137142658234,\n",
       " 0.05946072190999985,\n",
       " 0.05793430283665657,\n",
       " 0.056452617049217224,\n",
       " 0.055013447999954224,\n",
       " 0.05361446738243103,\n",
       " 0.052256107330322266,\n",
       " 0.05093776062130928,\n",
       " 0.049658678472042084,\n",
       " 0.0484178401529789,\n",
       " 0.0472140833735466,\n",
       " 0.04604639858007431,\n",
       " 0.04491370543837547,\n",
       " 0.0438150055706501,\n",
       " 0.04274924099445343,\n",
       " 0.04171540588140488,\n",
       " 0.04071255028247833,\n",
       " 0.039739616215229034,\n",
       " 0.03879590332508087,\n",
       " 0.03788062930107117,\n",
       " 0.03699297457933426,\n",
       " 0.036132100969552994,\n",
       " 0.03529725223779678,\n",
       " 0.034487687051296234,\n",
       " 0.033702678978443146,\n",
       " 0.03294149413704872,\n",
       " 0.03220342844724655,\n",
       " 0.03148778900504112,\n",
       " 0.030793916434049606,\n",
       " 0.030121179297566414,\n",
       " 0.02946891076862812,\n",
       " 0.028836477547883987,\n",
       " 0.028223266825079918,\n",
       " 0.02762867510318756,\n",
       " 0.027052149176597595,\n",
       " 0.02649310976266861,\n",
       " 0.02595103532075882,\n",
       " 0.025425342842936516,\n",
       " 0.024915527552366257,\n",
       " 0.024421075358986855,\n",
       " 0.02394149638712406,\n",
       " 0.023476293310523033,\n",
       " 0.023024991154670715,\n",
       " 0.022587114945054054,\n",
       " 0.02216222509741783,\n",
       " 0.021749896928668022,\n",
       " 0.021349722519516945,\n",
       " 0.02096126228570938,\n",
       " 0.020584095269441605,\n",
       " 0.020217888057231903,\n",
       " 0.019862230867147446,\n",
       " 0.01951676607131958,\n",
       " 0.019181150943040848,\n",
       " 0.018855027854442596,\n",
       " 0.01853806897997856,\n",
       " 0.01822996884584427,\n",
       " 0.017930414527654648,\n",
       " 0.017639098688960075,\n",
       " 0.017355728894472122,\n",
       " 0.017080038785934448,\n",
       " 0.01681176759302616,\n",
       " 0.016550641506910324,\n",
       " 0.016296420246362686,\n",
       " 0.016048848628997803,\n",
       " 0.015807703137397766,\n",
       " 0.015572779811918736,\n",
       " 0.015343841165304184,\n",
       " 0.01512068510055542,\n",
       " 0.014903126284480095,\n",
       " 0.014690945856273174,\n",
       " 0.014484004117548466,\n",
       " 0.014282090589404106,\n",
       " 0.014085028320550919,\n",
       " 0.013892684131860733,\n",
       " 0.013704873621463776,\n",
       " 0.013521459884941578,\n",
       " 0.013342292979359627,\n",
       " 0.013167254626750946,\n",
       " 0.012996168807148933,\n",
       " 0.01282894890755415,\n",
       " 0.012665444985032082,\n",
       " 0.012505549937486649,\n",
       " 0.012349143624305725,\n",
       " 0.012196122668683529,\n",
       " 0.012046380899846554,\n",
       " 0.011899801902472973,\n",
       " 0.011756318621337414,\n",
       " 0.011615793220698833,\n",
       " 0.011478173546493053,\n",
       " 0.011343366466462612,\n",
       " 0.011211268603801727,\n",
       " 0.01108182966709137,\n",
       " 0.010954951867461205,\n",
       " 0.01083055417984724,\n",
       " 0.010708586312830448,\n",
       " 0.01058896817266941,\n",
       " 0.010471622459590435,\n",
       " 0.01035651471465826,\n",
       " 0.010243546217679977,\n",
       " 0.010132692754268646,\n",
       " 0.010023857466876507,\n",
       " 0.009917025454342365,\n",
       " 0.009812125004827976,\n",
       " 0.009709082543849945,\n",
       " 0.009607899002730846,\n",
       " 0.009508475661277771,\n",
       " 0.009410809725522995,\n",
       " 0.009314849972724915,\n",
       " 0.00922051165252924,\n",
       " 0.009127803146839142,\n",
       " 0.009036645293235779,\n",
       " 0.008947029709815979,\n",
       " 0.008858890272676945,\n",
       " 0.008772221393883228,\n",
       " 0.00868696253746748,\n",
       " 0.008603091351687908,\n",
       " 0.008520585484802723,\n",
       " 0.008439367637038231,\n",
       " 0.008359488099813461,\n",
       " 0.008280819281935692,\n",
       " 0.008203413337469101,\n",
       " 0.008127202279865742,\n",
       " 0.008052169345319271,\n",
       " 0.007978277280926704,\n",
       " 0.007905518636107445,\n",
       " 0.007833845913410187,\n",
       " 0.007763257250189781,\n",
       " 0.007693709339946508,\n",
       " 0.007625191938132048,\n",
       " 0.0075576938688755035,\n",
       " 0.007491183001548052,\n",
       " 0.007425613235682249,\n",
       " 0.007361000403761864,\n",
       " 0.007297307252883911,\n",
       " 0.007234517484903336,\n",
       " 0.007172619458287954,\n",
       " 0.007111581973731518,\n",
       " 0.007051413878798485,\n",
       " 0.00699205556884408,\n",
       " 0.00693352147936821,\n",
       " 0.006875788327306509,\n",
       " 0.006818844936788082,\n",
       " 0.006762676406651735,\n",
       " 0.0067072524689137936,\n",
       " 0.00665256567299366,\n",
       " 0.006598608568310738,\n",
       " 0.006545363925397396,\n",
       " 0.0064928168430924416,\n",
       " 0.006440949626266956,\n",
       " 0.006389767397195101,\n",
       " 0.006339230574667454,\n",
       " 0.0062893410213291645,\n",
       " 0.006240105256438255,\n",
       " 0.0061914753168821335,\n",
       " 0.006143463775515556,\n",
       " 0.006096061319112778,\n",
       " 0.006049241404980421,\n",
       " 0.0060030026361346245,\n",
       " 0.005957341752946377,\n",
       " 0.005912225227802992,\n",
       " 0.005867676809430122,\n",
       " 0.005823676474392414,\n",
       " 0.005780183710157871,\n",
       " 0.005737224128097296,\n",
       " 0.005694779567420483,\n",
       " 0.005652835126966238,\n",
       " 0.005611394066363573,\n",
       " 0.0055704317055642605,\n",
       " 0.005529955495148897,\n",
       " 0.005489950068295002,\n",
       " 0.005450414959341288]"
      ]
     },
     "execution_count": 14,
     "metadata": {},
     "output_type": "execute_result"
    },
    {
     "data": {
      "image/png": "[encoded data removed]",
      "text/plain": [
       "<Figure size 640x480 with 1 Axes>"
      ]
     },
     "metadata": {},
     "output_type": "display_data"
    }
   ],
   "source": [
    "trainer.train()"
   ]
  },
  {
   "cell_type": "code",
   "execution_count": 15,
   "metadata": {},
   "outputs": [
    {
     "data": {
      "text/plain": [
       "torch.Size([2, 4, 4, 30])"
      ]
     },
     "execution_count": 15,
     "metadata": {},
     "output_type": "execute_result"
    }
   ],
   "source": [
    "pred = model(batch[\"images\"])\n",
    "pred.shape"
   ]
  },
  {
   "cell_type": "code",
   "execution_count": 16,
   "metadata": {},
   "outputs": [
    {
     "data": {
      "text/plain": [
       "(tensor([-0.0695, -0.2035, -0.5383,  1.0474, -5.5229,  0.2832,  0.3393,  0.0082,\n",
       "          0.3126, -0.3216,  0.1543,  0.0756,  0.3261,  0.1271, -0.0644,  0.1992,\n",
       "          1.4399, -0.2893,  0.3545, -5.7222, -0.8096, -2.9280, -0.4970, -0.3850,\n",
       "          1.9207, -0.6965, -1.0394,  0.4440,  0.2888, -0.9119],\n",
       "        grad_fn=<SliceBackward0>),\n",
       " tensor([ 0.3997, -0.4890, -0.3833,  0.0316, -5.3026,  0.5631,  0.3458,  0.4559,\n",
       "          0.2895, -0.7254, -0.3527,  1.0164, -0.3349,  0.5644, -0.6057,  0.9079,\n",
       "         -0.0299, -0.3224,  0.4026, -5.5022, -2.0992, -1.6296, -1.5879, -0.4433,\n",
       "          2.0593, -1.3417, -1.4902, -1.6487, -0.9312, -2.1751],\n",
       "        grad_fn=<SliceBackward0>))"
      ]
     },
     "execution_count": 16,
     "metadata": {},
     "output_type": "execute_result"
    }
   ],
   "source": [
    "pred[0, 0, 0, :], pred[0, 1, 1, :]"
   ]
  },
  {
   "cell_type": "code",
   "execution_count": 17,
   "metadata": {},
   "outputs": [],
   "source": [
    "i = 1"
   ]
  },
  {
   "cell_type": "code",
   "execution_count": 18,
   "metadata": {},
   "outputs": [
    {
     "data": {
      "text/plain": [
       "[{'bboxes': tensor([[0.4426, 0.5000, 0.1970, 0.7412],\n",
       "          [0.5901, 0.5323, 0.1641, 0.7419]]),\n",
       "  'confidence': tensor([0.9958, 0.9950]),\n",
       "  'labels': tensor([7, 1]),\n",
       "  'scores': tensor([0.9999, 0.9998])},\n",
       " {'bboxes': tensor([[0.6075, 0.5000, 0.1493, 0.8703],\n",
       "          [0.4533, 0.4515, 0.1962, 0.8695]]),\n",
       "  'confidence': tensor([0.9983, 0.9940]),\n",
       "  'labels': tensor([6, 4]),\n",
       "  'scores': tensor([0.9998, 0.9999])}]"
      ]
     },
     "execution_count": 18,
     "metadata": {},
     "output_type": "execute_result"
    }
   ],
   "source": [
    "output = model.inference(\n",
    "    batch[\"images\"],\n",
    ")\n",
    "\n",
    "bounding_boxes = output.bboxes\n",
    "bounding_boxes"
   ]
  },
  {
   "cell_type": "code",
   "execution_count": 19,
   "metadata": {},
   "outputs": [
    {
     "data": {
      "text/plain": [
       "<matplotlib.image.AxesImage at 0x2d20924d0>"
      ]
     },
     "execution_count": 19,
     "metadata": {},
     "output_type": "execute_result"
    },
    {
     "data": {
      "image/png": "[encoded data removed]",
      "text/plain": [
       "<Figure size 640x480 with 1 Axes>"
      ]
     },
     "metadata": {},
     "output_type": "display_data"
    }
   ],
   "source": [
    "plt.imshow(\n",
    "    draw_bounding_boxes(batch[\"images\"][i],\n",
    "                        box_convert(\n",
    "                            bounding_boxes[i][\"bboxes\"], \n",
    "                            \"cxcywh\",\n",
    "                            \"xyxy\"\n",
    "                        ), \n",
    "                        bounding_boxes[i][\"labels\"]\n",
    ")\n",
    ")"
   ]
  },
  {
   "cell_type": "code",
   "execution_count": 20,
   "metadata": {},
   "outputs": [
    {
     "data": {
      "image/jpeg": "[encoded data removed]",
      "image/png": "[encoded data removed]",
      "text/plain": [
       "<PIL.Image.Image image mode=RGB size=256x256>"
      ]
     },
     "execution_count": 20,
     "metadata": {},
     "output_type": "execute_result"
    }
   ],
   "source": [
    "draw_bounding_boxes(batch[\"images\"][i],\n",
    "                        box_convert(\n",
    "                            bounding_boxes[i][\"bboxes\"], \n",
    "                            \"cxcywh\",\n",
    "                            \"xyxy\"\n",
    "                        ), \n",
    "                        bounding_boxes[i][\"labels\"]\n",
    ").resize((256, 256), 0)"
   ]
  },
  {
   "cell_type": "code",
   "execution_count": 83,
   "metadata": {},
   "outputs": [
    {
     "name": "stderr",
     "output_type": "stream",
     "text": [
      "100%|██████████| 1/1 [00:00<00:00, 52.11it/s]\n"
     ]
    },
    {
     "data": {
      "text/plain": [
       "{'map': 1.0,\n",
       " 'map_50': 1.0,\n",
       " 'map_75': 1.0,\n",
       " 'map_small': 1.0,\n",
       " 'map_medium': -1.0,\n",
       " 'map_large': -1.0,\n",
       " 'mar_1': 1.0,\n",
       " 'mar_10': 1.0,\n",
       " 'mar_100': 1.0,\n",
       " 'mar_small': 1.0,\n",
       " 'mar_medium': -1.0,\n",
       " 'mar_large': -1.0,\n",
       " 'map_per_class': -1.0,\n",
       " 'mar_100_per_class': -1.0,\n",
       " 'classes': [1, 4, 6, 7]}"
      ]
     },
     "execution_count": 83,
     "metadata": {},
     "output_type": "execute_result"
    }
   ],
   "source": [
    "calculate_mAP(\n",
    "    model,\n",
    "    trainer.train_loader,\n",
    ")"
   ]
  },
  {
   "cell_type": "code",
   "execution_count": null,
   "metadata": {},
   "outputs": [],
   "source": []
  }
 ],
 "metadata": {
  "kernelspec": {
   "display_name": "mini-yolov3-a3VRlvzj-py3.10",
   "language": "python",
   "name": "python3"
  },
  "language_info": {
   "codemirror_mode": {
    "name": "ipython",
    "version": 3
   },
   "file_extension": ".py",
   "mimetype": "text/x-python",
   "name": "python",
   "nbconvert_exporter": "python",
   "pygments_lexer": "ipython3",
   "version": "3.10.13"
  }
 },
 "nbformat": 4,
 "nbformat_minor": 2
}
