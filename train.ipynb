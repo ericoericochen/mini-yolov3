{
 "cells": [
  {
   "cell_type": "code",
   "execution_count": 1,
   "metadata": {},
   "outputs": [],
   "source": [
    "%load_ext autoreload\n",
    "%autoreload 2"
   ]
  },
  {
   "cell_type": "code",
   "execution_count": 2,
   "metadata": {},
   "outputs": [
    {
     "name": "stderr",
     "output_type": "stream",
     "text": [
      "/Users/ericchen/Library/Caches/pypoetry/virtualenvs/mini-yolov3-a3VRlvzj-py3.10/lib/python3.10/site-packages/tqdm/auto.py:21: TqdmWarning: IProgress not found. Please update jupyter and ipywidgets. See https://ipywidgets.readthedocs.io/en/stable/user_install.html\n",
      "  from .autonotebook import tqdm as notebook_tqdm\n"
     ]
    }
   ],
   "source": [
    "from mini_yolov3.model import MiniYoloV3\n",
    "from mini_yolov3.trainer import Trainer\n",
    "import torch\n",
    "from torchvision.transforms import v2\n",
    "from mini_yolov3.dataset import SVHNDataset, collate_fn\n",
    "from torch.utils.data import Subset, DataLoader\n",
    "from mini_yolov3.loss import YOLOLoss, build_targets\n",
    "import matplotlib.pyplot as plt\n",
    "from mini_yolov3.utils import draw_bounding_boxes\n",
    "from torchvision.ops import box_convert\n",
    "from mini_yolov3.evals import calculate_mAP\n",
    "from torchvision.ops import box_iou\n",
    "from tqdm import tqdm"
   ]
  },
  {
   "cell_type": "code",
   "execution_count": 3,
   "metadata": {},
   "outputs": [],
   "source": [
    "train_dataset = SVHNDataset(split=\"train\")\n",
    "# train_dataset = Subset(train_dataset, range(12, 13))\n",
    "train_dataset = Subset(train_dataset, range(0, 2))"
   ]
  },
  {
   "cell_type": "code",
   "execution_count": 4,
   "metadata": {},
   "outputs": [
    {
     "data": {
      "text/plain": [
       "tensor([[0.3551, 0.0217, 0.1963, 0.8696],\n",
       "        [0.5327, 0.0652, 0.1495, 0.8696]])"
      ]
     },
     "execution_count": 4,
     "metadata": {},
     "output_type": "execute_result"
    }
   ],
   "source": [
    "train_dataset[0][\"bbox\"]"
   ]
  },
  {
   "cell_type": "code",
   "execution_count": 5,
   "metadata": {},
   "outputs": [
    {
     "data": {
      "text/plain": [
       "<matplotlib.image.AxesImage at 0x17a67abf0>"
      ]
     },
     "execution_count": 5,
     "metadata": {},
     "output_type": "execute_result"
    },
    {
     "data": {
      "image/png": "[encoded data removed]",
      "text/plain": [
       "<Figure size 640x480 with 1 Axes>"
      ]
     },
     "metadata": {},
     "output_type": "display_data"
    }
   ],
   "source": [
    "plt.imshow(train_dataset[0][\"image\"].permute(1, 2, 0))"
   ]
  },
  {
   "cell_type": "code",
   "execution_count": 6,
   "metadata": {},
   "outputs": [
    {
     "data": {
      "text/plain": [
       "<matplotlib.image.AxesImage at 0x17a8012d0>"
      ]
     },
     "execution_count": 6,
     "metadata": {},
     "output_type": "execute_result"
    },
    {
     "data": {
      "image/png": "[encoded data removed]",
      "text/plain": [
       "<Figure size 640x480 with 1 Axes>"
      ]
     },
     "metadata": {},
     "output_type": "display_data"
    }
   ],
   "source": [
    "plt.imshow(\n",
    "    draw_bounding_boxes(train_dataset[0][\"image\"], box_convert(train_dataset[0][\"bbox\"], \"xywh\", \"xyxy\"), train_dataset[0][\"labels\"])\n",
    ")"
   ]
  },
  {
   "cell_type": "code",
   "execution_count": 7,
   "metadata": {},
   "outputs": [],
   "source": [
    "dataloader = DataLoader(train_dataset, batch_size=2, shuffle=True, collate_fn=collate_fn)"
   ]
  },
  {
   "cell_type": "code",
   "execution_count": 8,
   "metadata": {},
   "outputs": [
    {
     "data": {
      "text/plain": [
       "1"
      ]
     },
     "execution_count": 8,
     "metadata": {},
     "output_type": "execute_result"
    }
   ],
   "source": [
    "len(dataloader)"
   ]
  },
  {
   "cell_type": "code",
   "execution_count": 9,
   "metadata": {},
   "outputs": [
    {
     "name": "stdout",
     "output_type": "stream",
     "text": [
      "[tensor([[0.3551, 0.0217, 0.1963, 0.8696],\n",
      "        [0.5327, 0.0652, 0.1495, 0.8696]]), tensor([[0.3443, 0.1290, 0.1967, 0.7419],\n",
      "        [0.5082, 0.1613, 0.1639, 0.7419]])]\n",
      "tensor([[0.4533, 0.4565, 0.1963, 0.8696],\n",
      "        [0.6075, 0.5000, 0.1495, 0.8696]])\n"
     ]
    },
    {
     "ename": "NameError",
     "evalue": "name 'anchors' is not defined",
     "output_type": "error",
     "traceback": [
      "\u001b[0;31m---------------------------------------------------------------------------\u001b[0m",
      "\u001b[0;31mNameError\u001b[0m                                 Traceback (most recent call last)",
      "Cell \u001b[0;32mIn[9], line 4\u001b[0m\n\u001b[1;32m      2\u001b[0m \u001b[38;5;28mprint\u001b[39m(batch[\u001b[38;5;124m\"\u001b[39m\u001b[38;5;124mbboxes\u001b[39m\u001b[38;5;124m\"\u001b[39m])\n\u001b[1;32m      3\u001b[0m \u001b[38;5;28mprint\u001b[39m(box_convert(batch[\u001b[38;5;124m\"\u001b[39m\u001b[38;5;124mbboxes\u001b[39m\u001b[38;5;124m\"\u001b[39m][\u001b[38;5;241m0\u001b[39m], \u001b[38;5;124m\"\u001b[39m\u001b[38;5;124mxywh\u001b[39m\u001b[38;5;124m\"\u001b[39m, \u001b[38;5;124m\"\u001b[39m\u001b[38;5;124mcxcywh\u001b[39m\u001b[38;5;124m\"\u001b[39m))\n\u001b[0;32m----> 4\u001b[0m targets \u001b[38;5;241m=\u001b[39m build_targets(batch[\u001b[38;5;124m\"\u001b[39m\u001b[38;5;124mbboxes\u001b[39m\u001b[38;5;124m\"\u001b[39m], batch[\u001b[38;5;124m\"\u001b[39m\u001b[38;5;124mlabels\u001b[39m\u001b[38;5;124m\"\u001b[39m], (\u001b[38;5;241m2\u001b[39m, \u001b[38;5;241m2\u001b[39m), \u001b[43manchors\u001b[49m, \u001b[38;5;241m10\u001b[39m)\n",
      "\u001b[0;31mNameError\u001b[0m: name 'anchors' is not defined"
     ]
    }
   ],
   "source": [
    "for batch in dataloader:\n",
    "    print(batch[\"bboxes\"])\n",
    "    print(box_convert(batch[\"bboxes\"][0], \"xywh\", \"cxcywh\"))\n",
    "    targets = build_targets(batch[\"bboxes\"], batch[\"labels\"], (2, 2), anchors, 10)"
   ]
  },
  {
   "cell_type": "code",
   "execution_count": 10,
   "metadata": {},
   "outputs": [
    {
     "data": {
      "text/plain": [
       "torch.Size([2, 3, 32, 32])"
      ]
     },
     "execution_count": 10,
     "metadata": {},
     "output_type": "execute_result"
    }
   ],
   "source": [
    "batch[\"images\"].shape"
   ]
  },
  {
   "cell_type": "code",
   "execution_count": 11,
   "metadata": {},
   "outputs": [],
   "source": [
    "import json"
   ]
  },
  {
   "cell_type": "code",
   "execution_count": 61,
   "metadata": {},
   "outputs": [],
   "source": [
    "torch.manual_seed(0)\n",
    "\n",
    "config = json.load(open(\"./configs/experiment2.json\", \"r\"))\n",
    "model = MiniYoloV3(**config)\n",
    "\n",
    "trainer = Trainer(\n",
    "    model=model,\n",
    "    train_dataset=train_dataset,\n",
    "    num_epochs=100,\n",
    "    lr=3e-3,\n",
    "    batch_size=64,\n",
    "    lambda_coord=0.05,\n",
    "    lambda_conf=1.0,\n",
    "    lambda_cls=0.5,\n",
    "    device=\"cpu\",\n",
    "    eval_every=100000,\n",
    ")"
   ]
  },
  {
   "cell_type": "code",
   "execution_count": 62,
   "metadata": {},
   "outputs": [
    {
     "name": "stderr",
     "output_type": "stream",
     "text": [
      "100%|██████████| 100/100 [00:10<00:00,  9.94it/s, class_loss=0.000488, conf_loss=0.00181, coord_loss=6.02e-5, loss=0.00236]\n"
     ]
    },
    {
     "data": {
      "text/plain": [
       "[3.3803396224975586,\n",
       " 3.0887842178344727,\n",
       " 2.800337791442871,\n",
       " 2.5605335235595703,\n",
       " 2.3436484336853027,\n",
       " 2.1541924476623535,\n",
       " 1.9850612878799438,\n",
       " 1.8269903659820557,\n",
       " 1.680600643157959,\n",
       " 1.5488566160202026,\n",
       " 1.4270097017288208,\n",
       " 1.3160488605499268,\n",
       " 1.2091923952102661,\n",
       " 1.1072406768798828,\n",
       " 1.0093848705291748,\n",
       " 0.9145103693008423,\n",
       " 0.7377140522003174,\n",
       " 0.5873351097106934,\n",
       " 0.5009560585021973,\n",
       " 0.4480741024017334,\n",
       " 0.4183720648288727,\n",
       " 0.3943926692008972,\n",
       " 0.3668343126773834,\n",
       " 0.33137980103492737,\n",
       " 0.2975577116012573,\n",
       " 0.2640085816383362,\n",
       " 0.23863500356674194,\n",
       " 0.21849507093429565,\n",
       " 0.2004234492778778,\n",
       " 0.18065908551216125,\n",
       " 0.1644996702671051,\n",
       " 0.14991852641105652,\n",
       " 0.1340044140815735,\n",
       " 0.12184251844882965,\n",
       " 0.11009500920772552,\n",
       " 0.100420281291008,\n",
       " 0.09277542680501938,\n",
       " 0.08460501581430435,\n",
       " 0.07730429619550705,\n",
       " 0.07062586396932602,\n",
       " 0.06417915970087051,\n",
       " 0.05853089690208435,\n",
       " 0.052720922976732254,\n",
       " 0.047510694712400436,\n",
       " 0.04291458800435066,\n",
       " 0.038576364517211914,\n",
       " 0.0352359376847744,\n",
       " 0.031763866543769836,\n",
       " 0.028969770297408104,\n",
       " 0.026409637182950974,\n",
       " 0.023934563621878624,\n",
       " 0.02200264297425747,\n",
       " 0.020221974700689316,\n",
       " 0.018627308309078217,\n",
       " 0.017149543389678,\n",
       " 0.01580447517335415,\n",
       " 0.014461994171142578,\n",
       " 0.013254139572381973,\n",
       " 0.012286540120840073,\n",
       " 0.01126270741224289,\n",
       " 0.010491026565432549,\n",
       " 0.00978735089302063,\n",
       " 0.009082015603780746,\n",
       " 0.008496600203216076,\n",
       " 0.007992473430931568,\n",
       " 0.007543548010289669,\n",
       " 0.007072601467370987,\n",
       " 0.006714637391269207,\n",
       " 0.006380896084010601,\n",
       " 0.006040220148861408,\n",
       " 0.005740320309996605,\n",
       " 0.005483655259013176,\n",
       " 0.005259773228317499,\n",
       " 0.005004468373954296,\n",
       " 0.004780619405210018,\n",
       " 0.004590108059346676,\n",
       " 0.0044233184307813644,\n",
       " 0.004257864784449339,\n",
       " 0.0040954528376460075,\n",
       " 0.003947383724153042,\n",
       " 0.003802768187597394,\n",
       " 0.0036825856659561396,\n",
       " 0.0035641181748360395,\n",
       " 0.003456398379057646,\n",
       " 0.0033423122949898243,\n",
       " 0.003247341373935342,\n",
       " 0.003154031466692686,\n",
       " 0.0030680354684591293,\n",
       " 0.0029805703088641167,\n",
       " 0.002902365755289793,\n",
       " 0.002827896736562252,\n",
       " 0.002761166077107191,\n",
       " 0.0026972112245857716,\n",
       " 0.002635448705404997,\n",
       " 0.002574564889073372,\n",
       " 0.0025192040484398603,\n",
       " 0.0024656879249960184,\n",
       " 0.0024186635855585337,\n",
       " 0.00238008052110672,\n",
       " 0.002358968136832118]"
      ]
     },
     "execution_count": 62,
     "metadata": {},
     "output_type": "execute_result"
    },
    {
     "data": {
      "image/png": "[encoded data removed]",
      "text/plain": [
       "<Figure size 640x480 with 1 Axes>"
      ]
     },
     "metadata": {},
     "output_type": "display_data"
    }
   ],
   "source": [
    "trainer.train()"
   ]
  },
  {
   "cell_type": "code",
   "execution_count": 63,
   "metadata": {},
   "outputs": [
    {
     "data": {
      "text/plain": [
       "[tensor([[[[ 1.9864e+00, -3.4094e+00,  1.8339e+00,  2.0314e+00, -5.2635e+00,\n",
       "            -2.7470e+00, -1.4851e-01,  3.8108e-01, -1.7138e+00, -2.5843e+00,\n",
       "            -2.2030e+00,  4.4161e-01, -2.3455e-01, -3.0300e+00, -4.2237e-01],\n",
       "           [ 8.8459e-01, -4.0527e+00,  1.5520e+00,  1.8530e+00, -5.9323e+00,\n",
       "            -2.8984e+00, -7.0252e-01, -6.6874e-01, -2.4011e+00, -2.1844e+00,\n",
       "            -2.1331e+00,  2.5743e-01,  5.9946e-01, -4.1941e+00,  7.5136e-02],\n",
       "           [ 5.3321e+00, -3.8491e+00,  3.2245e+00,  3.6206e+00, -6.7067e+00,\n",
       "            -4.0757e+00,  7.6546e-01,  2.4987e+00, -1.2869e+00, -4.6123e+00,\n",
       "            -3.6979e+00,  1.1313e+00, -1.9449e+00, -2.3849e+00, -1.5057e+00],\n",
       "           [-1.0322e+00, -3.9448e+00,  9.0028e-01,  1.0177e+00, -5.2789e+00,\n",
       "            -2.1689e+00, -1.2352e+00, -1.8164e+00, -2.8280e+00, -1.1964e+00,\n",
       "            -1.2806e+00, -5.3025e-03,  1.6664e+00, -4.8024e+00,  6.8524e-01]],\n",
       " \n",
       "          [[-2.0435e+00, -4.3804e+00,  3.1125e-01,  4.5556e-01, -4.8609e+00,\n",
       "            -2.2494e+00, -1.3287e+00, -2.5431e+00, -2.4124e+00, -1.4124e+00,\n",
       "            -1.4629e+00, -4.1692e-02,  1.7351e+00, -4.7413e+00,  4.4072e-01],\n",
       "           [ 1.4439e+00,  1.5119e+00,  6.8462e-01,  6.3050e-01,  1.2281e+01,\n",
       "            -9.2854e+00, -6.0614e+00, -9.5742e+00, -1.0982e+01,  7.0906e+00,\n",
       "            -8.0931e+00, -6.7822e+00, -6.3575e+00, -9.2798e+00, -9.0893e+00],\n",
       "           [ 1.2658e+00, -4.6636e+00,  2.2024e+00,  2.1058e+00, -6.2101e+00,\n",
       "            -3.1539e+00, -3.1119e-01,  5.3495e-02, -2.5060e+00, -3.6687e+00,\n",
       "            -2.4953e+00,  1.0797e+00,  3.1587e-01, -4.5016e+00, -6.0648e-01],\n",
       "           [-1.7147e+00, -4.8637e+00,  1.3806e+00,  9.7676e-01, -5.6616e+00,\n",
       "            -2.2598e+00, -1.1939e+00, -1.7957e+00, -3.4957e+00, -2.4139e+00,\n",
       "            -1.3482e+00,  7.9360e-01,  2.0901e+00, -5.9602e+00,  2.9827e-01]],\n",
       " \n",
       "          [[-4.3315e-01, -6.6333e+00,  2.2901e-01,  1.1905e+00, -6.4196e+00,\n",
       "            -4.7940e+00, -7.0548e-01, -2.3709e+00, -7.3769e-01, -4.3663e+00,\n",
       "            -4.3848e+00,  3.7066e-01, -2.3319e-01, -4.0347e+00, -1.3880e+00],\n",
       "           [-4.5268e+00, -1.0338e+01, -9.9066e-01, -5.1953e-01, -6.0567e+00,\n",
       "            -6.8099e+00, -2.3193e+00, -6.5977e+00, -3.4510e+00, -4.9766e+00,\n",
       "            -6.7699e+00, -5.2805e-01,  2.1108e+00, -8.2802e+00, -2.3542e+00],\n",
       "           [-2.6244e-01, -1.8266e+01,  3.9500e-01,  6.1974e-01,  6.6670e+00,\n",
       "            -1.4307e+01, -5.5447e+00, -5.8684e+00, -8.3410e+00, -6.8567e+00,\n",
       "            -1.4099e+01,  4.6972e+00, -6.0169e+00, -6.4965e+00, -7.4569e+00],\n",
       "           [-3.5995e+00, -7.2082e+00, -4.2052e-01,  3.2304e-01, -6.7367e+00,\n",
       "            -4.0664e+00, -1.9300e+00, -4.5664e+00, -2.4797e+00, -2.8236e+00,\n",
       "            -3.1617e+00,  6.7011e-02,  2.0554e+00, -6.4520e+00,  1.7028e-02]],\n",
       " \n",
       "          [[ 4.3339e+00, -2.2371e+00,  1.6580e+00,  2.3611e+00, -4.2268e+00,\n",
       "            -3.0251e+00,  7.1684e-01,  1.7548e+00,  3.3057e-01, -2.7204e+00,\n",
       "            -2.9327e+00,  4.7188e-02, -2.2207e+00, -1.3421e-01, -1.2280e+00],\n",
       "           [ 1.5457e+00, -4.0274e+00,  1.4720e-01,  1.7945e+00, -6.0449e+00,\n",
       "            -3.9657e+00, -8.2742e-01, -1.6479e+00, -5.7501e-01, -1.2795e+00,\n",
       "            -3.3604e+00, -1.0787e+00, -5.3546e-01, -2.4284e+00,  5.7816e-02],\n",
       "           [ 6.0734e+00, -3.4694e+00,  2.1607e+00,  3.4042e+00, -6.0219e+00,\n",
       "            -4.6476e+00,  1.0147e+00,  2.2395e+00,  6.5012e-01, -4.2338e+00,\n",
       "            -4.5859e+00,  2.8970e-01, -3.2481e+00, -2.5409e-01, -1.9166e+00],\n",
       "           [ 6.2746e-01, -4.1302e+00,  6.9492e-01,  1.4169e+00, -5.3633e+00,\n",
       "            -3.2013e+00, -6.5961e-01, -1.2148e+00, -1.2412e+00, -2.1110e+00,\n",
       "            -2.6403e+00, -1.5949e-01,  4.7230e-02, -3.1458e+00, -2.4193e-01]]],\n",
       " \n",
       " \n",
       "         [[[ 5.4096e+00, -2.5299e+00,  2.0329e+00,  2.9806e+00, -5.0844e+00,\n",
       "            -3.6472e+00,  8.5308e-01,  2.1721e+00,  3.1984e-01, -3.1604e+00,\n",
       "            -3.5222e+00,  9.3822e-02, -2.6590e+00, -1.7430e-01, -1.3774e+00],\n",
       "           [-3.0254e+00, -7.1897e+00,  5.4252e-01,  3.2639e-01, -6.3660e+00,\n",
       "            -4.0459e+00, -1.7680e+00, -4.0732e+00, -4.2272e+00, -2.7525e+00,\n",
       "            -3.5410e+00,  8.6016e-03,  2.6620e+00, -7.5000e+00, -2.0367e-01],\n",
       "           [ 5.7515e+00, -2.6335e+00,  2.1470e+00,  3.1779e+00, -5.3425e+00,\n",
       "            -3.8972e+00,  9.0507e-01,  2.2610e+00,  3.2573e-01, -3.3185e+00,\n",
       "            -3.7639e+00,  9.6199e-02, -2.8426e+00, -2.1053e-01, -1.4641e+00],\n",
       "           [-1.6273e+00, -5.0559e+00,  7.2991e-01,  9.2356e-01, -5.8816e+00,\n",
       "            -2.7866e+00, -1.3522e+00, -2.3953e+00, -2.8185e+00, -2.0407e+00,\n",
       "            -1.9062e+00,  2.3148e-01,  1.7495e+00, -5.4261e+00,  3.5745e-01]],\n",
       " \n",
       "          [[ 6.5576e+00, -2.9578e+00,  2.4103e+00,  3.6442e+00, -6.0903e+00,\n",
       "            -4.4061e+00,  1.0169e+00,  2.5846e+00,  3.8299e-01, -3.7529e+00,\n",
       "            -4.2630e+00,  1.7094e-01, -3.1888e+00, -2.1326e-01, -1.6031e+00],\n",
       "           [-2.9078e+00, -5.5324e+00, -3.0411e-01,  1.0481e+00, -6.3947e+00,\n",
       "            -3.6293e+00, -3.3443e+00, -4.8845e+00, -4.6320e+00,  2.8894e-01,\n",
       "            -2.1581e+00, -1.6856e+00,  3.3484e+00, -7.5674e+00,  1.2322e+00],\n",
       "           [ 6.0382e+00, -2.7069e+00,  2.2342e+00,  3.3169e+00, -5.5700e+00,\n",
       "            -4.0158e+00,  9.6002e-01,  2.4242e+00,  3.7276e-01, -3.4689e+00,\n",
       "            -3.8908e+00,  1.3001e-01, -2.9561e+00, -1.4583e-01, -1.5087e+00],\n",
       "           [-2.1997e+00, -5.3161e+00,  1.0112e+00,  1.0597e+00, -6.6611e+00,\n",
       "            -2.6334e+00, -1.7963e+00, -2.7955e+00, -3.9930e+00, -1.6003e+00,\n",
       "            -1.4643e+00,  2.6001e-01,  2.6956e+00, -6.7884e+00,  1.0065e+00]],\n",
       " \n",
       "          [[ 5.6488e+00, -2.5856e+00,  2.0671e+00,  3.1488e+00, -5.2537e+00,\n",
       "            -3.7607e+00,  9.5344e-01,  2.2283e+00,  3.1981e-01, -3.3154e+00,\n",
       "            -3.6436e+00,  8.2365e-02, -2.8193e+00, -2.0417e-01, -1.4070e+00],\n",
       "           [ 1.1953e+00, -1.8494e+01,  6.8622e-01,  4.9073e-01,  5.5121e+00,\n",
       "            -1.8102e+01, -9.1659e+00, -8.9929e+00, -1.8156e+01, -1.0621e+01,\n",
       "            -1.8396e+01, -5.9094e+00,  4.5636e+00, -1.8046e+01, -1.4043e+01],\n",
       "           [-5.7918e-01, -1.8955e+00,  4.9201e-01,  4.8910e-01,  1.2713e+01,\n",
       "            -8.8643e+00,  6.3051e+00, -1.0929e+01, -1.0359e+01, -7.4559e+00,\n",
       "            -8.8593e+00, -6.6628e+00, -8.7345e+00, -8.0880e+00, -1.3107e+01],\n",
       "           [-3.4545e+00, -7.8858e+00,  4.3561e-01,  2.4768e-01, -6.7814e+00,\n",
       "            -4.4025e+00, -1.7365e+00, -4.4232e+00, -4.0892e+00, -3.3503e+00,\n",
       "            -3.9497e+00,  2.2171e-01,  2.6278e+00, -7.8097e+00, -4.3393e-01]],\n",
       " \n",
       "          [[ 6.2599e+00, -2.8741e+00,  2.3136e+00,  3.4774e+00, -5.8539e+00,\n",
       "            -4.2280e+00,  9.7299e-01,  2.4733e+00,  3.6298e-01, -3.6202e+00,\n",
       "            -4.0928e+00,  1.5245e-01, -3.0495e+00, -2.1597e-01, -1.5547e+00],\n",
       "           [-2.2253e+00, -4.7864e+00, -4.8718e-02,  7.0600e-01, -6.0705e+00,\n",
       "            -2.7856e+00, -1.9255e+00, -3.5196e+00, -2.8459e+00, -4.9223e-01,\n",
       "            -1.7227e+00, -7.1803e-01,  2.2086e+00, -5.4862e+00,  1.1824e+00],\n",
       "           [ 6.1173e+00, -3.2688e+00,  2.2016e+00,  3.4045e+00, -5.9236e+00,\n",
       "            -4.4972e+00,  1.0070e+00,  2.3145e+00,  5.5913e-01, -4.0439e+00,\n",
       "            -4.4207e+00,  2.4583e-01, -3.1817e+00, -2.2993e-01, -1.8162e+00],\n",
       "           [-1.0665e+00, -5.3055e+00,  3.9682e-01,  1.0396e+00, -6.0372e+00,\n",
       "            -3.4365e+00, -1.2249e+00, -2.4853e+00, -2.0192e+00, -2.3046e+00,\n",
       "            -2.6881e+00, -3.4256e-02,  1.0500e+00, -4.7172e+00, -7.3113e-03]]]],\n",
       "        grad_fn=<PermuteBackward0>),\n",
       " tensor([[[[  2.5100,   2.2874,   2.2380,  ...,  -5.2305,  -5.2388,  -3.7144],\n",
       "           [  4.0469,   3.1541,   2.9975,  ...,  -7.7927,  -5.4175,  -3.5351],\n",
       "           [  4.8250,  -0.0411,   3.4438,  ...,  -7.7211,  -4.6886,  -4.4248],\n",
       "           ...,\n",
       "           [  4.5864,   2.8722,   3.3584,  ...,  -8.5472,  -5.5759,  -3.8722],\n",
       "           [  4.7603,   2.4137,   3.4347,  ...,  -8.9255,  -5.4613,  -3.9872],\n",
       "           [  3.5450,  -0.7121,   2.4595,  ...,  -5.2557,  -3.4148,  -3.6871]],\n",
       " \n",
       "          [[  3.3709,   3.5040,   2.9431,  ...,  -6.8112,  -6.8802,  -4.6864],\n",
       "           [  5.3451,   4.1820,   4.0474,  ...,  -8.9286,  -6.9170,  -4.0380],\n",
       "           [  6.1403,  -0.4776,   4.4143,  ...,  -8.1728,  -5.6886,  -5.0033],\n",
       "           ...,\n",
       "           [  5.6884,   3.6154,   3.9727,  ..., -10.2577,  -7.7854,  -4.7558],\n",
       "           [  6.0227,   3.1272,   4.3762,  ..., -10.6507,  -6.8988,  -4.7519],\n",
       "           [  4.7732,  -1.3238,   3.4185,  ...,  -6.1380,  -4.3151,  -4.8261]],\n",
       " \n",
       "          [[  3.4630,   4.1502,   3.0921,  ...,  -6.7152,  -7.5341,  -4.8906],\n",
       "           [  4.7434,   4.0410,   3.6030,  ...,  -9.1723,  -8.6815,  -4.4293],\n",
       "           [  6.2207,  -0.0568,   4.4543,  ..., -10.1239,  -7.5724,  -6.2522],\n",
       "           ...,\n",
       "           [  5.7910,   4.7067,   4.3174,  ..., -10.2710,  -7.7001,  -4.7516],\n",
       "           [  6.5701,   3.1110,   5.4001,  ..., -12.3803, -10.2042,  -6.3007],\n",
       "           [  5.6001,  -1.8328,   3.9763,  ...,  -7.2975,  -5.2872,  -6.3366]],\n",
       " \n",
       "          ...,\n",
       " \n",
       "          [[  3.5532,   3.3564,   3.1598,  ...,  -7.6603,  -7.9879,  -5.7479],\n",
       "           [  5.8696,   5.2612,   4.4745,  ...,  -9.7435,  -8.0399,  -4.4873],\n",
       "           [  5.8622,  -1.2547,   4.2743,  ...,  -9.5677,  -7.3722,  -6.9658],\n",
       "           ...,\n",
       "           [  6.0355,   4.1846,   4.5897,  ..., -10.8929,  -7.8541,  -5.2100],\n",
       "           [  4.1477,   1.4624,   3.6080,  ...,  -9.3996,  -6.3819,  -4.9083],\n",
       "           [  3.7550,  -0.2002,   2.6525,  ...,  -6.3431,  -3.8679,  -3.9438]],\n",
       " \n",
       "          [[  3.1795,   2.9611,   2.8752,  ...,  -7.1229,  -7.6254,  -5.3734],\n",
       "           [  6.0210,   5.0991,   4.4971,  ..., -10.3720,  -7.7187,  -4.7422],\n",
       "           [  6.0071,   0.3451,   4.5281,  ...,  -9.7893,  -5.8560,  -5.5192],\n",
       "           ...,\n",
       "           [  7.1925,   5.1379,   5.2557,  ..., -12.6075,  -8.6743,  -5.7804],\n",
       "           [  5.2243,  -0.8437,   4.1355,  ...,  -9.9402,  -7.1576,  -6.4356],\n",
       "           [  3.8820,  -0.2554,   2.9300,  ...,  -6.9961,  -4.4869,  -4.4862]],\n",
       " \n",
       "          [[  2.8242,   2.5080,   2.4328,  ...,  -6.2683,  -5.9926,  -4.3597],\n",
       "           [  4.7975,   3.6204,   3.6042,  ...,  -8.1557,  -5.8932,  -3.6703],\n",
       "           [  4.7136,   0.0392,   3.4201,  ...,  -7.3756,  -4.4083,  -4.2714],\n",
       "           ...,\n",
       "           [  4.3801,   2.6543,   3.2497,  ...,  -7.7204,  -5.1196,  -3.4529],\n",
       "           [  4.1639,   0.8589,   2.9498,  ...,  -7.5533,  -4.0874,  -3.5245],\n",
       "           [  3.0803,  -0.4582,   2.0814,  ...,  -5.0254,  -3.1137,  -3.3720]]],\n",
       " \n",
       " \n",
       "         [[[  2.1839,  -6.1246,   0.4737,  ...,   0.8488,  -3.9812,  -8.6707],\n",
       "           [  1.3773,   3.4386,   2.6713,  ...,  -2.7607,  -9.0134,  -6.5798],\n",
       "           [  3.5990,   6.5773,   2.9982,  ...,  -5.5171,  -6.6789,  -2.6255],\n",
       "           ...,\n",
       "           [  4.8859,   3.3631,   3.5703,  ...,  -9.1685,  -6.1165,  -4.1725],\n",
       "           [  2.9021,  -7.2540,   0.7009,  ...,   0.4063,  -2.1668,  -7.4464],\n",
       "           [  2.0478,  -5.6756,   1.2308,  ...,   0.0994,  -6.1258, -10.1773]],\n",
       " \n",
       "          [[  3.5377,  -8.7768,   0.5543,  ...,   1.2377,  -5.7042, -12.9079],\n",
       "           [  2.2719,   5.6875,   4.2032,  ...,  -3.7371, -13.1907,  -9.3034],\n",
       "           [  3.9195,   9.1602,   3.5572,  ...,  -5.0787,  -8.1677,  -2.5574],\n",
       "           ...,\n",
       "           [  4.7397,   4.7207,   3.6013,  ...,  -7.9066,  -6.5681,  -3.5921],\n",
       "           [  2.2899, -10.7563,  -0.1206,  ...,   3.0644,  -1.9788,  -9.7222],\n",
       "           [  3.1470,  -7.5929,   1.7471,  ...,  -0.0361,  -8.9505, -14.7300]],\n",
       " \n",
       "          [[  3.9114,  -9.7147,   0.9202,  ...,   1.1513,  -7.2891, -15.1072],\n",
       "           [  2.7720,   7.7514,   4.9648,  ...,  -4.5772, -15.7359, -10.5838],\n",
       "           [  3.4764,  10.7286,   3.5292,  ...,  -1.6311,  -7.7747,  -0.9395],\n",
       "           ...,\n",
       "           [  3.2084,   7.6054,   3.0598,  ...,  -5.5287,  -7.3954,  -2.9016],\n",
       "           [  2.8343, -13.1936,  -0.1581,  ...,   3.8429,  -2.4038, -12.0039],\n",
       "           [  3.8822,  -9.0706,   2.5571,  ...,  -0.2001, -11.7610, -18.1308]],\n",
       " \n",
       "          ...,\n",
       " \n",
       "          [[  3.9881, -10.4963,   0.8289,  ...,   1.4869,  -7.1037, -15.5114],\n",
       "           [  2.5139,   6.7705,   4.7772,  ...,  -4.1326, -14.8887, -10.1260],\n",
       "           [  3.1573,   8.4487,   3.1560,  ...,  -0.2586,  -5.8621,  -0.1233],\n",
       "           ...,\n",
       "           [  1.8253,   7.5861,   1.8781,  ...,  -2.3562,  -6.0844,  -1.2866],\n",
       "           [  2.2607, -11.9741,   0.0455,  ...,   3.4587,  -2.4821, -10.8924],\n",
       "           [  3.5644,  -8.4151,   2.1521,  ...,  -0.2679, -10.5923, -16.9353]],\n",
       " \n",
       "          [[  3.5233,  -9.2135,   0.9111,  ...,   1.1179,  -6.8071, -14.1328],\n",
       "           [  2.5302,   6.9046,   4.3423,  ...,  -4.2781, -14.3937,  -9.7017],\n",
       "           [  3.3825,   9.1296,   3.2286,  ...,  -2.0443,  -6.9266,  -1.0294],\n",
       "           ...,\n",
       "           [  3.4417,   6.6979,   2.8250,  ...,  -6.0766,  -6.9538,  -2.9488],\n",
       "           [  2.6629, -11.8398,  -0.2436,  ...,   3.4615,  -1.9929, -10.6968],\n",
       "           [  3.6756,  -8.4390,   2.2747,  ...,  -0.1902, -10.7349, -16.6804]],\n",
       " \n",
       "          [[  2.2820,  -5.9963,   0.6275,  ...,   0.6281,  -4.6099,  -9.2324],\n",
       "           [  1.0862,   4.2672,   2.4751,  ...,  -3.7164,  -9.8947,  -6.8975],\n",
       "           [  3.1713,   5.6798,   2.7299,  ...,  -3.9460,  -5.4845,  -1.8075],\n",
       "           ...,\n",
       "           [  3.8051,   3.8471,   2.9785,  ...,  -6.0939,  -5.2135,  -2.7578],\n",
       "           [  1.9073,  -8.4515,  -0.1985,  ...,   2.4202,  -1.3965,  -7.5264],\n",
       "           [  2.0716,  -4.8604,   1.2960,  ...,  -0.2732,  -6.4623, -10.0040]]]],\n",
       "        grad_fn=<PermuteBackward0>)]"
      ]
     },
     "execution_count": 63,
     "metadata": {},
     "output_type": "execute_result"
    }
   ],
   "source": [
    "pred = model(batch[\"images\"])\n",
    "pred"
   ]
  },
  {
   "cell_type": "code",
   "execution_count": 68,
   "metadata": {},
   "outputs": [],
   "source": [
    "i = 1"
   ]
  },
  {
   "cell_type": "code",
   "execution_count": 69,
   "metadata": {},
   "outputs": [
    {
     "data": {
      "text/plain": [
       "[{'bboxes': tensor([[0.4523, 0.4548, 0.1983, 0.8641],\n",
       "          [0.6087, 0.5000, 0.1484, 0.8549]]),\n",
       "  'confidence': tensor([1.0000, 0.9987]),\n",
       "  'labels': tensor([4, 6]),\n",
       "  'scores': tensor([1.0000, 0.9999])},\n",
       " {'bboxes': tensor([[0.5898, 0.5327, 0.1636, 0.7502],\n",
       "          [0.4419, 0.5000, 0.1986, 0.7514]]),\n",
       "  'confidence': tensor([1.0000, 0.9960]),\n",
       "  'labels': tensor([1, 7]),\n",
       "  'scores': tensor([1.0000, 1.0000])}]"
      ]
     },
     "execution_count": 69,
     "metadata": {},
     "output_type": "execute_result"
    }
   ],
   "source": [
    "output = model.inference(\n",
    "    batch[\"images\"],\n",
    ")\n",
    "\n",
    "bounding_boxes = output.bboxes\n",
    "bounding_boxes"
   ]
  },
  {
   "cell_type": "code",
   "execution_count": 70,
   "metadata": {},
   "outputs": [
    {
     "data": {
      "text/plain": [
       "<matplotlib.image.AxesImage at 0x2d30ac850>"
      ]
     },
     "execution_count": 70,
     "metadata": {},
     "output_type": "execute_result"
    },
    {
     "data": {
      "image/png": "[encoded data removed]",
      "text/plain": [
       "<Figure size 640x480 with 1 Axes>"
      ]
     },
     "metadata": {},
     "output_type": "display_data"
    }
   ],
   "source": [
    "plt.imshow(\n",
    "    draw_bounding_boxes(batch[\"images\"][i],\n",
    "                        box_convert(\n",
    "                            bounding_boxes[i][\"bboxes\"], \n",
    "                            \"cxcywh\",\n",
    "                            \"xyxy\"\n",
    "                        ), \n",
    "                        bounding_boxes[i][\"labels\"]\n",
    ")\n",
    ")"
   ]
  },
  {
   "cell_type": "code",
   "execution_count": 71,
   "metadata": {},
   "outputs": [
    {
     "data": {
      "image/jpeg": "[encoded data removed]",
      "image/png": "[encoded data removed]",
      "text/plain": [
       "<PIL.Image.Image image mode=RGB size=256x256>"
      ]
     },
     "execution_count": 71,
     "metadata": {},
     "output_type": "execute_result"
    }
   ],
   "source": [
    "draw_bounding_boxes(batch[\"images\"][i],\n",
    "                        box_convert(\n",
    "                            bounding_boxes[i][\"bboxes\"], \n",
    "                            \"cxcywh\",\n",
    "                            \"xyxy\"\n",
    "                        ), \n",
    "                        bounding_boxes[i][\"labels\"]\n",
    ").resize((256, 256), 0)"
   ]
  },
  {
   "cell_type": "code",
   "execution_count": 22,
   "metadata": {},
   "outputs": [
    {
     "name": "stderr",
     "output_type": "stream",
     "text": [
      "                                     \r"
     ]
    },
    {
     "data": {
      "text/plain": [
       "{'map': 0.0,\n",
       " 'map_50': 0.0,\n",
       " 'map_75': 0.0,\n",
       " 'map_small': 0.0,\n",
       " 'map_medium': -1.0,\n",
       " 'map_large': -1.0,\n",
       " 'mar_1': 0.0,\n",
       " 'mar_10': 0.0,\n",
       " 'mar_100': 0.0,\n",
       " 'mar_small': 0.0,\n",
       " 'mar_medium': -1.0,\n",
       " 'mar_large': -1.0,\n",
       " 'map_per_class': -1.0,\n",
       " 'mar_100_per_class': -1.0,\n",
       " 'classes': [1, 4, 6, 7]}"
      ]
     },
     "execution_count": 22,
     "metadata": {},
     "output_type": "execute_result"
    }
   ],
   "source": [
    "calculate_mAP(\n",
    "    model,\n",
    "    trainer.train_loader,\n",
    ")"
   ]
  },
  {
   "cell_type": "code",
   "execution_count": null,
   "metadata": {},
   "outputs": [],
   "source": []
  },
  {
   "cell_type": "code",
   "execution_count": null,
   "metadata": {},
   "outputs": [],
   "source": []
  }
 ],
 "metadata": {
  "kernelspec": {
   "display_name": "mini-yolov3-a3VRlvzj-py3.10",
   "language": "python",
   "name": "python3"
  },
  "language_info": {
   "codemirror_mode": {
    "name": "ipython",
    "version": 3
   },
   "file_extension": ".py",
   "mimetype": "text/x-python",
   "name": "python",
   "nbconvert_exporter": "python",
   "pygments_lexer": "ipython3",
   "version": "3.10.13"
  }
 },
 "nbformat": 4,
 "nbformat_minor": 2
}
