{
 "cells": [
  {
   "cell_type": "code",
   "execution_count": 72,
   "metadata": {},
   "outputs": [
    {
     "name": "stdout",
     "output_type": "stream",
     "text": [
      "The autoreload extension is already loaded. To reload it, use:\n",
      "  %reload_ext autoreload\n"
     ]
    }
   ],
   "source": [
    "%load_ext autoreload\n",
    "%autoreload 2"
   ]
  },
  {
   "cell_type": "code",
   "execution_count": 73,
   "metadata": {},
   "outputs": [],
   "source": [
    "from mini_yolov3.model import MiniYoloV3\n",
    "from mini_yolov3.trainer import Trainer\n",
    "import torch\n",
    "from torchvision.transforms import v2\n",
    "from mini_yolov3.dataset import SVHNDataset, collate_fn\n",
    "from torch.utils.data import Subset, DataLoader\n",
    "from mini_yolov3.loss import YOLOLoss, build_targets\n",
    "import matplotlib.pyplot as plt\n",
    "from mini_yolov3.utils import draw_bounding_boxes\n",
    "from torchvision.ops import box_convert\n",
    "from mini_yolov3.evals import calculate_mAP\n",
    "from torchvision.ops import box_iou\n",
    "from tqdm import tqdm"
   ]
  },
  {
   "cell_type": "code",
   "execution_count": 74,
   "metadata": {},
   "outputs": [],
   "source": [
    "train_dataset = SVHNDataset(split=\"train\")\n",
    "# train_dataset = Subset(train_dataset, range(12, 13))\n",
    "train_dataset = Subset(train_dataset, range(0, 2))"
   ]
  },
  {
   "cell_type": "code",
   "execution_count": 75,
   "metadata": {},
   "outputs": [
    {
     "data": {
      "text/plain": [
       "tensor([[0.3551, 0.0217, 0.1963, 0.8696],\n",
       "        [0.5327, 0.0652, 0.1495, 0.8696]])"
      ]
     },
     "execution_count": 75,
     "metadata": {},
     "output_type": "execute_result"
    }
   ],
   "source": [
    "train_dataset[0][\"bbox\"]"
   ]
  },
  {
   "cell_type": "code",
   "execution_count": 76,
   "metadata": {},
   "outputs": [
    {
     "data": {
      "text/plain": [
       "<matplotlib.image.AxesImage at 0x2d10ec970>"
      ]
     },
     "execution_count": 76,
     "metadata": {},
     "output_type": "execute_result"
    },
    {
     "data": {
      "image/png": "[encoded data removed]",
      "text/plain": [
       "<Figure size 640x480 with 1 Axes>"
      ]
     },
     "metadata": {},
     "output_type": "display_data"
    }
   ],
   "source": [
    "plt.imshow(train_dataset[0][\"image\"].permute(1, 2, 0))"
   ]
  },
  {
   "cell_type": "code",
   "execution_count": 77,
   "metadata": {},
   "outputs": [
    {
     "data": {
      "text/plain": [
       "<matplotlib.image.AxesImage at 0x2d0dfed10>"
      ]
     },
     "execution_count": 77,
     "metadata": {},
     "output_type": "execute_result"
    },
    {
     "data": {
      "image/png": "[encoded data removed]",
      "text/plain": [
       "<Figure size 640x480 with 1 Axes>"
      ]
     },
     "metadata": {},
     "output_type": "display_data"
    }
   ],
   "source": [
    "plt.imshow(\n",
    "    draw_bounding_boxes(train_dataset[0][\"image\"], box_convert(train_dataset[0][\"bbox\"], \"xywh\", \"xyxy\"), train_dataset[0][\"labels\"])\n",
    ")"
   ]
  },
  {
   "cell_type": "code",
   "execution_count": 78,
   "metadata": {},
   "outputs": [],
   "source": [
    "dataloader = DataLoader(train_dataset, batch_size=2, shuffle=True, collate_fn=collate_fn)"
   ]
  },
  {
   "cell_type": "code",
   "execution_count": 79,
   "metadata": {},
   "outputs": [
    {
     "data": {
      "text/plain": [
       "1"
      ]
     },
     "execution_count": 79,
     "metadata": {},
     "output_type": "execute_result"
    }
   ],
   "source": [
    "len(dataloader)"
   ]
  },
  {
   "cell_type": "code",
   "execution_count": 80,
   "metadata": {},
   "outputs": [
    {
     "name": "stdout",
     "output_type": "stream",
     "text": [
      "[tensor([[0.3443, 0.1290, 0.1967, 0.7419],\n",
      "        [0.5082, 0.1613, 0.1639, 0.7419]]), tensor([[0.3551, 0.0217, 0.1963, 0.8696],\n",
      "        [0.5327, 0.0652, 0.1495, 0.8696]])]\n",
      "tensor([[0.4426, 0.5000, 0.1967, 0.7419],\n",
      "        [0.5902, 0.5323, 0.1639, 0.7419]])\n"
     ]
    },
    {
     "ename": "NameError",
     "evalue": "name 'anchors' is not defined",
     "output_type": "error",
     "traceback": [
      "\u001b[0;31m---------------------------------------------------------------------------\u001b[0m",
      "\u001b[0;31mNameError\u001b[0m                                 Traceback (most recent call last)",
      "Cell \u001b[0;32mIn[80], line 4\u001b[0m\n\u001b[1;32m      2\u001b[0m \u001b[38;5;28mprint\u001b[39m(batch[\u001b[38;5;124m\"\u001b[39m\u001b[38;5;124mbboxes\u001b[39m\u001b[38;5;124m\"\u001b[39m])\n\u001b[1;32m      3\u001b[0m \u001b[38;5;28mprint\u001b[39m(box_convert(batch[\u001b[38;5;124m\"\u001b[39m\u001b[38;5;124mbboxes\u001b[39m\u001b[38;5;124m\"\u001b[39m][\u001b[38;5;241m0\u001b[39m], \u001b[38;5;124m\"\u001b[39m\u001b[38;5;124mxywh\u001b[39m\u001b[38;5;124m\"\u001b[39m, \u001b[38;5;124m\"\u001b[39m\u001b[38;5;124mcxcywh\u001b[39m\u001b[38;5;124m\"\u001b[39m))\n\u001b[0;32m----> 4\u001b[0m targets \u001b[38;5;241m=\u001b[39m build_targets(batch[\u001b[38;5;124m\"\u001b[39m\u001b[38;5;124mbboxes\u001b[39m\u001b[38;5;124m\"\u001b[39m], batch[\u001b[38;5;124m\"\u001b[39m\u001b[38;5;124mlabels\u001b[39m\u001b[38;5;124m\"\u001b[39m], (\u001b[38;5;241m2\u001b[39m, \u001b[38;5;241m2\u001b[39m), \u001b[43manchors\u001b[49m, \u001b[38;5;241m10\u001b[39m)\n",
      "\u001b[0;31mNameError\u001b[0m: name 'anchors' is not defined"
     ]
    }
   ],
   "source": [
    "for batch in dataloader:\n",
    "    print(batch[\"bboxes\"])\n",
    "    print(box_convert(batch[\"bboxes\"][0], \"xywh\", \"cxcywh\"))\n",
    "    targets = build_targets(batch[\"bboxes\"], batch[\"labels\"], (2, 2), anchors, 10)"
   ]
  },
  {
   "cell_type": "code",
   "execution_count": null,
   "metadata": {},
   "outputs": [
    {
     "data": {
      "text/plain": [
       "torch.Size([2, 3, 32, 32])"
      ]
     },
     "execution_count": 10,
     "metadata": {},
     "output_type": "execute_result"
    }
   ],
   "source": [
    "batch[\"images\"].shape"
   ]
  },
  {
   "cell_type": "code",
   "execution_count": null,
   "metadata": {},
   "outputs": [],
   "source": [
    "import json"
   ]
  },
  {
   "cell_type": "code",
   "execution_count": 128,
   "metadata": {},
   "outputs": [],
   "source": [
    "torch.manual_seed(0)\n",
    "\n",
    "config = json.load(open(\"./configs/experiment2.json\", \"r\"))\n",
    "model = MiniYoloV3(**config)\n",
    "\n",
    "trainer = Trainer(\n",
    "    model=model,\n",
    "    train_dataset=train_dataset,\n",
    "    num_epochs=100,\n",
    "    lr=3e-3,\n",
    "    batch_size=64,\n",
    "    lambda_coord=0.05,\n",
    "    lambda_conf=1.0,\n",
    "    lambda_cls=0.5,\n",
    "    device=\"cpu\",\n",
    "    eval_every=100000,\n",
    ")"
   ]
  },
  {
   "cell_type": "code",
   "execution_count": 129,
   "metadata": {},
   "outputs": [
    {
     "name": "stderr",
     "output_type": "stream",
     "text": [
      "100%|██████████| 100/100 [00:14<00:00,  6.71it/s, class_loss=0.000784, conf_loss=0.00533, coord_loss=0.000244, loss=0.00636]\n"
     ]
    },
    {
     "data": {
      "text/plain": [
       "[3.3581395149230957,\n",
       " 3.0415985584259033,\n",
       " 2.7030816078186035,\n",
       " 2.349425792694092,\n",
       " 2.0693459510803223,\n",
       " 1.8362581729888916,\n",
       " 1.6263676881790161,\n",
       " 1.4461538791656494,\n",
       " 1.277565836906433,\n",
       " 1.1216779947280884,\n",
       " 0.9794669151306152,\n",
       " 0.8505647778511047,\n",
       " 0.737808346748352,\n",
       " 0.6383603811264038,\n",
       " 0.5507615804672241,\n",
       " 0.4781323969364166,\n",
       " 0.41813963651657104,\n",
       " 0.37555715441703796,\n",
       " 0.34559351205825806,\n",
       " 0.3222559690475464,\n",
       " 0.3001021444797516,\n",
       " 0.2779041528701782,\n",
       " 0.2551753520965576,\n",
       " 0.23251762986183167,\n",
       " 0.21480625867843628,\n",
       " 0.2015937715768814,\n",
       " 0.18855533003807068,\n",
       " 0.176982581615448,\n",
       " 0.16963154077529907,\n",
       " 0.16362205147743225,\n",
       " 0.15840327739715576,\n",
       " 0.1543312966823578,\n",
       " 0.14930549263954163,\n",
       " 0.14349471032619476,\n",
       " 0.1374928504228592,\n",
       " 0.1309647411108017,\n",
       " 0.12392158806324005,\n",
       " 0.11643551290035248,\n",
       " 0.1091652363538742,\n",
       " 0.09869401156902313,\n",
       " 0.08538655936717987,\n",
       " 0.07460009306669235,\n",
       " 0.06848759949207306,\n",
       " 0.06345947831869125,\n",
       " 0.059367354959249496,\n",
       " 0.05481798201799393,\n",
       " 0.05116542428731918,\n",
       " 0.047445621341466904,\n",
       " 0.04479076713323593,\n",
       " 0.04230627045035362,\n",
       " 0.04031478986144066,\n",
       " 0.038230426609516144,\n",
       " 0.035946156829595566,\n",
       " 0.03306138515472412,\n",
       " 0.030496720224618912,\n",
       " 0.02870570495724678,\n",
       " 0.027285080403089523,\n",
       " 0.025432422757148743,\n",
       " 0.02382209151983261,\n",
       " 0.022839203476905823,\n",
       " 0.02196197398006916,\n",
       " 0.020763088017702103,\n",
       " 0.01963878981769085,\n",
       " 0.018705831840634346,\n",
       " 0.01773335225880146,\n",
       " 0.016420092433691025,\n",
       " 0.015341139398515224,\n",
       " 0.014595051296055317,\n",
       " 0.013940514996647835,\n",
       " 0.01316971518099308,\n",
       " 0.012335799634456635,\n",
       " 0.011682868003845215,\n",
       " 0.011192381381988525,\n",
       " 0.010819632560014725,\n",
       " 0.01039182860404253,\n",
       " 0.0099245086312294,\n",
       " 0.009464913979172707,\n",
       " 0.009116039611399174,\n",
       " 0.008881080895662308,\n",
       " 0.008688007481396198,\n",
       " 0.008482917211949825,\n",
       " 0.008225517347455025,\n",
       " 0.007970043458044529,\n",
       " 0.007734460756182671,\n",
       " 0.007561495527625084,\n",
       " 0.007431251462548971,\n",
       " 0.007320819888263941,\n",
       " 0.007199200335890055,\n",
       " 0.007072310894727707,\n",
       " 0.006947262678295374,\n",
       " 0.006821957416832447,\n",
       " 0.0067114681005477905,\n",
       " 0.0066154696978628635,\n",
       " 0.006539289839565754,\n",
       " 0.006469943560659885,\n",
       " 0.006413209717720747,\n",
       " 0.006365096662193537,\n",
       " 0.006332333665341139,\n",
       " 0.006322051864117384,\n",
       " 0.006355958990752697]"
      ]
     },
     "execution_count": 129,
     "metadata": {},
     "output_type": "execute_result"
    },
    {
     "data": {
      "image/png": "[encoded data removed]",
      "text/plain": [
       "<Figure size 640x480 with 1 Axes>"
      ]
     },
     "metadata": {},
     "output_type": "display_data"
    }
   ],
   "source": [
    "trainer.train()"
   ]
  },
  {
   "cell_type": "code",
   "execution_count": 130,
   "metadata": {},
   "outputs": [
    {
     "data": {
      "text/plain": [
       "[tensor([[[[ 3.9268e+00, -1.8802e+00,  1.4177e+00,  2.1544e+00, -4.0445e+00,\n",
       "            -2.4687e+00,  7.1440e-01,  1.7345e+00,  2.9588e-01, -2.2963e+00,\n",
       "            -2.4164e+00, -3.2378e-01, -1.8908e+00, -3.0316e-02, -1.0034e+00],\n",
       "           [ 2.2617e-01, -5.9119e+00,  1.5011e+00,  9.3422e-01, -5.5146e+00,\n",
       "            -3.9996e+00, -2.1599e-01, -1.2056e+00, -3.1691e+00, -4.5643e+00,\n",
       "            -4.3128e+00,  4.1944e-01,  7.1870e-01, -5.2345e+00, -1.5977e+00],\n",
       "           [ 3.8512e+00, -2.9216e+00,  2.4157e+00,  2.7372e+00, -5.6175e+00,\n",
       "            -2.8067e+00,  7.7296e-01,  2.0146e+00, -1.0889e+00, -3.7511e+00,\n",
       "            -2.5307e+00,  6.0420e-01, -1.4164e+00, -1.8540e+00, -1.1628e+00],\n",
       "           [ 3.4876e-01, -3.2443e+00,  1.1648e+00,  1.2041e+00, -4.6647e+00,\n",
       "            -2.0121e+00, -4.1404e-01, -3.8360e-01, -1.8476e+00, -2.3631e+00,\n",
       "            -1.4657e+00,  3.0923e-01,  5.4386e-01, -3.3139e+00, -7.4084e-02]],\n",
       " \n",
       "          [[ 4.2486e+00, -1.9652e+00,  1.5068e+00,  2.3373e+00, -4.3304e+00,\n",
       "            -2.6475e+00,  7.5252e-01,  1.8637e+00,  3.2684e-01, -2.4235e+00,\n",
       "            -2.5928e+00, -3.3908e-01, -2.0269e+00, -2.2595e-02, -1.0578e+00],\n",
       "           [-6.7478e-01, -4.1488e+00,  8.6175e-01,  1.4730e+00, -5.3603e+00,\n",
       "            -2.8488e+00, -1.6434e+00, -1.9398e+00, -3.3275e+00, -1.5360e+00,\n",
       "            -2.0005e+00, -5.0689e-01,  1.5147e+00, -5.4295e+00,  1.0732e-01],\n",
       "           [ 2.8225e+00, -2.9042e+00,  2.4569e+00,  2.2910e+00, -5.1707e+00,\n",
       "            -2.2341e+00,  5.6850e-01,  1.7757e+00, -1.5902e+00, -3.7186e+00,\n",
       "            -1.9036e+00,  9.6794e-01, -7.2603e-01, -2.4499e+00, -9.7449e-01],\n",
       "           [-1.0456e-01, -4.1224e+00,  1.5351e+00,  1.2727e+00, -5.4667e+00,\n",
       "            -2.3393e+00, -5.5958e-01, -6.6991e-01, -2.8146e+00, -3.0684e+00,\n",
       "            -1.7696e+00,  6.8314e-01,  1.1095e+00, -4.6700e+00, -1.1737e-01]],\n",
       " \n",
       "          [[-1.6709e-01, -2.7208e-01,  1.6567e-01, -3.1489e-01, -1.8320e-01,\n",
       "             1.9309e-01,  1.0389e-01,  2.1386e-01,  1.1735e-01, -1.4497e-01,\n",
       "             2.2215e-01, -2.7312e-01, -1.1447e-01,  1.6235e-01, -1.8840e-01],\n",
       "           [ 1.2406e+00, -1.8130e+01,  2.6756e-01,  2.0623e-03,  5.0674e+00,\n",
       "            -1.7479e+01, -9.4569e+00, -8.2881e+00, -1.7415e+01, -9.1698e+00,\n",
       "            -1.8782e+01, -5.9640e+00,  4.3731e+00, -1.7135e+01, -1.4109e+01],\n",
       "           [-5.5360e-01, -1.9708e+00,  1.0087e-01,  3.8166e-02,  8.2467e+00,\n",
       "            -1.0646e+01,  6.1577e+00, -1.1728e+01, -9.1726e+00, -6.3849e+00,\n",
       "            -9.1117e+00, -5.6118e+00, -9.5150e+00, -7.8451e+00, -1.1902e+01],\n",
       "           [-2.8173e+00, -6.0426e+00, -5.2257e-02, -1.3122e-01, -4.9052e+00,\n",
       "            -3.4525e+00, -1.0408e+00, -3.4797e+00, -2.7440e+00, -3.4571e+00,\n",
       "            -3.1718e+00,  2.4094e-02,  1.8211e+00, -5.6168e+00, -6.2089e-01]],\n",
       " \n",
       "          [[ 4.4683e+00, -2.1017e+00,  1.5793e+00,  2.4743e+00, -4.5721e+00,\n",
       "            -2.8245e+00,  7.9259e-01,  1.9376e+00,  3.3254e-01, -2.5884e+00,\n",
       "            -2.7746e+00, -3.3164e-01, -2.1245e+00, -4.9895e-02, -1.1169e+00],\n",
       "           [ 1.7374e-01, -5.3796e+00,  4.4648e-01,  1.6559e+00, -7.2192e+00,\n",
       "            -4.1224e+00, -1.0811e+00, -2.2079e+00, -2.1356e+00, -2.7503e+00,\n",
       "            -3.3900e+00, -5.5436e-01,  7.5090e-01, -4.8375e+00,  1.3475e-01],\n",
       "           [ 1.5780e+00, -5.2287e+00,  6.8210e-01,  1.4275e+00, -5.1990e+00,\n",
       "            -4.0399e+00,  2.6412e-01, -2.0557e-01,  4.0365e-01, -5.0698e+00,\n",
       "            -4.0641e+00,  6.2157e-01, -1.6496e+00, -1.7576e+00, -2.1105e+00],\n",
       "           [ 1.0338e-01, -4.7147e+00,  7.0679e-01,  1.1217e+00, -5.4960e+00,\n",
       "            -3.2021e+00, -3.8403e-01, -1.1253e+00, -1.2622e+00, -3.5959e+00,\n",
       "            -2.8496e+00,  2.8676e-01,  1.2490e-01, -3.5345e+00, -7.9950e-01]]],\n",
       " \n",
       " \n",
       "         [[[ 2.2781e+00, -3.0947e+00,  1.7670e+00,  2.0596e+00, -5.2813e+00,\n",
       "            -2.5151e+00,  1.0578e-01,  7.9916e-01, -1.4498e+00, -2.9311e+00,\n",
       "            -2.0856e+00,  3.3821e-01, -4.3473e-01, -2.5800e+00, -5.1521e-01],\n",
       "           [ 3.3343e+00, -2.6575e+00,  2.1532e+00,  2.3159e+00, -4.9354e+00,\n",
       "            -2.4233e+00,  5.9100e-01,  1.8067e+00, -9.5290e-01, -3.3151e+00,\n",
       "            -2.1999e+00,  5.2986e-01, -1.1357e+00, -1.6742e+00, -1.0047e+00],\n",
       "           [ 3.3561e+00, -4.2701e+00,  2.5129e+00,  2.7221e+00, -6.1142e+00,\n",
       "            -3.3709e+00,  3.6755e-01,  1.6367e+00, -1.5282e+00, -4.7624e+00,\n",
       "            -3.0274e+00,  1.2227e+00, -1.1826e+00, -2.7883e+00, -1.3352e+00],\n",
       "           [ 2.3097e-01, -4.2281e+00,  1.1278e+00,  1.4574e+00, -5.8379e+00,\n",
       "            -2.7805e+00, -6.3282e-01, -9.1423e-01, -2.1513e+00, -2.9197e+00,\n",
       "            -2.1129e+00,  2.9832e-01,  6.8945e-01, -4.1798e+00, -8.6696e-02]],\n",
       " \n",
       "          [[-1.8418e+00, -4.0400e+00,  4.2017e-01,  4.3876e-01, -4.7634e+00,\n",
       "            -2.0231e+00, -1.1310e+00, -2.1423e+00, -2.5134e+00, -1.9982e+00,\n",
       "            -1.2622e+00,  1.5626e-01,  1.7087e+00, -4.7106e+00,  4.4238e-01],\n",
       "           [ 1.4798e+00,  1.5912e+00,  2.7128e-01,  1.9529e-01,  1.0889e+01,\n",
       "            -8.2453e+00, -5.6576e+00, -8.6373e+00, -9.5518e+00,  6.5041e+00,\n",
       "            -7.3705e+00, -8.9117e+00, -5.8738e+00, -8.1698e+00, -1.2131e+01],\n",
       "           [ 7.5459e-01, -3.6995e+00,  1.7789e+00,  1.7117e+00, -5.2990e+00,\n",
       "            -2.3757e+00,  4.4091e-01,  2.2498e-01, -1.9709e+00, -3.9710e+00,\n",
       "            -1.8508e+00,  9.9059e-01, -2.8221e-01, -3.4107e+00, -1.0568e+00],\n",
       "           [-3.0372e-01, -3.7082e+00,  1.5605e+00,  1.2763e+00, -5.3319e+00,\n",
       "            -1.9115e+00, -6.7469e-01, -6.1095e-01, -2.9178e+00, -2.6768e+00,\n",
       "            -1.1448e+00,  7.4562e-01,  1.3215e+00, -4.6849e+00,  2.2898e-01]],\n",
       " \n",
       "          [[-3.5390e+00, -7.6452e+00, -4.0245e-01, -3.7566e-01, -6.0195e+00,\n",
       "            -4.2559e+00, -1.0458e+00, -4.0239e+00, -1.9358e+00, -5.1988e+00,\n",
       "            -4.1440e+00,  6.2797e-01,  1.4426e+00, -5.9871e+00, -1.4002e+00],\n",
       "           [-2.9972e+00, -5.5715e+00, -8.5365e-01, -4.0013e-01, -4.6456e+00,\n",
       "            -3.1593e+00, -1.1243e+00, -3.5888e+00, -1.0664e+00, -3.0672e+00,\n",
       "            -2.8107e+00, -1.2473e-01,  1.1393e+00, -4.2410e+00, -5.7302e-01],\n",
       "           [-3.1586e-01, -1.8633e+01,  6.5779e-03,  1.6578e-01,  5.2502e+00,\n",
       "            -1.2791e+01, -5.0421e+00, -5.6465e+00, -8.0214e+00, -1.0583e+01,\n",
       "            -1.2595e+01,  4.8522e+00, -5.1548e+00, -6.1597e+00, -6.9697e+00],\n",
       "           [-2.8055e+00, -5.4594e+00, -8.3355e-01, -1.2804e-01, -5.0522e+00,\n",
       "            -3.1764e+00, -1.2578e+00, -3.5911e+00, -1.1423e+00, -2.8052e+00,\n",
       "            -2.6094e+00, -2.1581e-01,  1.1918e+00, -4.3455e+00, -2.2886e-01]],\n",
       " \n",
       "          [[ 5.5491e-02, -4.3166e+00,  3.8419e-01,  8.2402e-01, -4.6786e+00,\n",
       "            -2.9598e+00, -1.8629e-01, -1.0227e+00, -4.6193e-01, -3.5018e+00,\n",
       "            -2.7370e+00,  2.1857e-01, -2.9806e-01, -2.5841e+00, -1.0701e+00],\n",
       "           [ 4.4453e+00, -2.0886e+00,  1.5783e+00,  2.4736e+00, -4.5585e+00,\n",
       "            -2.8308e+00,  7.8709e-01,  1.9038e+00,  3.0749e-01, -2.5643e+00,\n",
       "            -2.7802e+00, -3.5280e-01, -2.1263e+00, -8.7229e-02, -1.1327e+00],\n",
       "           [ 1.9533e+00, -4.2225e+00,  1.2793e+00,  1.8728e+00, -5.7357e+00,\n",
       "            -3.3863e+00,  1.7824e-01,  2.0673e-01, -6.7708e-01, -3.9933e+00,\n",
       "            -3.1402e+00,  3.7199e-01, -8.9453e-01, -2.4898e+00, -1.2094e+00],\n",
       "           [ 2.5557e+00, -3.2307e+00,  1.8306e+00,  2.1457e+00, -5.3745e+00,\n",
       "            -2.6931e+00,  2.3122e-01,  9.8190e-01, -1.2428e+00, -3.2687e+00,\n",
       "            -2.3378e+00,  4.1306e-01, -6.9172e-01, -2.4079e+00, -7.6960e-01]]]],\n",
       "        grad_fn=<PermuteBackward0>),\n",
       " tensor([[[[ 4.0853e+00, -6.3490e+00, -1.7423e+00,  ...,  6.6290e-01,\n",
       "             5.0433e+00, -5.2242e+00],\n",
       "           [-1.7175e+00,  6.1789e+00,  3.1319e+00,  ..., -7.9738e-01,\n",
       "            -8.9523e+00, -6.0652e+00],\n",
       "           [-7.2594e+00,  4.8222e+00,  4.4141e+00,  ..., -5.3888e+00,\n",
       "            -1.0742e+01, -7.5000e+00],\n",
       "           ...,\n",
       "           [-6.8705e-01,  2.9623e+00,  3.7222e+00,  ..., -4.8023e+00,\n",
       "            -4.4153e+00, -3.5138e+00],\n",
       "           [-3.7144e-01,  8.4022e-01,  3.3388e+00,  ..., -4.3580e+00,\n",
       "            -2.3125e+00, -2.4020e+00],\n",
       "           [ 3.6985e+00, -2.1454e+00,  9.6361e-01,  ..., -1.4557e+00,\n",
       "             1.7298e+00, -3.2041e+00]],\n",
       " \n",
       "          [[ 5.1159e+00, -7.8274e+00, -2.2175e+00,  ...,  8.7790e-01,\n",
       "             6.2954e+00, -6.4605e+00],\n",
       "           [-3.7398e-02,  7.0777e+00,  6.3408e+00,  ...,  1.9785e+00,\n",
       "            -1.2483e+01, -8.2570e+00],\n",
       "           [-7.2881e+00,  6.0602e+00,  8.8915e+00,  ..., -3.6941e+00,\n",
       "            -1.5955e+01, -1.0982e+01],\n",
       "           ...,\n",
       "           [ 1.2606e+00,  3.7001e+00,  6.3995e+00,  ..., -1.9327e+00,\n",
       "            -6.3995e+00, -3.2397e+00],\n",
       "           [-9.3650e-02,  9.8824e-01,  5.5606e+00,  ..., -4.2724e+00,\n",
       "            -3.4746e+00, -1.8956e+00],\n",
       "           [ 5.4816e+00, -2.9656e+00,  1.4018e+00,  ..., -2.0740e+00,\n",
       "             2.4859e+00, -4.6933e+00]],\n",
       " \n",
       "          [[ 5.6973e+00, -8.6745e+00, -2.4798e+00,  ...,  9.8848e-01,\n",
       "             6.9940e+00, -7.1984e+00],\n",
       "           [-5.9383e-01,  1.1788e+01,  7.0825e+00,  ...,  1.3894e+00,\n",
       "            -1.6550e+01, -1.0028e+01],\n",
       "           [-1.0603e+01,  1.0907e+01,  9.8289e+00,  ..., -6.4581e+00,\n",
       "            -2.1216e+01, -1.3372e+01],\n",
       "           ...,\n",
       "           [-1.6059e+00,  7.9052e+00,  5.6003e+00,  ..., -1.2946e+00,\n",
       "            -1.0416e+01, -5.2327e+00],\n",
       "           [-3.1214e+00,  3.2244e+00,  5.4955e+00,  ..., -5.4601e+00,\n",
       "            -5.6865e+00, -2.0587e+00],\n",
       "           [ 5.8555e+00, -3.1985e+00,  1.4602e+00,  ..., -2.1981e+00,\n",
       "             2.6854e+00, -5.0560e+00]],\n",
       " \n",
       "          ...,\n",
       " \n",
       "          [[ 4.7217e+00, -7.2899e+00, -2.0813e+00,  ...,  8.2360e-01,\n",
       "             5.8629e+00, -5.9598e+00],\n",
       "           [-1.0337e+00,  8.4646e+00,  5.6827e+00,  ...,  7.2194e-01,\n",
       "            -1.3225e+01, -8.4801e+00],\n",
       "           [-9.5290e+00,  8.4036e+00,  9.0384e+00,  ..., -5.7582e+00,\n",
       "            -1.8157e+01, -1.1607e+01],\n",
       "           ...,\n",
       "           [-2.1342e+00,  7.7686e+00,  4.8910e+00,  ..., -4.4321e-01,\n",
       "            -1.0605e+01, -5.5553e+00],\n",
       "           [-4.7869e+00,  2.0967e+00,  4.9596e+00,  ..., -4.9076e+00,\n",
       "            -5.9202e+00, -2.7948e+00],\n",
       "           [ 4.6294e+00, -2.8627e+00,  9.8795e-01,  ..., -1.6103e+00,\n",
       "             2.3540e+00, -4.1052e+00]],\n",
       " \n",
       "          [[ 4.6200e+00, -7.1289e+00, -2.0163e+00,  ...,  7.9209e-01,\n",
       "             5.7156e+00, -5.8465e+00],\n",
       "           [-1.1090e+00,  9.5451e+00,  5.9852e+00,  ...,  7.8590e-01,\n",
       "            -1.4263e+01, -9.1991e+00],\n",
       "           [-7.7202e+00,  8.2976e+00,  7.5660e+00,  ..., -4.5684e+00,\n",
       "            -1.6222e+01, -1.0900e+01],\n",
       "           ...,\n",
       "           [-5.6232e-01,  8.0833e+00,  5.6752e+00,  ..., -1.7886e+00,\n",
       "            -9.7521e+00, -4.6208e+00],\n",
       "           [-1.9618e+00,  9.8011e-01,  4.2166e+00,  ..., -4.6456e+00,\n",
       "            -3.5132e+00, -2.7380e+00],\n",
       "           [ 4.4244e+00, -2.8179e+00,  9.0613e-01,  ..., -1.5099e+00,\n",
       "             2.3027e+00, -3.9548e+00]],\n",
       " \n",
       "          [[ 3.0465e+00, -4.8515e+00, -1.3162e+00,  ...,  4.7949e-01,\n",
       "             3.8252e+00, -3.8848e+00],\n",
       "           [-1.0869e+00,  5.8748e+00,  3.5733e+00,  ...,  3.2120e-02,\n",
       "            -8.8474e+00, -5.7819e+00],\n",
       "           [-6.0060e+00,  4.3021e+00,  5.6742e+00,  ..., -3.4733e+00,\n",
       "            -1.0949e+01, -7.6341e+00],\n",
       "           ...,\n",
       "           [-1.8576e-02,  5.8080e+00,  4.9919e+00,  ..., -2.1114e+00,\n",
       "            -6.9326e+00, -2.8758e+00],\n",
       "           [-4.3391e-01,  1.0799e-01,  3.7240e+00,  ..., -3.4887e+00,\n",
       "            -2.2800e+00, -2.3958e+00],\n",
       "           [ 3.4168e+00, -2.1003e+00,  8.2950e-01,  ..., -1.2798e+00,\n",
       "             1.6751e+00, -3.0043e+00]]],\n",
       " \n",
       " \n",
       "         [[[-1.2051e+00,  3.2496e+00,  3.4432e+00,  ..., -2.7868e+00,\n",
       "            -5.3561e+00, -3.6632e+00],\n",
       "           [-1.1320e+00,  1.5736e+00,  3.6522e+00,  ..., -5.2705e+00,\n",
       "            -3.4610e+00, -3.3070e+00],\n",
       "           [ 4.1262e+00, -1.1389e+00,  3.0923e+00,  ..., -3.1842e+00,\n",
       "             3.0589e-01, -3.7590e+00],\n",
       "           ...,\n",
       "           [-6.3284e-02,  1.1342e+00,  2.6614e+00,  ..., -4.2859e+00,\n",
       "            -2.4120e+00, -3.2479e+00],\n",
       "           [-1.0449e+00,  2.3470e+00,  3.3233e+00,  ..., -5.4175e+00,\n",
       "            -3.5279e+00, -2.7973e+00],\n",
       "           [ 2.3028e+00, -9.4165e-01,  2.1353e+00,  ..., -2.1154e+00,\n",
       "             7.9489e-02, -2.4167e+00]],\n",
       " \n",
       "          [[-2.9220e-01,  4.9735e+00,  6.1706e+00,  ..., -9.1638e-01,\n",
       "            -8.5544e+00, -4.6709e+00],\n",
       "           [ 5.9307e-01,  2.1164e+00,  6.4655e+00,  ..., -3.4068e+00,\n",
       "            -4.9241e+00, -2.3696e+00],\n",
       "           [ 6.3520e+00, -4.2731e-01,  3.7332e+00,  ..., -4.0597e+00,\n",
       "             5.0543e-01, -4.2667e+00],\n",
       "           ...,\n",
       "           [ 2.1804e+00,  2.4566e+00,  5.3715e+00,  ..., -2.0705e+00,\n",
       "            -4.1668e+00, -2.2766e+00],\n",
       "           [ 1.1332e+00,  2.6842e+00,  6.7381e+00,  ..., -3.5471e+00,\n",
       "            -5.1351e+00, -2.2689e+00],\n",
       "           [ 3.6071e+00, -5.6423e-01,  3.1746e+00,  ..., -3.1275e+00,\n",
       "            -1.5319e-01, -3.1055e+00]],\n",
       " \n",
       "          [[-2.5999e+00,  7.0874e+00,  5.6212e+00,  ..., -8.9029e-01,\n",
       "            -1.0797e+01, -5.7424e+00],\n",
       "           [-3.5435e+00,  4.2476e+00,  6.8157e+00,  ..., -5.1011e+00,\n",
       "            -7.6901e+00, -3.0514e+00],\n",
       "           [ 3.7822e+00, -9.2459e-02,  4.0155e+00,  ..., -3.7827e+00,\n",
       "            -7.2033e-01, -3.1743e+00],\n",
       "           ...,\n",
       "           [-1.1186e+00,  6.6515e+00,  6.2238e+00,  ..., -3.0148e+00,\n",
       "            -8.4387e+00, -3.3485e+00],\n",
       "           [-6.1888e-01,  6.9943e+00,  7.2623e+00,  ..., -4.7686e+00,\n",
       "            -8.1445e+00, -2.6415e+00],\n",
       "           [ 2.5959e+00, -9.1680e-01,  4.5667e+00,  ..., -3.9828e+00,\n",
       "            -1.1762e+00, -3.8332e+00]],\n",
       " \n",
       "          ...,\n",
       " \n",
       "          [[-2.9101e+00,  7.1584e+00,  6.4235e+00,  ..., -1.4593e+00,\n",
       "            -1.1498e+01, -6.2213e+00],\n",
       "           [-2.9677e+00,  4.3400e+00,  6.7309e+00,  ..., -4.9626e+00,\n",
       "            -7.5666e+00, -3.1574e+00],\n",
       "           [ 3.8402e+00, -9.9149e-01,  3.7879e+00,  ..., -3.6291e+00,\n",
       "            -2.3052e-01, -3.8918e+00],\n",
       "           ...,\n",
       "           [-3.2493e-01,  4.8629e+00,  6.5057e+00,  ..., -4.2302e+00,\n",
       "            -6.2806e+00, -1.9604e+00],\n",
       "           [ 1.9336e+00,  1.7640e+00,  5.7506e+00,  ..., -4.1585e+00,\n",
       "            -3.2677e+00, -2.6616e+00],\n",
       "           [ 3.2203e+00, -5.6858e-01,  3.1771e+00,  ..., -3.0608e+00,\n",
       "            -3.0124e-01, -2.9992e+00]],\n",
       " \n",
       "          [[-2.1910e+00,  6.4631e+00,  5.5669e+00,  ..., -5.8844e-01,\n",
       "            -1.0178e+01, -5.4090e+00],\n",
       "           [-3.5306e+00,  4.0658e+00,  6.5356e+00,  ..., -4.8933e+00,\n",
       "            -7.9116e+00, -3.7733e+00],\n",
       "           [ 4.5428e+00, -1.1333e+00,  3.6928e+00,  ..., -3.6836e+00,\n",
       "             1.3489e-01, -4.2119e+00],\n",
       "           ...,\n",
       "           [-4.7743e-01,  5.0034e+00,  6.1928e+00,  ..., -4.3217e+00,\n",
       "            -6.6075e+00, -2.6063e+00],\n",
       "           [ 3.2071e+00,  1.3985e+00,  4.9085e+00,  ..., -2.9431e+00,\n",
       "            -2.2595e+00, -2.7217e+00],\n",
       "           [ 2.5203e+00, -6.1249e-01,  3.2539e+00,  ..., -2.9792e+00,\n",
       "            -5.8949e-01, -2.8365e+00]],\n",
       " \n",
       "          [[-1.6946e+00,  4.5385e+00,  4.1383e+00,  ..., -9.7272e-01,\n",
       "            -7.2476e+00, -3.8171e+00],\n",
       "           [-2.4364e+00,  3.6914e+00,  4.8775e+00,  ..., -3.6792e+00,\n",
       "            -6.2476e+00, -2.8950e+00],\n",
       "           [ 3.4219e+00, -7.9091e-02,  4.0852e+00,  ..., -3.1214e+00,\n",
       "            -9.9769e-01, -3.1923e+00],\n",
       "           ...,\n",
       "           [-1.8134e-01,  3.6530e+00,  4.0188e+00,  ..., -3.1356e+00,\n",
       "            -4.5504e+00, -2.0751e+00],\n",
       "           [ 1.4894e+00,  1.5729e+00,  3.5622e+00,  ..., -2.8428e+00,\n",
       "            -2.1835e+00, -2.0529e+00],\n",
       "           [ 1.9997e+00, -6.3695e-02,  2.5288e+00,  ..., -1.6326e+00,\n",
       "            -6.7919e-01, -1.8102e+00]]]], grad_fn=<PermuteBackward0>)]"
      ]
     },
     "execution_count": 130,
     "metadata": {},
     "output_type": "execute_result"
    }
   ],
   "source": [
    "pred = model(batch[\"images\"])\n",
    "pred"
   ]
  },
  {
   "cell_type": "code",
   "execution_count": 135,
   "metadata": {},
   "outputs": [],
   "source": [
    "i = 0"
   ]
  },
  {
   "cell_type": "code",
   "execution_count": 136,
   "metadata": {},
   "outputs": [
    {
     "data": {
      "text/plain": [
       "[{'bboxes': tensor([[0.5913, 0.5306, 0.1659, 0.7584],\n",
       "          [0.4439, 0.5000, 0.1960, 0.7315]]),\n",
       "  'confidence': tensor([0.9997, 0.9937]),\n",
       "  'labels': tensor([1, 7]),\n",
       "  'scores': tensor([1.0000, 1.0000])},\n",
       " {'bboxes': tensor([[0.4536, 0.4577, 0.1967, 0.8874],\n",
       "          [0.6054, 0.5000, 0.1510, 0.8616]]),\n",
       "  'confidence': tensor([1.0000, 0.9948]),\n",
       "  'labels': tensor([4, 6]),\n",
       "  'scores': tensor([1.0000, 0.9999])}]"
      ]
     },
     "execution_count": 136,
     "metadata": {},
     "output_type": "execute_result"
    }
   ],
   "source": [
    "output = model.inference(\n",
    "    batch[\"images\"],\n",
    ")\n",
    "\n",
    "bounding_boxes = output.bboxes\n",
    "bounding_boxes"
   ]
  },
  {
   "cell_type": "code",
   "execution_count": 137,
   "metadata": {},
   "outputs": [
    {
     "data": {
      "text/plain": [
       "<matplotlib.image.AxesImage at 0x2d3164eb0>"
      ]
     },
     "execution_count": 137,
     "metadata": {},
     "output_type": "execute_result"
    },
    {
     "data": {
      "image/png": "[encoded data removed]",
      "text/plain": [
       "<Figure size 640x480 with 1 Axes>"
      ]
     },
     "metadata": {},
     "output_type": "display_data"
    }
   ],
   "source": [
    "plt.imshow(\n",
    "    draw_bounding_boxes(batch[\"images\"][i],\n",
    "                        box_convert(\n",
    "                            bounding_boxes[i][\"bboxes\"], \n",
    "                            \"cxcywh\",\n",
    "                            \"xyxy\"\n",
    "                        ), \n",
    "                        bounding_boxes[i][\"labels\"]\n",
    ")\n",
    ")"
   ]
  },
  {
   "cell_type": "code",
   "execution_count": 138,
   "metadata": {},
   "outputs": [
    {
     "data": {
      "image/jpeg": "[encoded data removed]",
      "image/png": "[encoded data removed]",
      "text/plain": [
       "<PIL.Image.Image image mode=RGB size=256x256>"
      ]
     },
     "execution_count": 138,
     "metadata": {},
     "output_type": "execute_result"
    }
   ],
   "source": [
    "draw_bounding_boxes(batch[\"images\"][i],\n",
    "                        box_convert(\n",
    "                            bounding_boxes[i][\"bboxes\"], \n",
    "                            \"cxcywh\",\n",
    "                            \"xyxy\"\n",
    "                        ), \n",
    "                        bounding_boxes[i][\"labels\"]\n",
    ").resize((256, 256), 0)"
   ]
  },
  {
   "cell_type": "code",
   "execution_count": 127,
   "metadata": {},
   "outputs": [
    {
     "name": "stderr",
     "output_type": "stream",
     "text": [
      "                                     \r"
     ]
    },
    {
     "data": {
      "text/plain": [
       "{'map': 0.75,\n",
       " 'map_50': 1.0,\n",
       " 'map_75': 1.0,\n",
       " 'map_small': 0.75,\n",
       " 'map_medium': -1.0,\n",
       " 'map_large': -1.0,\n",
       " 'mar_1': 0.75,\n",
       " 'mar_10': 0.75,\n",
       " 'mar_100': 0.75,\n",
       " 'mar_small': 0.75,\n",
       " 'mar_medium': -1.0,\n",
       " 'mar_large': -1.0,\n",
       " 'map_per_class': -1.0,\n",
       " 'mar_100_per_class': -1.0,\n",
       " 'classes': [1, 4, 6, 7]}"
      ]
     },
     "execution_count": 127,
     "metadata": {},
     "output_type": "execute_result"
    }
   ],
   "source": [
    "calculate_mAP(\n",
    "    model,\n",
    "    trainer.train_loader,\n",
    ")"
   ]
  },
  {
   "cell_type": "code",
   "execution_count": null,
   "metadata": {},
   "outputs": [],
   "source": []
  },
  {
   "cell_type": "code",
   "execution_count": null,
   "metadata": {},
   "outputs": [],
   "source": []
  }
 ],
 "metadata": {
  "kernelspec": {
   "display_name": "mini-yolov3-a3VRlvzj-py3.10",
   "language": "python",
   "name": "python3"
  },
  "language_info": {
   "codemirror_mode": {
    "name": "ipython",
    "version": 3
   },
   "file_extension": ".py",
   "mimetype": "text/x-python",
   "name": "python",
   "nbconvert_exporter": "python",
   "pygments_lexer": "ipython3",
   "version": "3.10.13"
  }
 },
 "nbformat": 4,
 "nbformat_minor": 2
}
