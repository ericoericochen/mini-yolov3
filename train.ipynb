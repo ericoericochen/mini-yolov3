{
 "cells": [
  {
   "cell_type": "code",
   "execution_count": 21,
   "metadata": {},
   "outputs": [
    {
     "name": "stdout",
     "output_type": "stream",
     "text": [
      "The autoreload extension is already loaded. To reload it, use:\n",
      "  %reload_ext autoreload\n"
     ]
    }
   ],
   "source": [
    "%load_ext autoreload\n",
    "%autoreload 2"
   ]
  },
  {
   "cell_type": "code",
   "execution_count": 22,
   "metadata": {},
   "outputs": [],
   "source": [
    "from mini_yolov3.model import MiniYoloV3\n",
    "from mini_yolov3.trainer import Trainer\n",
    "import torch\n",
    "from torchvision.transforms import v2\n",
    "from mini_yolov3.dataset import SVHNDataset, collate_fn\n",
    "from torch.utils.data import Subset, DataLoader\n",
    "from mini_yolov3.loss import YOLOLoss, build_targets\n",
    "import matplotlib.pyplot as plt\n",
    "from mini_yolov3.utils import draw_bounding_boxes\n",
    "from torchvision.ops import box_convert\n",
    "from mini_yolov3.evals import calculate_mAP\n",
    "from torchvision.ops import box_iou\n",
    "from tqdm import tqdm"
   ]
  },
  {
   "cell_type": "code",
   "execution_count": 23,
   "metadata": {},
   "outputs": [],
   "source": [
    "train_dataset = SVHNDataset(split=\"train\")\n",
    "# train_dataset = Subset(train_dataset, range(12, 13))\n",
    "train_dataset = Subset(train_dataset, range(0, 2))"
   ]
  },
  {
   "cell_type": "code",
   "execution_count": 24,
   "metadata": {},
   "outputs": [
    {
     "data": {
      "text/plain": [
       "tensor([[0.3551, 0.0217, 0.1963, 0.8696],\n",
       "        [0.5327, 0.0652, 0.1495, 0.8696]])"
      ]
     },
     "execution_count": 24,
     "metadata": {},
     "output_type": "execute_result"
    }
   ],
   "source": [
    "train_dataset[0][\"bbox\"]"
   ]
  },
  {
   "cell_type": "code",
   "execution_count": 25,
   "metadata": {},
   "outputs": [
    {
     "data": {
      "text/plain": [
       "<matplotlib.image.AxesImage at 0x2d2025bd0>"
      ]
     },
     "execution_count": 25,
     "metadata": {},
     "output_type": "execute_result"
    },
    {
     "data": {
      "image/png": "[encoded data removed]",
      "text/plain": [
       "<Figure size 640x480 with 1 Axes>"
      ]
     },
     "metadata": {},
     "output_type": "display_data"
    }
   ],
   "source": [
    "plt.imshow(train_dataset[0][\"image\"].permute(1, 2, 0))"
   ]
  },
  {
   "cell_type": "code",
   "execution_count": 26,
   "metadata": {},
   "outputs": [
    {
     "data": {
      "text/plain": [
       "<matplotlib.image.AxesImage at 0x2d252dab0>"
      ]
     },
     "execution_count": 26,
     "metadata": {},
     "output_type": "execute_result"
    },
    {
     "data": {
      "image/png": "[encoded data removed]",
      "text/plain": [
       "<Figure size 640x480 with 1 Axes>"
      ]
     },
     "metadata": {},
     "output_type": "display_data"
    }
   ],
   "source": [
    "plt.imshow(\n",
    "    draw_bounding_boxes(train_dataset[0][\"image\"], box_convert(train_dataset[0][\"bbox\"], \"xywh\", \"xyxy\"), train_dataset[0][\"labels\"])\n",
    ")"
   ]
  },
  {
   "cell_type": "code",
   "execution_count": 27,
   "metadata": {},
   "outputs": [],
   "source": [
    "dataloader = DataLoader(train_dataset, batch_size=2, shuffle=True, collate_fn=collate_fn)"
   ]
  },
  {
   "cell_type": "code",
   "execution_count": 28,
   "metadata": {},
   "outputs": [
    {
     "data": {
      "text/plain": [
       "1"
      ]
     },
     "execution_count": 28,
     "metadata": {},
     "output_type": "execute_result"
    }
   ],
   "source": [
    "len(dataloader)"
   ]
  },
  {
   "cell_type": "code",
   "execution_count": 29,
   "metadata": {},
   "outputs": [
    {
     "name": "stdout",
     "output_type": "stream",
     "text": [
      "[tensor([[0.3443, 0.1290, 0.1967, 0.7419],\n",
      "        [0.5082, 0.1613, 0.1639, 0.7419]]), tensor([[0.3551, 0.0217, 0.1963, 0.8696],\n",
      "        [0.5327, 0.0652, 0.1495, 0.8696]])]\n",
      "tensor([[0.4426, 0.5000, 0.1967, 0.7419],\n",
      "        [0.5902, 0.5323, 0.1639, 0.7419]])\n"
     ]
    },
    {
     "ename": "NameError",
     "evalue": "name 'anchors' is not defined",
     "output_type": "error",
     "traceback": [
      "\u001b[0;31m---------------------------------------------------------------------------\u001b[0m",
      "\u001b[0;31mNameError\u001b[0m                                 Traceback (most recent call last)",
      "Cell \u001b[0;32mIn[29], line 4\u001b[0m\n\u001b[1;32m      2\u001b[0m \u001b[38;5;28mprint\u001b[39m(batch[\u001b[38;5;124m\"\u001b[39m\u001b[38;5;124mbboxes\u001b[39m\u001b[38;5;124m\"\u001b[39m])\n\u001b[1;32m      3\u001b[0m \u001b[38;5;28mprint\u001b[39m(box_convert(batch[\u001b[38;5;124m\"\u001b[39m\u001b[38;5;124mbboxes\u001b[39m\u001b[38;5;124m\"\u001b[39m][\u001b[38;5;241m0\u001b[39m], \u001b[38;5;124m\"\u001b[39m\u001b[38;5;124mxywh\u001b[39m\u001b[38;5;124m\"\u001b[39m, \u001b[38;5;124m\"\u001b[39m\u001b[38;5;124mcxcywh\u001b[39m\u001b[38;5;124m\"\u001b[39m))\n\u001b[0;32m----> 4\u001b[0m targets \u001b[38;5;241m=\u001b[39m build_targets(batch[\u001b[38;5;124m\"\u001b[39m\u001b[38;5;124mbboxes\u001b[39m\u001b[38;5;124m\"\u001b[39m], batch[\u001b[38;5;124m\"\u001b[39m\u001b[38;5;124mlabels\u001b[39m\u001b[38;5;124m\"\u001b[39m], (\u001b[38;5;241m2\u001b[39m, \u001b[38;5;241m2\u001b[39m), \u001b[43manchors\u001b[49m, \u001b[38;5;241m10\u001b[39m)\n",
      "\u001b[0;31mNameError\u001b[0m: name 'anchors' is not defined"
     ]
    }
   ],
   "source": [
    "for batch in dataloader:\n",
    "    print(batch[\"bboxes\"])\n",
    "    print(box_convert(batch[\"bboxes\"][0], \"xywh\", \"cxcywh\"))\n",
    "    targets = build_targets(batch[\"bboxes\"], batch[\"labels\"], (2, 2), anchors, 10)"
   ]
  },
  {
   "cell_type": "code",
   "execution_count": 30,
   "metadata": {},
   "outputs": [
    {
     "data": {
      "text/plain": [
       "torch.Size([2, 3, 32, 32])"
      ]
     },
     "execution_count": 30,
     "metadata": {},
     "output_type": "execute_result"
    }
   ],
   "source": [
    "batch[\"images\"].shape"
   ]
  },
  {
   "cell_type": "code",
   "execution_count": 31,
   "metadata": {},
   "outputs": [],
   "source": [
    "import json"
   ]
  },
  {
   "cell_type": "code",
   "execution_count": 34,
   "metadata": {},
   "outputs": [],
   "source": [
    "torch.manual_seed(0)\n",
    "\n",
    "config = json.load(open(\"./configs/experiment.json\", \"r\"))\n",
    "model = MiniYoloV3(**config)\n",
    "\n",
    "trainer = Trainer(\n",
    "    model=model,\n",
    "    train_dataset=train_dataset,\n",
    "    num_epochs=250,\n",
    "    lr=3e-3,\n",
    "    batch_size=64,\n",
    "    lambda_coord=0.05,\n",
    "    lambda_conf=1.0,\n",
    "    lambda_cls=0.5,\n",
    "    device=\"cpu\",\n",
    "    eval_every=100000,\n",
    ")"
   ]
  },
  {
   "cell_type": "code",
   "execution_count": 35,
   "metadata": {},
   "outputs": [
    {
     "name": "stderr",
     "output_type": "stream",
     "text": [
      "100%|██████████| 250/250 [00:37<00:00,  6.60it/s, class_loss=0.00202, conf_loss=0.00743, coord_loss=5.61e-6, loss=0.00946]\n"
     ]
    },
    {
     "data": {
      "text/plain": [
       "[3.0341224670410156,\n",
       " 2.627716064453125,\n",
       " 2.4313161373138428,\n",
       " 2.3099913597106934,\n",
       " 2.192189931869507,\n",
       " 2.1175901889801025,\n",
       " 2.035177707672119,\n",
       " 1.9565584659576416,\n",
       " 1.8849225044250488,\n",
       " 1.8181885480880737,\n",
       " 1.7539080381393433,\n",
       " 1.6904325485229492,\n",
       " 1.6175620555877686,\n",
       " 1.5395015478134155,\n",
       " 1.458115577697754,\n",
       " 1.3853180408477783,\n",
       " 1.3225994110107422,\n",
       " 1.2664278745651245,\n",
       " 1.2144463062286377,\n",
       " 1.1656688451766968,\n",
       " 1.1193848848342896,\n",
       " 1.0746665000915527,\n",
       " 1.0313712358474731,\n",
       " 0.9896274209022522,\n",
       " 0.9493676424026489,\n",
       " 0.9104199409484863,\n",
       " 0.8730162382125854,\n",
       " 0.8373173475265503,\n",
       " 0.8022511005401611,\n",
       " 0.7688409090042114,\n",
       " 0.7366065979003906,\n",
       " 0.7055004239082336,\n",
       " 0.6754875779151917,\n",
       " 0.6464528441429138,\n",
       " 0.6183043718338013,\n",
       " 0.5910999178886414,\n",
       " 0.5649488568305969,\n",
       " 0.5397700071334839,\n",
       " 0.5155220627784729,\n",
       " 0.4921817183494568,\n",
       " 0.4698314666748047,\n",
       " 0.4485046863555908,\n",
       " 0.4281432032585144,\n",
       " 0.40875282883644104,\n",
       " 0.3902958333492279,\n",
       " 0.37269067764282227,\n",
       " 0.3559592664241791,\n",
       " 0.3398968279361725,\n",
       " 0.32458245754241943,\n",
       " 0.30999627709388733,\n",
       " 0.29608771204948425,\n",
       " 0.2828570008277893,\n",
       " 0.27032387256622314,\n",
       " 0.25842100381851196,\n",
       " 0.24715262651443481,\n",
       " 0.236517533659935,\n",
       " 0.22646549344062805,\n",
       " 0.2169727385044098,\n",
       " 0.20804518461227417,\n",
       " 0.19966760277748108,\n",
       " 0.1917753517627716,\n",
       " 0.18384875357151031,\n",
       " 0.1762063056230545,\n",
       " 0.1693074256181717,\n",
       " 0.16298940777778625,\n",
       " 0.15691399574279785,\n",
       " 0.1511872559785843,\n",
       " 0.14601674675941467,\n",
       " 0.14118507504463196,\n",
       " 0.13664227724075317,\n",
       " 0.132377028465271,\n",
       " 0.12835687398910522,\n",
       " 0.12456037849187851,\n",
       " 0.12097775936126709,\n",
       " 0.11758653819561005,\n",
       " 0.11435636132955551,\n",
       " 0.11127389222383499,\n",
       " 0.10832047462463379,\n",
       " 0.10549025237560272,\n",
       " 0.10277843475341797,\n",
       " 0.10017234832048416,\n",
       " 0.09766308963298798,\n",
       " 0.0952392965555191,\n",
       " 0.09288719296455383,\n",
       " 0.09059493243694305,\n",
       " 0.08835110813379288,\n",
       " 0.08614733070135117,\n",
       " 0.08399000763893127,\n",
       " 0.08187010884284973,\n",
       " 0.07978636026382446,\n",
       " 0.07774270325899124,\n",
       " 0.07574065029621124,\n",
       " 0.07378023862838745,\n",
       " 0.07186176627874374,\n",
       " 0.06998643279075623,\n",
       " 0.06815701723098755,\n",
       " 0.06637867540121078,\n",
       " 0.06465667486190796,\n",
       " 0.06299862265586853,\n",
       " 0.06140526384115219,\n",
       " 0.059869442135095596,\n",
       " 0.05839700996875763,\n",
       " 0.05698395520448685,\n",
       " 0.05562359094619751,\n",
       " 0.054313138127326965,\n",
       " 0.05304775387048721,\n",
       " 0.05182558298110962,\n",
       " 0.050638794898986816,\n",
       " 0.04947797954082489,\n",
       " 0.048356521874666214,\n",
       " 0.047277458012104034,\n",
       " 0.04624246060848236,\n",
       " 0.0452473945915699,\n",
       " 0.04428917542099953,\n",
       " 0.04336637258529663,\n",
       " 0.04247688502073288,\n",
       " 0.04161951690912247,\n",
       " 0.04079356789588928,\n",
       " 0.03999708592891693,\n",
       " 0.039232708513736725,\n",
       " 0.03849666565656662,\n",
       " 0.0377875454723835,\n",
       " 0.037104010581970215,\n",
       " 0.03644457831978798,\n",
       " 0.03580772876739502,\n",
       " 0.035192184150218964,\n",
       " 0.03459650278091431,\n",
       " 0.03402075916528702,\n",
       " 0.03346256539225578,\n",
       " 0.032920874655246735,\n",
       " 0.032395314425230026,\n",
       " 0.031884659081697464,\n",
       " 0.03138801455497742,\n",
       " 0.030904551967978477,\n",
       " 0.030433697625994682,\n",
       " 0.029974833130836487,\n",
       " 0.02952740155160427,\n",
       " 0.02909107133746147,\n",
       " 0.028665708377957344,\n",
       " 0.028251010924577713,\n",
       " 0.027846381068229675,\n",
       " 0.02745167911052704,\n",
       " 0.02706650085747242,\n",
       " 0.026690306141972542,\n",
       " 0.026322945952415466,\n",
       " 0.025963958352804184,\n",
       " 0.0256134532392025,\n",
       " 0.025270920246839523,\n",
       " 0.02493629977107048,\n",
       " 0.02460920624434948,\n",
       " 0.024289589375257492,\n",
       " 0.023977085947990417,\n",
       " 0.02367149479687214,\n",
       " 0.023372311145067215,\n",
       " 0.023079639300704002,\n",
       " 0.022792931646108627,\n",
       " 0.022512266412377357,\n",
       " 0.022237375378608704,\n",
       " 0.021967824548482895,\n",
       " 0.02170349657535553,\n",
       " 0.021444423124194145,\n",
       " 0.0211903415620327,\n",
       " 0.020941223949193954,\n",
       " 0.02069688029587269,\n",
       " 0.02045707404613495,\n",
       " 0.020221993327140808,\n",
       " 0.019991572946310043,\n",
       " 0.019765831530094147,\n",
       " 0.01954406499862671,\n",
       " 0.01932661607861519,\n",
       " 0.019113099202513695,\n",
       " 0.01890394650399685,\n",
       " 0.018698319792747498,\n",
       " 0.018495986238121986,\n",
       " 0.0182977095246315,\n",
       " 0.018103428184986115,\n",
       " 0.017911650240421295,\n",
       " 0.01772307977080345,\n",
       " 0.017538176849484444,\n",
       " 0.017356472089886665,\n",
       " 0.01717747375369072,\n",
       " 0.017001502215862274,\n",
       " 0.016828589141368866,\n",
       " 0.016658464446663857,\n",
       " 0.016490979120135307,\n",
       " 0.0163261741399765,\n",
       " 0.01616378128528595,\n",
       " 0.0160045325756073,\n",
       " 0.015847930684685707,\n",
       " 0.01569318398833275,\n",
       " 0.01554068922996521,\n",
       " 0.015391187742352486,\n",
       " 0.015243751928210258,\n",
       " 0.015098068863153458,\n",
       " 0.014955094084143639,\n",
       " 0.014814171940088272,\n",
       " 0.014675043523311615,\n",
       " 0.014538213610649109,\n",
       " 0.014403464272618294,\n",
       " 0.014270838350057602,\n",
       " 0.014139789156615734,\n",
       " 0.014010651037096977,\n",
       " 0.013883467763662338,\n",
       " 0.013758175075054169,\n",
       " 0.013634687289595604,\n",
       " 0.013512643054127693,\n",
       " 0.013392592780292034,\n",
       " 0.013274279423058033,\n",
       " 0.013157583773136139,\n",
       " 0.013042353093624115,\n",
       " 0.012928618118166924,\n",
       " 0.012816481292247772,\n",
       " 0.012705834582448006,\n",
       " 0.012596567161381245,\n",
       " 0.012489060871303082,\n",
       " 0.01238299161195755,\n",
       " 0.012278018519282341,\n",
       " 0.012174366042017937,\n",
       " 0.012072470039129257,\n",
       " 0.011971866711974144,\n",
       " 0.011872299015522003,\n",
       " 0.011774006299674511,\n",
       " 0.011677056550979614,\n",
       " 0.01158153172582388,\n",
       " 0.011486932635307312,\n",
       " 0.011393409222364426,\n",
       " 0.011301465332508087,\n",
       " 0.011210459284484386,\n",
       " 0.011120479553937912,\n",
       " 0.011031645350158215,\n",
       " 0.010944075882434845,\n",
       " 0.010857386514544487,\n",
       " 0.010771643370389938,\n",
       " 0.010687096044421196,\n",
       " 0.010603523813188076,\n",
       " 0.010521023534238338,\n",
       " 0.010439522564411163,\n",
       " 0.01035891380161047,\n",
       " 0.010279133915901184,\n",
       " 0.010200344026088715,\n",
       " 0.010122410953044891,\n",
       " 0.010045523755252361,\n",
       " 0.009969519451260567,\n",
       " 0.009894441813230515,\n",
       " 0.009820153936743736,\n",
       " 0.00974672008305788,\n",
       " 0.009674104861915112,\n",
       " 0.009602388367056847,\n",
       " 0.009531533345580101,\n",
       " 0.009461320005357265]"
      ]
     },
     "execution_count": 35,
     "metadata": {},
     "output_type": "execute_result"
    },
    {
     "data": {
      "image/png": "[encoded data removed]",
      "text/plain": [
       "<Figure size 640x480 with 1 Axes>"
      ]
     },
     "metadata": {},
     "output_type": "display_data"
    }
   ],
   "source": [
    "trainer.train()"
   ]
  },
  {
   "cell_type": "code",
   "execution_count": 36,
   "metadata": {},
   "outputs": [
    {
     "data": {
      "text/plain": [
       "torch.Size([2, 4, 4, 30])"
      ]
     },
     "execution_count": 36,
     "metadata": {},
     "output_type": "execute_result"
    }
   ],
   "source": [
    "pred = model(batch[\"images\"])\n",
    "pred.shape"
   ]
  },
  {
   "cell_type": "code",
   "execution_count": 37,
   "metadata": {},
   "outputs": [
    {
     "data": {
      "text/plain": [
       "(tensor([ 0.0332,  0.1958, -0.1447,  0.6250, -4.9104, -0.2206,  0.3163,  0.0558,\n",
       "          0.3104, -0.4824, -0.2723, -0.6049,  0.3513,  0.2464,  0.0387, -0.6716,\n",
       "          0.8534, -0.2136,  0.5676, -5.2365, -0.4234, -1.1441, -0.6169, -0.0828,\n",
       "          0.8048, -0.6598, -0.4961,  0.5092,  0.1806, -0.1639],\n",
       "        grad_fn=<SliceBackward0>),\n",
       " tensor([-0.5065, -0.7817,  0.2088,  0.1485, -4.6454, -0.2028, -0.4158,  0.2839,\n",
       "          0.1545, -0.5851, -0.1555, -0.2461,  0.1260,  0.2443,  0.2147, -0.8175,\n",
       "          0.2232,  0.7791, -0.0826, -4.0628, -0.9305, -0.4984, -0.3817, -0.2219,\n",
       "         -0.1559, -0.2829, -0.6201,  0.7194, -0.1781, -0.4752],\n",
       "        grad_fn=<SliceBackward0>))"
      ]
     },
     "execution_count": 37,
     "metadata": {},
     "output_type": "execute_result"
    }
   ],
   "source": [
    "pred[0, 0, 0, :], pred[0, 1, 1, :]"
   ]
  },
  {
   "cell_type": "code",
   "execution_count": 42,
   "metadata": {},
   "outputs": [],
   "source": [
    "i = 0"
   ]
  },
  {
   "cell_type": "code",
   "execution_count": 43,
   "metadata": {},
   "outputs": [
    {
     "data": {
      "text/plain": [
       "[{'bboxes': tensor([[0.5902, 0.5318, 0.1640, 0.7411],\n",
       "          [0.4427, 0.5000, 0.1970, 0.7403]]),\n",
       "  'confidence': tensor([0.9965, 0.9958]),\n",
       "  'labels': tensor([1, 7]),\n",
       "  'scores': tensor([0.9998, 0.9996])},\n",
       " {'bboxes': tensor([[0.6073, 0.5000, 0.1494, 0.8715],\n",
       "          [0.4533, 0.4564, 0.1961, 0.8707]]),\n",
       "  'confidence': tensor([0.9932, 0.9898]),\n",
       "  'labels': tensor([6, 4]),\n",
       "  'scores': tensor([0.9996, 0.9996])}]"
      ]
     },
     "execution_count": 43,
     "metadata": {},
     "output_type": "execute_result"
    }
   ],
   "source": [
    "output = model.inference(\n",
    "    batch[\"images\"],\n",
    ")\n",
    "\n",
    "bounding_boxes = output.bboxes\n",
    "bounding_boxes"
   ]
  },
  {
   "cell_type": "code",
   "execution_count": 44,
   "metadata": {},
   "outputs": [
    {
     "data": {
      "text/plain": [
       "<matplotlib.image.AxesImage at 0x2b6081960>"
      ]
     },
     "execution_count": 44,
     "metadata": {},
     "output_type": "execute_result"
    },
    {
     "data": {
      "image/png": "[encoded data removed]",
      "text/plain": [
       "<Figure size 640x480 with 1 Axes>"
      ]
     },
     "metadata": {},
     "output_type": "display_data"
    }
   ],
   "source": [
    "plt.imshow(\n",
    "    draw_bounding_boxes(batch[\"images\"][i],\n",
    "                        box_convert(\n",
    "                            bounding_boxes[i][\"bboxes\"], \n",
    "                            \"cxcywh\",\n",
    "                            \"xyxy\"\n",
    "                        ), \n",
    "                        bounding_boxes[i][\"labels\"]\n",
    ")\n",
    ")"
   ]
  },
  {
   "cell_type": "code",
   "execution_count": 45,
   "metadata": {},
   "outputs": [
    {
     "data": {
      "image/jpeg": "[encoded data removed]",
      "image/png": "[encoded data removed]",
      "text/plain": [
       "<PIL.Image.Image image mode=RGB size=256x256>"
      ]
     },
     "execution_count": 45,
     "metadata": {},
     "output_type": "execute_result"
    }
   ],
   "source": [
    "draw_bounding_boxes(batch[\"images\"][i],\n",
    "                        box_convert(\n",
    "                            bounding_boxes[i][\"bboxes\"], \n",
    "                            \"cxcywh\",\n",
    "                            \"xyxy\"\n",
    "                        ), \n",
    "                        bounding_boxes[i][\"labels\"]\n",
    ").resize((256, 256), 0)"
   ]
  },
  {
   "cell_type": "code",
   "execution_count": 83,
   "metadata": {},
   "outputs": [
    {
     "name": "stderr",
     "output_type": "stream",
     "text": [
      "100%|██████████| 1/1 [00:00<00:00, 52.11it/s]\n"
     ]
    },
    {
     "data": {
      "text/plain": [
       "{'map': 1.0,\n",
       " 'map_50': 1.0,\n",
       " 'map_75': 1.0,\n",
       " 'map_small': 1.0,\n",
       " 'map_medium': -1.0,\n",
       " 'map_large': -1.0,\n",
       " 'mar_1': 1.0,\n",
       " 'mar_10': 1.0,\n",
       " 'mar_100': 1.0,\n",
       " 'mar_small': 1.0,\n",
       " 'mar_medium': -1.0,\n",
       " 'mar_large': -1.0,\n",
       " 'map_per_class': -1.0,\n",
       " 'mar_100_per_class': -1.0,\n",
       " 'classes': [1, 4, 6, 7]}"
      ]
     },
     "execution_count": 83,
     "metadata": {},
     "output_type": "execute_result"
    }
   ],
   "source": [
    "calculate_mAP(\n",
    "    model,\n",
    "    trainer.train_loader,\n",
    ")"
   ]
  },
  {
   "cell_type": "code",
   "execution_count": null,
   "metadata": {},
   "outputs": [],
   "source": []
  }
 ],
 "metadata": {
  "kernelspec": {
   "display_name": "mini-yolov3-a3VRlvzj-py3.10",
   "language": "python",
   "name": "python3"
  },
  "language_info": {
   "codemirror_mode": {
    "name": "ipython",
    "version": 3
   },
   "file_extension": ".py",
   "mimetype": "text/x-python",
   "name": "python",
   "nbconvert_exporter": "python",
   "pygments_lexer": "ipython3",
   "version": "3.10.13"
  }
 },
 "nbformat": 4,
 "nbformat_minor": 2
}
