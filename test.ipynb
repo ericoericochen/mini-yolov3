{
 "cells": [
  {
   "cell_type": "code",
   "execution_count": 1,
   "metadata": {},
   "outputs": [],
   "source": [
    "%load_ext autoreload\n",
    "%autoreload 2"
   ]
  },
  {
   "cell_type": "code",
   "execution_count": 163,
   "metadata": {},
   "outputs": [],
   "source": [
    "from mini_yolov3.dataset import SVHNDataset, collate_fn\n",
    "from torchvision.transforms import v2\n",
    "from mini_yolov3.utils import draw_bounding_boxes, draw_grid\n",
    "from torchvision.ops import box_convert\n",
    "import matplotlib.pyplot as plt\n",
    "from torch.utils.data import DataLoader\n",
    "from mini_yolov3.loss import YOLOLoss, build_targets\n",
    "import torch\n",
    "from torchvision.ops import box_convert\n",
    "from mini_yolov3.model_output import YoloV3Output"
   ]
  },
  {
   "cell_type": "code",
   "execution_count": 42,
   "metadata": {},
   "outputs": [
    {
     "name": "stderr",
     "output_type": "stream",
     "text": [
      "/Users/ericchen/Library/Caches/pypoetry/virtualenvs/mini-yolov3-a3VRlvzj-py3.10/lib/python3.10/site-packages/torchvision/transforms/v2/_deprecated.py:41: UserWarning: The transform `ToTensor()` is deprecated and will be removed in a future release. Instead, please use `v2.Compose([v2.ToImage(), v2.ToDtype(torch.float32, scale=True)])`.\n",
      "  warnings.warn(\n"
     ]
    }
   ],
   "source": [
    "dataset = SVHNDataset(split=\"train\", \n",
    "                      image_transform=v2.Compose([\n",
    "                        v2.ToTensor(),\n",
    "                        v2.Resize((64, 64))  \n",
    "                      ]))"
   ]
  },
  {
   "cell_type": "code",
   "execution_count": 43,
   "metadata": {},
   "outputs": [],
   "source": [
    "dataloader = DataLoader(dataset, batch_size=1, shuffle=False, collate_fn=collate_fn)"
   ]
  },
  {
   "cell_type": "code",
   "execution_count": 45,
   "metadata": {},
   "outputs": [],
   "source": [
    "anchors = torch.Tensor([[0.2, 0.8]])"
   ]
  },
  {
   "cell_type": "code",
   "execution_count": 84,
   "metadata": {},
   "outputs": [],
   "source": [
    "item = dataset[0]"
   ]
  },
  {
   "cell_type": "code",
   "execution_count": 147,
   "metadata": {},
   "outputs": [
    {
     "name": "stdout",
     "output_type": "stream",
     "text": [
      "[tensor([[0.3551, 0.0217, 0.1963, 0.8696],\n",
      "        [0.5327, 0.0652, 0.1495, 0.8696]])]\n",
      "tensor([[0.3551, 0.0217, 0.5514, 0.8913],\n",
      "        [0.5327, 0.0652, 0.6822, 0.9348]])\n"
     ]
    }
   ],
   "source": [
    "for x in dataloader:\n",
    "    print(x[\"bboxes\"])\n",
    "    print(box_convert(x[\"bboxes\"][0], in_fmt=\"xywh\", out_fmt=\"xyxy\"))\n",
    "    target = build_targets(\n",
    "        bboxes=x[\"bboxes\"],\n",
    "        labels=x[\"labels\"],\n",
    "        anchors=anchors,\n",
    "        grid_size=(2, 2),\n",
    "        num_classes=10\n",
    "    )\n",
    "\n",
    "    break"
   ]
  },
  {
   "cell_type": "code",
   "execution_count": 78,
   "metadata": {},
   "outputs": [
    {
     "data": {
      "text/plain": [
       "(tensor([-0.1875, -0.1744, -0.0189,  0.0834,  1.0000,  0.0000,  0.0000,  0.0000,\n",
       "          0.0000,  1.0000,  0.0000,  0.0000,  0.0000,  0.0000,  0.0000]),\n",
       " tensor([ -2.1168, -18.4207,  -0.2908,   0.0834,   1.0000,   0.0000,   0.0000,\n",
       "           0.0000,   0.0000,   0.0000,   0.0000,   1.0000,   0.0000,   0.0000,\n",
       "           0.0000]))"
      ]
     },
     "execution_count": 78,
     "metadata": {},
     "output_type": "execute_result"
    }
   ],
   "source": [
    "target[0, :, 0, 0], target[0, :, 1, 1]"
   ]
  },
  {
   "cell_type": "code",
   "execution_count": 134,
   "metadata": {},
   "outputs": [
    {
     "data": {
      "text/plain": [
       "(torch.Size([1, 15, 2, 2]),\n",
       " tensor([-0.2875, -0.2744, -0.1189, -0.0166,  0.9000,  0.0000,  0.0000,  0.0000,\n",
       "          0.0000,  0.9500,  0.0000,  0.0000,  0.0000,  0.0000,  0.0000]),\n",
       " tensor([ -2.1168, -18.4207,  -0.2908,   0.0834,   0.8900,   0.0000,   0.0000,\n",
       "           0.0000,   0.0000,   0.0000,   0.0000,   0.9800,   0.0000,   0.0000,\n",
       "           0.0000]))"
      ]
     },
     "execution_count": 134,
     "metadata": {},
     "output_type": "execute_result"
    }
   ],
   "source": [
    "# construct mock pred\n",
    "pred = torch.zeros((1, anchors.shape[0] * (5 + 10), 2, 2))\n",
    "\n",
    "pred[0, :5, 0, 0] = target[0, :5 , 0, 0] # first cell\n",
    "pred[0, 4 + 5, 0, 0] = 0.95 # class pred\n",
    "pred[0, 4, 0, 0] = 0.9 # confidence\n",
    "pred[0, :4, 0, 0] -= 0.1 # xywh\n",
    "pred[0, :5, 1, 1] = target[0, :5, 1, 1] # second cell\n",
    "pred[0, 4 + 7, 1, 1] = 0.98 # class pred\n",
    "pred[0, 4, 1, 1] = 0.89 # confidence\n",
    "\n",
    "pred.shape, pred[0, :, 0, 0], pred[0, :, 1, 1]"
   ]
  },
  {
   "cell_type": "code",
   "execution_count": 141,
   "metadata": {},
   "outputs": [],
   "source": [
    "criterion = YOLOLoss(num_classes=10, anchors=anchors)"
   ]
  },
  {
   "cell_type": "code",
   "execution_count": 162,
   "metadata": {},
   "outputs": [
    {
     "data": {
      "text/plain": [
       "tensor(0.1195, grad_fn=<AddBackward0>)"
      ]
     },
     "execution_count": 162,
     "metadata": {},
     "output_type": "execute_result"
    }
   ],
   "source": [
    "pred.requires_grad = True\n",
    "criterion(pred, x[\"bboxes\"], x[\"labels\"])"
   ]
  },
  {
   "cell_type": "code",
   "execution_count": 85,
   "metadata": {},
   "outputs": [
    {
     "data": {
      "text/plain": [
       "<matplotlib.image.AxesImage at 0x2b1dd95d0>"
      ]
     },
     "execution_count": 85,
     "metadata": {},
     "output_type": "execute_result"
    },
    {
     "data": {
      "image/png": "[encoded data removed]",
      "text/plain": [
       "<Figure size 640x480 with 1 Axes>"
      ]
     },
     "metadata": {},
     "output_type": "display_data"
    }
   ],
   "source": [
    "plt.imshow(draw_grid(item[\"image\"], grid_size=64//2))"
   ]
  },
  {
   "cell_type": "code",
   "execution_count": 86,
   "metadata": {},
   "outputs": [
    {
     "data": {
      "text/plain": [
       "<matplotlib.image.AxesImage at 0x2b1e40ac0>"
      ]
     },
     "execution_count": 86,
     "metadata": {},
     "output_type": "execute_result"
    },
    {
     "data": {
      "image/png": "[encoded data removed]",
      "text/plain": [
       "<Figure size 640x480 with 1 Axes>"
      ]
     },
     "metadata": {},
     "output_type": "display_data"
    }
   ],
   "source": [
    "plt.imshow(\n",
    "    draw_bounding_boxes(\n",
    "        image=item[\"image\"],\n",
    "        bboxes=box_convert(item[\"bbox\"], in_fmt=\"xywh\", out_fmt=\"xyxy\"),\n",
    "        labels=item[\"labels\"]\n",
    "    )\n",
    ")"
   ]
  },
  {
   "cell_type": "code",
   "execution_count": 187,
   "metadata": {},
   "outputs": [
    {
     "data": {
      "text/plain": [
       "tensor([[2., 2.],\n",
       "        [2., 2.]])"
      ]
     },
     "execution_count": 187,
     "metadata": {},
     "output_type": "execute_result"
    }
   ],
   "source": [
    "a = torch.ones(1, 2, 2, 10)\n",
    "b = torch.ones(1, 2, 2, 1)\n",
    "\n",
    "(a + b)[0][:, :, 0]"
   ]
  },
  {
   "cell_type": "code",
   "execution_count": 188,
   "metadata": {},
   "outputs": [],
   "source": [
    "output = YoloV3Output(pred, anchors, num_classes=10)"
   ]
  },
  {
   "cell_type": "code",
   "execution_count": 198,
   "metadata": {},
   "outputs": [
    {
     "data": {
      "text/plain": [
       "[{'bboxes': tensor([[0.3398, 0.0384, 0.1776, 0.7868],\n",
       "          [0.5327, 0.0652, 0.1495, 0.8696]], grad_fn=<StackBackward0>),\n",
       "  'confidence': tensor([0.9000, 0.8900], grad_fn=<SelectBackward0>),\n",
       "  'labels': tensor([4, 6])}]"
      ]
     },
     "execution_count": 198,
     "metadata": {},
     "output_type": "execute_result"
    }
   ],
   "source": [
    "output.bounding_boxes()"
   ]
  },
  {
   "cell_type": "code",
   "execution_count": 191,
   "metadata": {},
   "outputs": [
    {
     "data": {
      "text/plain": [
       "0.5174"
      ]
     },
     "execution_count": 191,
     "metadata": {},
     "output_type": "execute_result"
    }
   ],
   "source": [
    "0.4286 + 0.1776 /2"
   ]
  },
  {
   "cell_type": "code",
   "execution_count": null,
   "metadata": {},
   "outputs": [],
   "source": []
  }
 ],
 "metadata": {
  "kernelspec": {
   "display_name": "mini-yolov3-a3VRlvzj-py3.10",
   "language": "python",
   "name": "python3"
  },
  "language_info": {
   "codemirror_mode": {
    "name": "ipython",
    "version": 3
   },
   "file_extension": ".py",
   "mimetype": "text/x-python",
   "name": "python",
   "nbconvert_exporter": "python",
   "pygments_lexer": "ipython3",
   "version": "3.10.13"
  }
 },
 "nbformat": 4,
 "nbformat_minor": 2
}
