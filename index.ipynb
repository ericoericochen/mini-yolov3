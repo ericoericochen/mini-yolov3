{
 "cells": [
  {
   "cell_type": "code",
   "execution_count": 156,
   "metadata": {},
   "outputs": [
    {
     "name": "stdout",
     "output_type": "stream",
     "text": [
      "The autoreload extension is already loaded. To reload it, use:\n",
      "  %reload_ext autoreload\n"
     ]
    }
   ],
   "source": [
    "%load_ext autoreload\n",
    "%autoreload 2"
   ]
  },
  {
   "cell_type": "code",
   "execution_count": 177,
   "metadata": {},
   "outputs": [],
   "source": [
    "import torch\n",
    "from datasets import load_dataset\n",
    "from mini_yolov3.dataset import SVNHDataset, collate_fn\n",
    "from mini_yolov3.inference import non_maximum_suppression\n",
    "from mini_yolov3.utils import coco_to_xyxy, draw_bounding_boxes, draw_grid, box_iou\n",
    "import torchvision\n",
    "import matplotlib.pyplot as plt\n",
    "from torch.utils.data import DataLoader\n",
    "from mini_yolov3.loss import build_target, YOLOLoss, build_targets"
   ]
  },
  {
   "cell_type": "code",
   "execution_count": 185,
   "metadata": {},
   "outputs": [],
   "source": [
    "dataset = SVNHDataset(split=\"train\", image_size=64, normalize=True, type=\"tensor\", bbox_format=\"xywh\")"
   ]
  },
  {
   "cell_type": "code",
   "execution_count": 186,
   "metadata": {},
   "outputs": [],
   "source": [
    "dataloader = DataLoader(dataset, batch_size=1, shuffle=False, collate_fn=collate_fn)"
   ]
  },
  {
   "cell_type": "code",
   "execution_count": 212,
   "metadata": {},
   "outputs": [],
   "source": [
    "anchors = torch.Tensor([[0.2, 0.8], [0.8, 0.2]])"
   ]
  },
  {
   "cell_type": "code",
   "execution_count": 224,
   "metadata": {},
   "outputs": [
    {
     "name": "stdout",
     "output_type": "stream",
     "text": [
      "[tensor([[0.4533, 0.4565, 0.1963, 0.8696],\n",
      "        [0.6075, 0.5000, 0.1495, 0.8696]])]\n",
      "building targets\n",
      "A 2\n",
      "cell size: 0.5\n",
      "xy tensor([[0.4533, 0.4565],\n",
      "        [0.6075, 0.5000]])\n",
      "cell and offsets\n",
      "tensor([[0, 0],\n",
      "        [1, 1]], dtype=torch.int32) tensor([[0.0000, 0.0000],\n",
      "        [0.5000, 0.5000]])\n"
     ]
    }
   ],
   "source": [
    "for x in dataloader:\n",
    "    bbox = x[\"bbox\"]\n",
    "    labels = x[\"labels\"]\n",
    "\n",
    "    print(bbox)\n",
    "\n",
    "    target = build_targets(bbox, grid_size=2, labels=labels, anchors=anchors, bbox_format=\"xywh\")\n",
    "\n",
    "    break"
   ]
  },
  {
   "cell_type": "code",
   "execution_count": 226,
   "metadata": {},
   "outputs": [
    {
     "data": {
      "text/plain": [
       "tensor([[-0.1875, -0.1744, -0.0189,  0.0834, -1.4052,  1.4697,  1.0000,  4.0000]])"
      ]
     },
     "execution_count": 226,
     "metadata": {},
     "output_type": "execute_result"
    }
   ],
   "source": [
    "target[:, :, 0, 0]"
   ]
  },
  {
   "cell_type": "code",
   "execution_count": 162,
   "metadata": {},
   "outputs": [
    {
     "data": {
      "text/plain": [
       "tensor([0.6075, 0.5000, 0.1495, 0.8696, 1.0000, 6.0000])"
      ]
     },
     "execution_count": 162,
     "metadata": {},
     "output_type": "execute_result"
    }
   ],
   "source": [
    "target[0][:, 1, 1]"
   ]
  },
  {
   "cell_type": "code",
   "execution_count": 163,
   "metadata": {},
   "outputs": [
    {
     "data": {
      "text/plain": [
       "tensor([[[0.9569, 0.9529, 0.9490,  ..., 0.9569, 0.9569, 0.9529],\n",
       "         [0.9529, 0.9529, 0.9529,  ..., 0.9529, 0.9529, 0.9529],\n",
       "         [0.9529, 0.9529, 0.9529,  ..., 0.9529, 0.9529, 0.9529],\n",
       "         ...,\n",
       "         [0.9569, 0.9569, 0.9569,  ..., 0.9451, 0.9490, 0.9529],\n",
       "         [0.9608, 0.9608, 0.9608,  ..., 0.9451, 0.9490, 0.9529],\n",
       "         [0.9647, 0.9647, 0.9647,  ..., 0.9490, 0.9529, 0.9569]],\n",
       "\n",
       "        [[0.9922, 0.9882, 0.9843,  ..., 0.9882, 0.9882, 0.9843],\n",
       "         [0.9882, 0.9882, 0.9882,  ..., 0.9843, 0.9843, 0.9843],\n",
       "         [0.9882, 0.9882, 0.9882,  ..., 0.9843, 0.9843, 0.9843],\n",
       "         ...,\n",
       "         [0.9843, 0.9843, 0.9843,  ..., 0.9843, 0.9843, 0.9804],\n",
       "         [0.9843, 0.9843, 0.9843,  ..., 0.9804, 0.9804, 0.9804],\n",
       "         [0.9804, 0.9804, 0.9843,  ..., 0.9765, 0.9765, 0.9765]],\n",
       "\n",
       "        [[0.9882, 0.9843, 0.9804,  ..., 0.9961, 0.9961, 0.9922],\n",
       "         [0.9843, 0.9843, 0.9843,  ..., 0.9922, 0.9922, 0.9922],\n",
       "         [0.9843, 0.9843, 0.9843,  ..., 0.9922, 0.9922, 0.9922],\n",
       "         ...,\n",
       "         [0.9843, 0.9843, 0.9843,  ..., 0.9922, 0.9804, 0.9686],\n",
       "         [0.9804, 0.9843, 0.9843,  ..., 0.9882, 0.9804, 0.9686],\n",
       "         [0.9765, 0.9843, 0.9804,  ..., 0.9804, 0.9765, 0.9647]]])"
      ]
     },
     "execution_count": 163,
     "metadata": {},
     "output_type": "execute_result"
    }
   ],
   "source": [
    "item = dataset[0]\n",
    "image = item[\"image\"]\n",
    "image"
   ]
  },
  {
   "cell_type": "code",
   "execution_count": 164,
   "metadata": {},
   "outputs": [
    {
     "data": {
      "text/plain": [
       "<matplotlib.image.AxesImage at 0x2cdea2c20>"
      ]
     },
     "execution_count": 164,
     "metadata": {},
     "output_type": "execute_result"
    },
    {
     "data": {
      "image/png": "[encoded data removed]",
      "text/plain": [
       "<Figure size 640x480 with 1 Axes>"
      ]
     },
     "metadata": {},
     "output_type": "display_data"
    }
   ],
   "source": [
    "plt.imshow(image.permute(1, 2, 0))"
   ]
  },
  {
   "cell_type": "code",
   "execution_count": 165,
   "metadata": {},
   "outputs": [
    {
     "ename": "AttributeError",
     "evalue": "'Tensor' object has no attribute 'copy'",
     "output_type": "error",
     "traceback": [
      "\u001b[0;31m---------------------------------------------------------------------------\u001b[0m",
      "\u001b[0;31mAttributeError\u001b[0m                            Traceback (most recent call last)",
      "Cell \u001b[0;32mIn[165], line 1\u001b[0m\n\u001b[0;32m----> 1\u001b[0m plt\u001b[38;5;241m.\u001b[39mimshow(\u001b[43mdraw_grid\u001b[49m\u001b[43m(\u001b[49m\u001b[43mimage\u001b[49m\u001b[43m,\u001b[49m\u001b[43m \u001b[49m\u001b[43mgrid_size\u001b[49m\u001b[38;5;241;43m=\u001b[39;49m\u001b[38;5;241;43m64\u001b[39;49m\u001b[38;5;241;43m/\u001b[39;49m\u001b[38;5;241;43m/\u001b[39;49m\u001b[38;5;241;43m2\u001b[39;49m\u001b[43m)\u001b[49m)\n",
      "File \u001b[0;32m~/Eric/mini-yolov3/mini_yolov3/utils.py:105\u001b[0m, in \u001b[0;36mdraw_grid\u001b[0;34m(image, grid_size)\u001b[0m\n\u001b[1;32m    104\u001b[0m \u001b[38;5;28;01mdef\u001b[39;00m \u001b[38;5;21mdraw_grid\u001b[39m(image, grid_size):\n\u001b[0;32m--> 105\u001b[0m     image \u001b[38;5;241m=\u001b[39m \u001b[43mimage\u001b[49m\u001b[38;5;241;43m.\u001b[39;49m\u001b[43mcopy\u001b[49m()\n\u001b[1;32m    107\u001b[0m     \u001b[38;5;66;03m# Create a drawing object\u001b[39;00m\n\u001b[1;32m    108\u001b[0m     draw \u001b[38;5;241m=\u001b[39m ImageDraw\u001b[38;5;241m.\u001b[39mDraw(image)\n",
      "\u001b[0;31mAttributeError\u001b[0m: 'Tensor' object has no attribute 'copy'"
     ]
    }
   ],
   "source": [
    "plt.imshow(draw_grid(image, grid_size=64//2))"
   ]
  },
  {
   "cell_type": "code",
   "execution_count": 166,
   "metadata": {},
   "outputs": [
    {
     "data": {
      "text/plain": [
       "torch.Size([1, 30, 2, 2])"
      ]
     },
     "execution_count": 166,
     "metadata": {},
     "output_type": "execute_result"
    }
   ],
   "source": [
    "pred = torch.zeros((1, 2 * (5 + 10), 2, 2))\n",
    "pred.shape"
   ]
  },
  {
   "cell_type": "code",
   "execution_count": 167,
   "metadata": {},
   "outputs": [],
   "source": [
    "pred[0, :5, 0, 0] = target[0, :5 , 0, 0]\n",
    "pred[0, 8] = 0.9\n",
    "pred[0, 4, 0, 0] = 0.9\n",
    "pred[0, 15: 20, 0, 0] = target[0, :5, 0, 0]\n",
    "pred[0, 15, 0, 0] -= 0.1\n",
    "\n",
    "pred[0, 4, 0, 1] = 0.3\n",
    "\n",
    "pred[0, 15:20, 1, 1] = target[0, :5 , 1, 1]\n",
    "pred[0, 15:17, 1, 1] -= 0.53\n",
    "# pred[0, 15:19, 1, 1] -= 0.01\n",
    "pred[0, 25, 1, 1] = 0.9"
   ]
  },
  {
   "cell_type": "code",
   "execution_count": 168,
   "metadata": {},
   "outputs": [
    {
     "data": {
      "text/plain": [
       "tensor([ 0.0000,  0.0000,  0.0000,  0.0000,  0.0000,  0.0000,  0.0000,  0.0000,\n",
       "         0.9000,  0.0000,  0.0000,  0.0000,  0.0000,  0.0000,  0.0000,  0.0775,\n",
       "        -0.0300,  0.1495,  0.8696,  1.0000,  0.0000,  0.0000,  0.0000,  0.0000,\n",
       "         0.0000,  0.9000,  0.0000,  0.0000,  0.0000,  0.0000])"
      ]
     },
     "execution_count": 168,
     "metadata": {},
     "output_type": "execute_result"
    }
   ],
   "source": [
    "pred[0, :, 1, 1]"
   ]
  },
  {
   "cell_type": "code",
   "execution_count": 169,
   "metadata": {},
   "outputs": [],
   "source": [
    "criterion = YOLOLoss(num_anchors=2)"
   ]
  },
  {
   "cell_type": "code",
   "execution_count": 170,
   "metadata": {},
   "outputs": [
    {
     "name": "stdout",
     "output_type": "stream",
     "text": [
      "tensor([[0, 0],\n",
      "        [1, 1]], dtype=torch.int32)\n"
     ]
    },
    {
     "data": {
      "text/plain": [
       "tensor(2.5811)"
      ]
     },
     "execution_count": 170,
     "metadata": {},
     "output_type": "execute_result"
    }
   ],
   "source": [
    "criterion(pred, bbox, labels)"
   ]
  },
  {
   "cell_type": "code",
   "execution_count": 174,
   "metadata": {},
   "outputs": [
    {
     "name": "stdout",
     "output_type": "stream",
     "text": [
      "tensor([[[[ 0.4533,  0.0000],\n",
      "          [ 0.0000,  0.0000]],\n",
      "\n",
      "         [[ 0.4565,  0.0000],\n",
      "          [ 0.0000,  0.0000]],\n",
      "\n",
      "         [[ 0.1963,  0.0000],\n",
      "          [ 0.0000,  0.0000]],\n",
      "\n",
      "         [[ 0.8696,  0.0000],\n",
      "          [ 0.0000,  0.0000]],\n",
      "\n",
      "         [[ 0.9000,  0.3000],\n",
      "          [ 0.0000,  0.0000]],\n",
      "\n",
      "         [[ 0.0000,  0.0000],\n",
      "          [ 0.0000,  0.0000]],\n",
      "\n",
      "         [[ 0.0000,  0.0000],\n",
      "          [ 0.0000,  0.0000]],\n",
      "\n",
      "         [[ 0.0000,  0.0000],\n",
      "          [ 0.0000,  0.0000]],\n",
      "\n",
      "         [[ 0.9000,  0.9000],\n",
      "          [ 0.9000,  0.9000]],\n",
      "\n",
      "         [[ 0.0000,  0.0000],\n",
      "          [ 0.0000,  0.0000]],\n",
      "\n",
      "         [[ 0.0000,  0.0000],\n",
      "          [ 0.0000,  0.0000]],\n",
      "\n",
      "         [[ 0.0000,  0.0000],\n",
      "          [ 0.0000,  0.0000]],\n",
      "\n",
      "         [[ 0.0000,  0.0000],\n",
      "          [ 0.0000,  0.0000]],\n",
      "\n",
      "         [[ 0.0000,  0.0000],\n",
      "          [ 0.0000,  0.0000]],\n",
      "\n",
      "         [[ 0.0000,  0.0000],\n",
      "          [ 0.0000,  0.0000]],\n",
      "\n",
      "         [[ 0.3533,  0.0000],\n",
      "          [ 0.0000,  0.0775]],\n",
      "\n",
      "         [[ 0.4565,  0.0000],\n",
      "          [ 0.0000, -0.0300]],\n",
      "\n",
      "         [[ 0.1963,  0.0000],\n",
      "          [ 0.0000,  0.1495]],\n",
      "\n",
      "         [[ 0.8696,  0.0000],\n",
      "          [ 0.0000,  0.8696]],\n",
      "\n",
      "         [[ 1.0000,  0.0000],\n",
      "          [ 0.0000,  1.0000]],\n",
      "\n",
      "         [[ 0.0000,  0.0000],\n",
      "          [ 0.0000,  0.0000]],\n",
      "\n",
      "         [[ 0.0000,  0.0000],\n",
      "          [ 0.0000,  0.0000]],\n",
      "\n",
      "         [[ 0.0000,  0.0000],\n",
      "          [ 0.0000,  0.0000]],\n",
      "\n",
      "         [[ 0.0000,  0.0000],\n",
      "          [ 0.0000,  0.0000]],\n",
      "\n",
      "         [[ 0.0000,  0.0000],\n",
      "          [ 0.0000,  0.0000]],\n",
      "\n",
      "         [[ 0.0000,  0.0000],\n",
      "          [ 0.0000,  0.9000]],\n",
      "\n",
      "         [[ 0.0000,  0.0000],\n",
      "          [ 0.0000,  0.0000]],\n",
      "\n",
      "         [[ 0.0000,  0.0000],\n",
      "          [ 0.0000,  0.0000]],\n",
      "\n",
      "         [[ 0.0000,  0.0000],\n",
      "          [ 0.0000,  0.0000]],\n",
      "\n",
      "         [[ 0.0000,  0.0000],\n",
      "          [ 0.0000,  0.0000]]]])\n"
     ]
    }
   ],
   "source": [
    "non_maximum_suppression(pred)"
   ]
  },
  {
   "cell_type": "code",
   "execution_count": null,
   "metadata": {},
   "outputs": [],
   "source": []
  }
 ],
 "metadata": {
  "kernelspec": {
   "display_name": "mini-yolov3-a3VRlvzj-py3.10",
   "language": "python",
   "name": "python3"
  },
  "language_info": {
   "codemirror_mode": {
    "name": "ipython",
    "version": 3
   },
   "file_extension": ".py",
   "mimetype": "text/x-python",
   "name": "python",
   "nbconvert_exporter": "python",
   "pygments_lexer": "ipython3",
   "version": "3.10.13"
  }
 },
 "nbformat": 4,
 "nbformat_minor": 2
}
