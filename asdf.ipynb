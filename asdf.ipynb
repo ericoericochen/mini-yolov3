{
 "cells": [
  {
   "cell_type": "code",
   "execution_count": 6,
   "metadata": {},
   "outputs": [],
   "source": [
    "import torch.nn as nn\n",
    "from mini_yolov3.model import MiniYOLOV3\n",
    "import torch"
   ]
  },
  {
   "cell_type": "code",
   "execution_count": 7,
   "metadata": {},
   "outputs": [],
   "source": [
    "net = nn.Sequential(\n",
    "    nn.Conv2d(3, 15, 3, 1)\n",
    ")"
   ]
  },
  {
   "cell_type": "code",
   "execution_count": 8,
   "metadata": {},
   "outputs": [],
   "source": [
    "anchors = torch.tensor([0.2, 0.8])"
   ]
  },
  {
   "cell_type": "code",
   "execution_count": 9,
   "metadata": {},
   "outputs": [],
   "source": [
    "net = MiniYOLOV3(\n",
    "    32, 10, anchors\n",
    ")"
   ]
  },
  {
   "cell_type": "code",
   "execution_count": 13,
   "metadata": {},
   "outputs": [
    {
     "name": "stderr",
     "output_type": "stream",
     "text": [
      "100%|██████████| 1000/1000 [00:01<00:00, 813.36it/s, loss=0.0338]\n"
     ]
    }
   ],
   "source": [
    "net = MiniYOLOV3(\n",
    "    32, 10, anchors\n",
    ")\n",
    "\n",
    "# write train loop with tqdm to show loss, use postfix\n",
    "import torch\n",
    "import torch.optim as optim\n",
    "\n",
    "optimizer = optim.SGD(net.parameters(), lr=0.0001)\n",
    "criterion = nn.MSELoss()\n",
    "\n",
    "x = torch.randn(1, 3, 32, 32)\n",
    "target = torch.zeros_like(net(x))\n",
    "\n",
    "from tqdm import tqdm\n",
    "\n",
    "with tqdm(range(1000)) as pbar:\n",
    "    for i in pbar:\n",
    "        optimizer.zero_grad()\n",
    "        output = net(x)\n",
    "        loss = criterion(output.permute(0, 2, 3, 1), target.permute(0, 2, 3, 1))\n",
    "        loss.backward()\n",
    "        optimizer.step()\n",
    "        pbar.set_postfix(loss=loss.item())"
   ]
  },
  {
   "cell_type": "code",
   "execution_count": null,
   "metadata": {},
   "outputs": [],
   "source": []
  },
  {
   "cell_type": "code",
   "execution_count": null,
   "metadata": {},
   "outputs": [],
   "source": []
  }
 ],
 "metadata": {
  "kernelspec": {
   "display_name": "mini-yolov3-a3VRlvzj-py3.10",
   "language": "python",
   "name": "python3"
  },
  "language_info": {
   "codemirror_mode": {
    "name": "ipython",
    "version": 3
   },
   "file_extension": ".py",
   "mimetype": "text/x-python",
   "name": "python",
   "nbconvert_exporter": "python",
   "pygments_lexer": "ipython3",
   "version": "3.10.13"
  }
 },
 "nbformat": 4,
 "nbformat_minor": 2
}
